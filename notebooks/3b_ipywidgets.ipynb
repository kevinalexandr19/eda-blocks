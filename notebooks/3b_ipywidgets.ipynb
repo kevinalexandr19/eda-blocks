{
 "cells": [
  {
   "cell_type": "markdown",
   "id": "69b8e1e9-f18d-4cba-aaa3-b8333953c0e2",
   "metadata": {
    "tags": []
   },
   "source": [
    "# <span style=\"color:gold\">**Agregando interactividad en Python**</span>\n",
    "***\n",
    "\n",
    "### **Editado por: Kevin Alexander Gómez**\n",
    "#### Contacto: kevinalexandr19@gmail.com | [Linkedin](https://www.linkedin.com/in/kevin-alexander-g%C3%B3mez-2b0263111/) | [Github](https://github.com/kevinalexandr19)\n",
    "***"
   ]
  },
  {
   "cell_type": "markdown",
   "id": "847e8145-a871-4a05-9902-d254e2f2112e",
   "metadata": {},
   "source": [
    "### **Descripción**\n",
    "\n",
    "En este tutorial, le daremos un vistazo a <span style=\"color:gold\">ipywidgets</span> y sus herramientas interactivas para el análisis exploratorio de datos.\n",
    "\n",
    "Este Notebook es parte del proyecto [**Python para Geólogos**](https://github.com/kevinalexandr19/manual-python-geologia), y ha sido creado con la finalidad de facilitar el aprendizaje en Python para estudiantes y profesionales en el campo de la Geología.\n",
    "***"
   ]
  },
  {
   "cell_type": "markdown",
   "id": "09e6b71b-3a60-4f0a-a4f7-a21e81b108e3",
   "metadata": {},
   "source": [
    "## **1. Interactividad dentro de un notebook de Jupyter**\n",
    "\n",
    "Un <span style=\"color:gold\">notebook de Jupyter</span> es una herramienta muy poderosa para el análisis exploratorio de datos.\\\n",
    "Gracias a Jupyter, podemos cargar, procesar y visualizar toda nuestra información. También podemos desarrollar software y generar nuevos resultados.\n",
    "\n",
    "Los científicos de datos utilizan Jupyter para documentar su trabajo, explorar y experimentar con nuevos algoritmos y flujos de trabajo.\n",
    "\n",
    "Es en esta actividad que el uso de <span style=\"color:gold\">herramientas interactivas</span> es tan importante.\\\n",
    "Los <span style=\"color:gold\">widgets de Jupyter</span> nos permiten visualizar resultados o crear mini-aplicaciones web que faciliten la exploración del contenido y la interacción con los datos.\n",
    "\n",
    "***"
   ]
  },
  {
   "cell_type": "markdown",
   "id": "c2e916eb-20be-43d4-bb81-5adfba5f7aae",
   "metadata": {},
   "source": [
    "## **2. Interacción con valores numéricos**\n",
    "Empezamos importando la librería de widgets de Jupyter:"
   ]
  },
  {
   "cell_type": "code",
   "execution_count": null,
   "id": "85c19b3f-9fa6-46f8-b49b-ab52f0b8c217",
   "metadata": {},
   "outputs": [],
   "source": [
    "import ipywidgets as widgets\n",
    "import pandas as pd\n",
    "import matplotlib.pyplot as plt\n",
    "import numpy as np"
   ]
  },
  {
   "cell_type": "markdown",
   "id": "9d4fd549-9202-4d36-b714-0a6991dcb444",
   "metadata": {
    "tags": []
   },
   "source": [
    "Podemos utilizar los siguientes widgets para interactuar con valores numéricos:\n",
    "### **IntSlider**"
   ]
  },
  {
   "cell_type": "code",
   "execution_count": null,
   "id": "7c267e5f-ea0e-44e6-8087-f2224cecc1d3",
   "metadata": {},
   "outputs": [],
   "source": [
    "widgets.IntSlider(min=0, max=10, step=1, description=\"Integer:\", value=3)"
   ]
  },
  {
   "cell_type": "markdown",
   "id": "aa7b6464-504e-4173-b9ce-7d9acfc14804",
   "metadata": {
    "tags": []
   },
   "source": [
    "### **FloatSlider**"
   ]
  },
  {
   "cell_type": "code",
   "execution_count": null,
   "id": "badea5f8-6b38-4f49-bdd6-1e69a154f3e9",
   "metadata": {},
   "outputs": [],
   "source": [
    "widgets.FloatSlider(min=0., max=10., step=0.5, description=\"Float:\")"
   ]
  },
  {
   "cell_type": "markdown",
   "id": "79e86fe0-fe3b-4842-a8a8-34c3065a16d0",
   "metadata": {},
   "source": [
    "### **IntRangeSlider**"
   ]
  },
  {
   "cell_type": "code",
   "execution_count": null,
   "id": "aeb7bb7f-fd14-4d47-8db9-9282118e8fc5",
   "metadata": {},
   "outputs": [],
   "source": [
    "widgets.IntRangeSlider(value=[5, 7], min=0, max=10, step=1, description=\"Intervalo:\")"
   ]
  },
  {
   "cell_type": "markdown",
   "id": "ee7ec14e-42a6-4f2b-ba23-43abf83c88da",
   "metadata": {},
   "source": [
    "### **FloatRangeSlider**"
   ]
  },
  {
   "cell_type": "code",
   "execution_count": null,
   "id": "1eb6ff6c-8db7-4ba0-b4b8-855810b65254",
   "metadata": {},
   "outputs": [],
   "source": [
    "widgets.FloatRangeSlider(value=[5, 7.5], min=0, max=10.0, step=0.1, description=\"Intervalo:\", readout_format=\".1f\")"
   ]
  },
  {
   "cell_type": "markdown",
   "id": "541b4048-7191-48be-a51a-6ecd8c566ca4",
   "metadata": {},
   "source": [
    "### **FloatLogSlider**"
   ]
  },
  {
   "cell_type": "code",
   "execution_count": null,
   "id": "b492c44c-5612-4211-9722-a572cf99da30",
   "metadata": {},
   "outputs": [],
   "source": [
    "widgets.FloatLogSlider(value=10, base=10, min=-3, max=3, step=0.2, description=\"Log\")"
   ]
  },
  {
   "cell_type": "markdown",
   "id": "24618554-a6f4-46fc-a15b-ea65d506bf19",
   "metadata": {},
   "source": [
    "## **3. Interacción con valores categóricos**\n",
    "Podemos utilizar los siguientes widgets para interactuar con valores categóricos:\n",
    "### **CheckBox**"
   ]
  },
  {
   "cell_type": "code",
   "execution_count": null,
   "id": "72e789ef-4dba-4266-a628-d4e266be5208",
   "metadata": {},
   "outputs": [],
   "source": [
    "widgets.Checkbox(value=False, description=\"Filtrar información\", disabled=False)"
   ]
  },
  {
   "cell_type": "markdown",
   "id": "3ff97b95-500a-4263-9e8d-9eff9abdf10a",
   "metadata": {},
   "source": [
    "### **Dropdown**"
   ]
  },
  {
   "cell_type": "code",
   "execution_count": null,
   "id": "8f352e7c-7ea1-4a2a-a822-bad0a94571b8",
   "metadata": {},
   "outputs": [],
   "source": [
    "widgets.Dropdown(options=[\"Andesita\", \"Dacita\", \"Basalto\"], value=\"Basalto\", description=\"Litología:\", disabled=False)"
   ]
  },
  {
   "cell_type": "code",
   "execution_count": null,
   "id": "a8969937-772a-4479-b5a1-f834e0a569b2",
   "metadata": {},
   "outputs": [],
   "source": [
    "widgets.Dropdown(options=[(\"Andesita\", 1), (\"Dacita\", 2), (\"Basalto\", 3)], value=2, description=\"Litología:\")"
   ]
  },
  {
   "cell_type": "markdown",
   "id": "2a9904e5-46fe-4a98-9794-01c530f3687c",
   "metadata": {
    "tags": []
   },
   "source": [
    "## **4. Generación de resultados interactivos**\n",
    "Si usamos la función `interactive_output`, podemos enlazar un widget con cualquier función:"
   ]
  },
  {
   "cell_type": "code",
   "execution_count": null,
   "id": "1ba55561-da08-4f16-9c65-8e01083f64b6",
   "metadata": {},
   "outputs": [],
   "source": [
    "slider = widgets.FloatSlider(min=0., max=10., step=0.5, description=\"Número:\")\n",
    "\n",
    "# Función a enlazar\n",
    "def cubo(n):\n",
    "    print(n**3)\n",
    "\n",
    "# Enlace entre el widget y la función\n",
    "dashboard = widgets.interactive_output(cubo, {\"n\": slider})\n",
    "dashboard.clear_output(wait=True)\n",
    "\n",
    "# Muestra los widgets\n",
    "display(slider, dashboard)"
   ]
  },
  {
   "cell_type": "markdown",
   "id": "0abcd42e-a6b0-41e9-a35f-7cc794fe7085",
   "metadata": {},
   "source": [
    "También podemos usar la función `interact`:"
   ]
  },
  {
   "cell_type": "code",
   "execution_count": null,
   "id": "a2eb1e68-d1a6-43ee-bb31-7b3c5dc2c193",
   "metadata": {},
   "outputs": [],
   "source": [
    "def three(x, y, z):\n",
    "    return (x, y, z)\n",
    "\n",
    "widgets.interact(three, x=(0, 10, 1), y=True, z=[\"Andesita\", \"Dacita\", \"Basalto\"]);"
   ]
  },
  {
   "cell_type": "markdown",
   "id": "c02aba34-4ff1-4fba-8380-174b3f1006f7",
   "metadata": {},
   "source": [
    "### **4.1. Gráficos interactivos usando Matplotlib**"
   ]
  },
  {
   "cell_type": "code",
   "execution_count": null,
   "id": "fc3bed24-d57f-4734-a018-c9babfba444b",
   "metadata": {},
   "outputs": [],
   "source": [
    "# Input\n",
    "x = np.random.randn(1000)\n",
    "ruido = np.random.randn(1000)\n",
    "z = np.random.randn(1000)\n",
    "\n",
    "# Mapa de colores\n",
    "cmap = plt.cm.inferno\n",
    "\n",
    "def dispersion_lineal(a=3, b=1, lin_reg=False):\n",
    "    # Combinación lineal\n",
    "    y = a*x + b + ruido\n",
    "    \n",
    "    # Figura principal\n",
    "    fig, ax = plt.subplots(figsize=(6, 6))\n",
    "\n",
    "    # Diagrama de dispersión\n",
    "    im = ax.scatter(x, y, c=z, cmap=cmap, s=50, edgecolor=\"black\", alpha=0.7)\n",
    "    \n",
    "    # Límites\n",
    "    ax.set_xlim(-10, 10)\n",
    "    ax.set_ylim(-10, 10)    \n",
    "    \n",
    "    # Título y grilla\n",
    "    ax.set_title(f\"Y = {a}X + {b}\", fontsize=20)\n",
    "    ax.grid(color=\"black\", linewidth=0.5, alpha=0.5)\n",
    "    \n",
    "    if lin_reg:\n",
    "        b, a = np.polyfit(x, y, deg=1)\n",
    "        line = np.linspace(-5, 5, num=20)\n",
    "        ax.plot(line, a + b*line, color=\"blue\", lw=2)    \n",
    "    \n",
    "    plt.tight_layout()\n",
    "    \n",
    "widgets.interact(dispersion_lineal, a=(-10, 10, 1), b=(-5, 5, 1), lin_reg=False);"
   ]
  },
  {
   "cell_type": "markdown",
   "id": "d44d623c-c1fc-43bf-9151-1b2fd575d4d2",
   "metadata": {},
   "source": [
    "### **4.2. Tabla interactiva usando Pandas**"
   ]
  },
  {
   "cell_type": "code",
   "execution_count": null,
   "id": "27cbf846-6952-4927-b488-9018a4d7bc33",
   "metadata": {},
   "outputs": [],
   "source": [
    "dataframe = pd.read_csv(\"files/rocas.csv\")\n",
    "pd.set_option(\"display.float_format\", lambda x: f\"{x:.4f}\")"
   ]
  },
  {
   "cell_type": "code",
   "execution_count": null,
   "id": "11a796f5-fd42-4dad-8ad7-bd3888adcb2b",
   "metadata": {},
   "outputs": [],
   "source": [
    "class Data:\n",
    "    def __init__(self, dataframe: pd.DataFrame):\n",
    "        self.dataframe = dataframe\n",
    "        # La información debe ser limpiada antes de usar la función\n",
    "        num_cols = []\n",
    "        cat_cols = []\n",
    "        for col in dataframe.columns:\n",
    "            if df[col].dtype in [int, float]:\n",
    "                num_cols.append(col)\n",
    "            else:\n",
    "                cat_cols.append(col)\n",
    "        self.num_cols = num_cols\n",
    "        self.cat_cols = cat_cols\n",
    "\n",
    "    \n",
    "class ColumnSlider:\n",
    "    def __init__(self, dataframe, name):\n",
    "        self.name = name\n",
    "        self.col_min = int(dataframe[name].min())\n",
    "        self.col_max = int(dataframe[name].max())\n",
    "        self.widget = widgets.SelectionRangeSlider(options=np.arange(self.col_min, self.col_max + 1, 1),\n",
    "                                                   index=(0, 1),\n",
    "                                                   value=(self.col_min, self.col_max),\n",
    "                                                   description=f\"{self.name}\",\n",
    "                                                   layout={'width': '400px'})\n",
    "\n",
    "        \n",
    "class DashBoard:\n",
    "    def __init__(self, dataframe):\n",
    "        self.data = Data(dataframe)\n",
    "        self.df = self.data.dataframe\n",
    "        self.sliders = [ColumnSlider(df, name) for name in self.data.num_cols]\n",
    "        \n",
    "        def update_dataframe(**kwargs):\n",
    "            df = self.df\n",
    "            for col, slider in kwargs.items():\n",
    "                start = slider[0]\n",
    "                end = slider[1]\n",
    "                df = df[(df[col] >= start) & (df[col] <= end)]\n",
    "            self.df = df\n",
    "            display(df)\n",
    "        \n",
    "        dict_sliders = {f\"{slider.widget.description}\": slider.widget for slider in self.sliders}\n",
    "        self.output = widgets.interactive_output(update_dataframe, dict_sliders)\n",
    "        self.output.clear_output(wait = True)\n",
    "        \n",
    "        file_widget = widgets.Text(placeholder=\"Nombre del archivo\", continuous_update=False)\n",
    "        save_button = widgets.Button(description=\"Guardar archivo csv\", button_style=\"\", tooltip=\"Guardar archivo\",\n",
    "                                     icon=\"floppy-o\", style={\"button_color\": \"green\"})\n",
    "        \n",
    "        def save_click(b):\n",
    "            filename = file_widget.value\n",
    "            if filename in [\"rocas\", \"\", \"Nombre no válido\"]:\n",
    "                file_widget.value = \"Nombre no válido\"\n",
    "            else:\n",
    "                with self.output:\n",
    "                    self.df.to_csv(f\"{filename}.csv\", index=False)\n",
    "                \n",
    "        save_button.on_click(save_click)\n",
    "        \n",
    "        file_container = widgets.VBox([file_widget, save_button])\n",
    "        slider_container = widgets.VBox([slider.widget for slider in self.sliders])\n",
    "        left = widgets.VBox([slider_container, file_container])\n",
    "        right = widgets.VBox([self.output])\n",
    "        display(widgets.HBox([left, right]))\n",
    "\n",
    "        "
   ]
  },
  {
   "cell_type": "code",
   "execution_count": null,
   "id": "395e7e88-e423-477e-8f1b-705e99f4ef98",
   "metadata": {},
   "outputs": [],
   "source": [
    "DashBoard(dataframe);"
   ]
  },
  {
   "cell_type": "markdown",
   "id": "5f5265f8-9ae8-4d24-83ba-c506d53fddc0",
   "metadata": {},
   "source": [
    "***"
   ]
  }
 ],
 "metadata": {
  "kernelspec": {
   "display_name": "Python 3 (ipykernel)",
   "language": "python",
   "name": "python3"
  },
  "language_info": {
   "codemirror_mode": {
    "name": "ipython",
    "version": 3
   },
   "file_extension": ".py",
   "mimetype": "text/x-python",
   "name": "python",
   "nbconvert_exporter": "python",
   "pygments_lexer": "ipython3",
   "version": "3.8.10"
  }
 },
 "nbformat": 4,
 "nbformat_minor": 5
}
