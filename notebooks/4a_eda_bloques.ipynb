{
 "cells": [
  {
   "cell_type": "markdown",
   "metadata": {
    "tags": []
   },
   "source": [
    "# <span style=\"color:gold\">**Análisis exploratorio de datos en un Modelo de Bloques (Parte 1)**</span>\n",
    "***\n",
    "\n",
    "### **Editado por: Kevin Alexander Gómez**\n",
    "#### Contacto: kevinalexandr19@gmail.com | [Linkedin](https://www.linkedin.com/in/kevin-alexander-g%C3%B3mez-2b0263111/) | [Github](https://github.com/kevinalexandr19)\n",
    "***"
   ]
  },
  {
   "cell_type": "markdown",
   "metadata": {},
   "source": [
    "### **Descripción**\n",
    "\n",
    "En este notebook, desarrollaremos un flujo de trabajo para el análisis exploratorio de datos usando un <span style=\"color:gold\">modelo de bloques</span> dentro de Python.\n",
    "\n",
    "Este Notebook es parte del proyecto [**Python para Geólogos**](https://github.com/kevinalexandr19/manual-python-geologia), y ha sido creado con la finalidad de facilitar el aprendizaje en Python para estudiantes y profesionales en el campo de la Geología.\n",
    "***"
   ]
  },
  {
   "cell_type": "markdown",
   "metadata": {
    "jp-MarkdownHeadingCollapsed": true,
    "tags": []
   },
   "source": [
    "## <span style=\"color:lightgreen\">**Objetivos de un Análisis Exploratorio de Datos (EDA)**</span>\n",
    "\n",
    "- **Maximizar** el entendimiento que se tiene acerca del dataset a través de resúmenes estadísticos y representaciones visuales.\n",
    "- **Descubrir** tendencias y patrones en los datos a través del análisis univariable, bivariable y multivariable.\n",
    "- **Limpiar** el dataset, reemplazando o eliminando aquellos valores anómalos o incorrectos. \n",
    "- **Generar** preguntas e hipótesis que podrán ser probadas luego usando otros métodos estadísticos.\n",
    "\n",
    "<br>"
   ]
  },
  {
   "cell_type": "markdown",
   "metadata": {
    "id": "Aby-SWq-tpgT",
    "tags": []
   },
   "source": [
    "# **1. Tratamiento de datos**\n",
    "## **1.1. Cargando información en Python**\n",
    "\n",
    "Empezaremos importando las siguientes librerías:\n",
    "- `numpy`: para operar datos en filas y columnas (matrices)\n",
    "- `pandas`: para procesar el modelo de bloques\n",
    "- `matplotlib`: para generar gráficos en 2D del modelo\n",
    "- `seaborn`: para agregar un estilo de visualización más agradable\n",
    "- `ipywidgets`: para crear funciones y gráficos interactivos"
   ]
  },
  {
   "cell_type": "code",
   "execution_count": null,
   "metadata": {
    "executionInfo": {
     "elapsed": 350,
     "status": "ok",
     "timestamp": 1621632894926,
     "user": {
      "displayName": "Kevin Alexander",
      "photoUrl": "https://lh3.googleusercontent.com/a-/AOh14Gj-Rs-LfklKX8lspYhHOYwfD0WdKiFuf1xpEcgsvw=s64",
      "userId": "13061882144601312071"
     },
     "user_tz": 300
    },
    "id": "jFF4_7lA-mtn"
   },
   "outputs": [],
   "source": [
    "import numpy as np\n",
    "import pandas as pd\n",
    "import matplotlib.pyplot as plt\n",
    "import seaborn as sns\n",
    "sns.set(style=\"ticks\", context=\"talk\")\n",
    "import ipywidgets as widgets\n",
    "\n",
    "# Número de decimales a mostrar en un DataFrame\n",
    "pd.set_option(\"display.float_format\", lambda x: f\"{x:.5f}\")"
   ]
  },
  {
   "cell_type": "markdown",
   "metadata": {
    "id": "PFPJcWwBMgDE"
   },
   "source": [
    "Usaremos la función `read_csv` para extraer la información del archivo `block_model.csv` y lo asignaremos a una variable llamada `data`:\n",
    "> De antemano, debemos saber que el modelo de bloques corresponde a un yacimiento de tipo pórfido de Cu-Mo."
   ]
  },
  {
   "cell_type": "code",
   "execution_count": null,
   "metadata": {
    "executionInfo": {
     "elapsed": 6952,
     "status": "ok",
     "timestamp": 1621632903971,
     "user": {
      "displayName": "Kevin Alexander",
      "photoUrl": "https://lh3.googleusercontent.com/a-/AOh14Gj-Rs-LfklKX8lspYhHOYwfD0WdKiFuf1xpEcgsvw=s64",
      "userId": "13061882144601312071"
     },
     "user_tz": 300
    },
    "id": "THznu9xKQQUS"
   },
   "outputs": [],
   "source": [
    "data = pd.read_csv(\"block_model.csv\")"
   ]
  },
  {
   "cell_type": "markdown",
   "metadata": {},
   "source": [
    "Ahora, utilizaremos el método `head` para observar las primeras 5 filas de la tabla:"
   ]
  },
  {
   "cell_type": "code",
   "execution_count": null,
   "metadata": {},
   "outputs": [],
   "source": [
    "data.head()"
   ]
  },
  {
   "cell_type": "markdown",
   "metadata": {
    "tags": []
   },
   "source": [
    "## **1.2. Modificación de valores dentro de un DataFrame**\n",
    "\n",
    "### **Modificación del Índice**\n",
    "Tenemos una columna llamada `ID` que parece corresponder al índice de la tabla.\\\n",
    "Podemos eliminar esta columna o establecerla como índice usando el método `set_index`:\n",
    "> El parámetro `inplace=True` es usado para guardar los cambios dentro de la misma variable."
   ]
  },
  {
   "cell_type": "code",
   "execution_count": null,
   "metadata": {},
   "outputs": [],
   "source": [
    "data.set_index(\"ID\", inplace=True)"
   ]
  },
  {
   "cell_type": "markdown",
   "metadata": {},
   "source": [
    "Observamos el resultado:"
   ]
  },
  {
   "cell_type": "code",
   "execution_count": null,
   "metadata": {
    "colab": {
     "base_uri": "https://localhost:8080/",
     "height": 235
    },
    "executionInfo": {
     "elapsed": 273,
     "status": "ok",
     "timestamp": 1621632905257,
     "user": {
      "displayName": "Kevin Alexander",
      "photoUrl": "https://lh3.googleusercontent.com/a-/AOh14Gj-Rs-LfklKX8lspYhHOYwfD0WdKiFuf1xpEcgsvw=s64",
      "userId": "13061882144601312071"
     },
     "user_tz": 300
    },
    "id": "02PbX0gTN80V",
    "outputId": "9e51170d-3813-415f-e693-cd3a49fb0d74"
   },
   "outputs": [],
   "source": [
    "data.head()"
   ]
  },
  {
   "cell_type": "markdown",
   "metadata": {
    "id": "ywZbWsF1x3lg"
   },
   "source": [
    "### **Tipos de datos en un DataFrame**\n",
    "Ahora que ya establecimos un índice, usaremos el atributo `dtypes` para observar el tipo de dato asignado a cada columna de la tabla:"
   ]
  },
  {
   "cell_type": "code",
   "execution_count": null,
   "metadata": {
    "colab": {
     "base_uri": "https://localhost:8080/"
    },
    "executionInfo": {
     "elapsed": 7,
     "status": "ok",
     "timestamp": 1621630302488,
     "user": {
      "displayName": "Kevin Alexander",
      "photoUrl": "https://lh3.googleusercontent.com/a-/AOh14Gj-Rs-LfklKX8lspYhHOYwfD0WdKiFuf1xpEcgsvw=s64",
      "userId": "13061882144601312071"
     },
     "user_tz": 300
    },
    "id": "tDe3kcjZr6aS",
    "outputId": "b48c96e6-8c2c-4fc6-abb6-77c09aa5e54d"
   },
   "outputs": [],
   "source": [
    "data.dtypes"
   ]
  },
  {
   "cell_type": "markdown",
   "metadata": {},
   "source": [
    "En resumen, podemos notar las siguientes características dentro de la tabla:\n",
    "- Cada fila representa uno de los bloques del modelo\n",
    "- `X`, `Y`, `Z`: coordenadas del centroide para cada bloque, representado en Python como `float`\n",
    "- `CU (PCT)`: concentración de Cu en porcentaje, representado en Python como `string`\n",
    "- `MO (PPM)`: concentración de Mo en ppm, representado en Python como `string`\n",
    "- `LITOLOGIA`: tipo de roca asignada al bloque, representado en Python como `string`"
   ]
  },
  {
   "cell_type": "markdown",
   "metadata": {
    "id": "niVpXHwz6Ag0"
   },
   "source": [
    "### **Modificación de tipos de datos, reemplazo de nombres en columnas y valores vacíos**\n",
    "- Empezaremos abreviando los nombre de las columnas `LITOLOGIA` por `LITO`, `CU (PCT)` por `CU_pct` y `MO (PPM)` por `MO_ppm`.\n",
    "- Los valores \"blank\" en el modelo representan bloques vacíos, serán reemplazados por valores vacíos de tipo `numpy.nan`.\n",
    "- Las columnas de Cu y Mo representan valores numéricos en `string`, transformaremos el tipo de dato de estas columnas a `float` para facilitar su procesamiento.\n",
    "\n",
    "Para modificar el nombre de las columnas, usaremos el método `rename`:"
   ]
  },
  {
   "cell_type": "code",
   "execution_count": null,
   "metadata": {
    "id": "ifLWAs5oQWnS"
   },
   "outputs": [],
   "source": [
    "# Modificando el nombre de las columnas\n",
    "data.rename(columns={\"LITOLOGIA\": \"LITO\", \"CU (PCT)\": \"CU_pct\", \"MO (PPM)\": \"MO_ppm\"}, inplace=True)"
   ]
  },
  {
   "cell_type": "markdown",
   "metadata": {},
   "source": [
    "El método `replace` nos permite reemplazar valores dentro de un DataFrame:"
   ]
  },
  {
   "cell_type": "code",
   "execution_count": null,
   "metadata": {
    "id": "hTQxx7OaRxhR"
   },
   "outputs": [],
   "source": [
    "# Reemplazando valores vacíos \"blank\" por np.nan\n",
    "data.replace(\"blank\", np.nan, inplace=True)"
   ]
  },
  {
   "cell_type": "markdown",
   "metadata": {},
   "source": [
    "El método `astype` es usado para modificar el tipo de dato usado en una o varias columnas:"
   ]
  },
  {
   "cell_type": "code",
   "execution_count": null,
   "metadata": {
    "id": "qT8fcjiPKko8"
   },
   "outputs": [],
   "source": [
    "# Cambiando el tipo de dato en las columnas de Cu y Mo\n",
    "data[[\"CU_pct\", \"MO_ppm\"]] = data[[\"CU_pct\", \"MO_ppm\"]].astype(float)"
   ]
  },
  {
   "cell_type": "markdown",
   "metadata": {
    "id": "-YAzYL7S76zT"
   },
   "source": [
    "Ahora usaremos el método `sample` para observar filas aleatorias en la tabla:"
   ]
  },
  {
   "cell_type": "code",
   "execution_count": null,
   "metadata": {
    "colab": {
     "base_uri": "https://localhost:8080/",
     "height": 390
    },
    "executionInfo": {
     "elapsed": 5,
     "status": "ok",
     "timestamp": 1621630303737,
     "user": {
      "displayName": "Kevin Alexander",
      "photoUrl": "https://lh3.googleusercontent.com/a-/AOh14Gj-Rs-LfklKX8lspYhHOYwfD0WdKiFuf1xpEcgsvw=s64",
      "userId": "13061882144601312071"
     },
     "user_tz": 300
    },
    "id": "6FuYHcCu8IEs",
    "outputId": "78342a0e-5512-4023-a27e-94a391db5afa"
   },
   "outputs": [],
   "source": [
    "data.sample(6)"
   ]
  },
  {
   "cell_type": "markdown",
   "metadata": {
    "id": "Ev7z55pxrlyL"
   },
   "source": [
    "### **Eliminación de valores vacíos**\n",
    "El método `isna` es usado para verificar la presencia de valores vacíos dentro de un DataFrame.\\\n",
    "Si la celda contiene un valor vacío de tipo `nan`, el resultado será `True`.\\\n",
    "Por otro lado, si la celda contiene información, el resultado será `False`."
   ]
  },
  {
   "cell_type": "code",
   "execution_count": null,
   "metadata": {
    "colab": {
     "base_uri": "https://localhost:8080/"
    },
    "executionInfo": {
     "elapsed": 3,
     "status": "ok",
     "timestamp": 1621630304231,
     "user": {
      "displayName": "Kevin Alexander",
      "photoUrl": "https://lh3.googleusercontent.com/a-/AOh14Gj-Rs-LfklKX8lspYhHOYwfD0WdKiFuf1xpEcgsvw=s64",
      "userId": "13061882144601312071"
     },
     "user_tz": 300
    },
    "id": "hr0OKlyHwHnN",
    "outputId": "4dc5b743-4ef0-49b1-917b-389d5ed7f910"
   },
   "outputs": [],
   "source": [
    "data.isna()"
   ]
  },
  {
   "cell_type": "markdown",
   "metadata": {},
   "source": [
    "Si usamos la columna `LITO`, obtenemos un arreglo de valores lógicos:"
   ]
  },
  {
   "cell_type": "code",
   "execution_count": null,
   "metadata": {},
   "outputs": [],
   "source": [
    "data[\"LITO\"].isna()"
   ]
  },
  {
   "cell_type": "markdown",
   "metadata": {},
   "source": [
    "Notamos que existen valores vacíos en las columnas de Cu, Mo y Litología.\\\n",
    "Calcularemos el número total de bloques vacíos y el porcentaje de estos respecto al total:"
   ]
  },
  {
   "cell_type": "code",
   "execution_count": null,
   "metadata": {
    "colab": {
     "base_uri": "https://localhost:8080/"
    },
    "executionInfo": {
     "elapsed": 476,
     "status": "ok",
     "timestamp": 1621630304706,
     "user": {
      "displayName": "Kevin Alexander",
      "photoUrl": "https://lh3.googleusercontent.com/a-/AOh14Gj-Rs-LfklKX8lspYhHOYwfD0WdKiFuf1xpEcgsvw=s64",
      "userId": "13061882144601312071"
     },
     "user_tz": 300
    },
    "id": "4KSHfrR1UIgi",
    "outputId": "dd808e8e-b893-4b79-c533-74c7d98ca9b8"
   },
   "outputs": [],
   "source": [
    "# ¿Cuántos bloques contiene el modelo?\n",
    "bloques = len(data)\n",
    "# ¿Cuántos valores nulos existen?\n",
    "nulo = sum(data[\"LITO\"].isna())\n",
    "\n",
    "# Resultados\n",
    "print(f\"Existen {bloques:,} bloques en el modelo, de los cuales {nulo:,} contienen valores nulos\")\n",
    "print(f\"Los bloques con valores nulos representan el {nulo/bloques:.2%} del modelo\")"
   ]
  },
  {
   "cell_type": "markdown",
   "metadata": {
    "id": "vCDs2fB_aePP",
    "tags": []
   },
   "source": [
    "Los bloques vacíos no nos interesan, por lo tanto, crearemos una copia del dataset original y trabajaremos con aquellos bloques que contengan información del modelo.\\\n",
    "Esto acelerará el procesamiento de los datos, debido a que solo trabajaremos usando el 50% del modelo original.\\\n",
    "Para remover las filas con valores vacíos usaremos el método `dropna` y crearemos una copia usando el método `copy`:"
   ]
  },
  {
   "cell_type": "code",
   "execution_count": null,
   "metadata": {
    "id": "R-RkTNL8am2M"
   },
   "outputs": [],
   "source": [
    "modelo = data.dropna().copy()"
   ]
  },
  {
   "cell_type": "code",
   "execution_count": null,
   "metadata": {},
   "outputs": [],
   "source": [
    "modelo.head()"
   ]
  },
  {
   "cell_type": "markdown",
   "metadata": {},
   "source": [
    "Podemos reindexar las filas usando el método `reset_index`.\n",
    "> El parámetro `drop=True` elimina el índice original."
   ]
  },
  {
   "cell_type": "code",
   "execution_count": null,
   "metadata": {},
   "outputs": [],
   "source": [
    "modelo.reset_index(drop=True, inplace=True)"
   ]
  },
  {
   "cell_type": "code",
   "execution_count": null,
   "metadata": {
    "tags": []
   },
   "outputs": [],
   "source": [
    "modelo.head()"
   ]
  },
  {
   "cell_type": "markdown",
   "metadata": {
    "id": "-spK5Zm0-N7B",
    "tags": []
   },
   "source": [
    "# **2. Análisis univariable**\n",
    "### **Resumen del DataFrame**\n",
    "Podemos calcular el número total de filas en un DataFrame con la función `len`:"
   ]
  },
  {
   "cell_type": "code",
   "execution_count": null,
   "metadata": {},
   "outputs": [],
   "source": [
    "print(f\"El modelo tiene en total {len(modelo):,} bloques con información.\")"
   ]
  },
  {
   "cell_type": "markdown",
   "metadata": {},
   "source": [
    "El método `describe` permite visualizar un resumen estadístico de cada columna que posea datos numéricos de tipo `float` o `integer`.\\\n",
    "Si deseamos visualizar datos categóricos en `string`, utilizaremos la opción `include=\"all\"`:"
   ]
  },
  {
   "cell_type": "code",
   "execution_count": null,
   "metadata": {
    "colab": {
     "base_uri": "https://localhost:8080/",
     "height": 390
    },
    "executionInfo": {
     "elapsed": 444,
     "status": "ok",
     "timestamp": 1621630305557,
     "user": {
      "displayName": "Kevin Alexander",
      "photoUrl": "https://lh3.googleusercontent.com/a-/AOh14Gj-Rs-LfklKX8lspYhHOYwfD0WdKiFuf1xpEcgsvw=s64",
      "userId": "13061882144601312071"
     },
     "user_tz": 300
    },
    "id": "1eesGUrHLcT7",
    "outputId": "1f219fe8-4096-4466-d55c-faebce1657fa",
    "tags": []
   },
   "outputs": [],
   "source": [
    "modelo.describe(include=\"all\")"
   ]
  },
  {
   "cell_type": "markdown",
   "metadata": {},
   "source": [
    "El método `info` devuelve información acerca del índice, las columnas y la cantidad de memoria utilizada por el DataFrame:"
   ]
  },
  {
   "cell_type": "code",
   "execution_count": null,
   "metadata": {},
   "outputs": [],
   "source": [
    "modelo.info()"
   ]
  },
  {
   "cell_type": "markdown",
   "metadata": {
    "tags": []
   },
   "source": [
    "## **2.1. Análisis de valores numéricos**\n",
    "Empezaremos analizando los valores de Cu y Mo.\\\n",
    "Primero, asignaremos las columnas de Cu y Mo en las variables `cu` y `mo`.\\\n",
    "También guardaremos los valores mínimos y máximos de Cu y Mo en variables:"
   ]
  },
  {
   "cell_type": "code",
   "execution_count": null,
   "metadata": {},
   "outputs": [],
   "source": [
    "cu = modelo[\"CU_pct\"]\n",
    "mo = modelo[\"MO_ppm\"]\n",
    "\n",
    "cu_min, cu_max = cu.min(), cu.max()\n",
    "mo_min, mo_max = mo.min(), mo.max()"
   ]
  },
  {
   "cell_type": "markdown",
   "metadata": {},
   "source": [
    "Y crearemos histogramas para las leyes de Cu y Mo:\n",
    "> El parámetro `sharey=True` comparte el eje Y entre figuras de una misma fila.\\\n",
    "> El parámetro `histtype=\"step\"` reemplaza las barras originales del histograma por una línea escalonada.\\\n",
    "> El parámero `density=True` convierte la frecuencia en una distribución de probabilidad."
   ]
  },
  {
   "cell_type": "code",
   "execution_count": null,
   "metadata": {},
   "outputs": [],
   "source": [
    "# Figura principal\n",
    "fig, (ax1, ax2) = plt.subplots(1, 2, figsize=(12, 6), sharey=True)\n",
    "\n",
    "# Histograma de Cu y Mo\n",
    "ax1.hist(x=cu, bins=50, log=True, histtype=\"step\", fill=True, alpha=0.8)\n",
    "ax2.hist(x=mo, bins=50, log=True, histtype=\"step\", fill=True, alpha=0.8)\n",
    "\n",
    "# Títulos\n",
    "ax1.set_title(\"Cu (%)\", fontsize=20)\n",
    "ax2.set_title(\"Mo (ppm)\", fontsize=20)\n",
    "\n",
    "# Límites\n",
    "ax1.set_xlim(cu_min, cu_max)\n",
    "ax2.set_xlim(mo_min, mo_max)\n",
    "\n",
    "# Grillas\n",
    "ax1.grid()\n",
    "ax2.grid()\n",
    "\n",
    "plt.tight_layout()"
   ]
  },
  {
   "cell_type": "markdown",
   "metadata": {},
   "source": [
    "Notamos que los valores de Cu y Mo en el modelo tienen una **distribución logarítmica**, es decir, la mayoría de bloques en el modelo presentan leyes bajas.\n",
    "\n",
    "Ahora, importaremos la función `ECDF` de la librería `statsmodels` para generar funciones de distribución cumulativa (CDF) para el Cu y Mo:"
   ]
  },
  {
   "cell_type": "code",
   "execution_count": null,
   "metadata": {},
   "outputs": [],
   "source": [
    "from statsmodels.distributions.empirical_distribution import ECDF"
   ]
  },
  {
   "cell_type": "code",
   "execution_count": null,
   "metadata": {},
   "outputs": [],
   "source": [
    "cu_cdf = ECDF(cu)\n",
    "mo_cdf = ECDF(mo)"
   ]
  },
  {
   "cell_type": "markdown",
   "metadata": {},
   "source": [
    "Estas funciones nos permiten determinar la probabilidad de que la ley de Cu/Mo en un bloque se encuentre por debajo de cierto valor:"
   ]
  },
  {
   "cell_type": "code",
   "execution_count": null,
   "metadata": {},
   "outputs": [],
   "source": [
    "print(f\"El {cu_cdf(1):.1%} de los bloques tienen valores de Cu por debajo de 1.0%\")\n",
    "print(f\"El {mo_cdf(200):.1%} de los bloques tienen valores de Mo por debajo de 200 ppm\")"
   ]
  },
  {
   "cell_type": "markdown",
   "metadata": {},
   "source": [
    "También podemos usar la función de `numpy` llamada `quantile` para obtener la ley de Cu/Mo asociado a cada cuantil (e.g. 90% es cuantil 0.9):"
   ]
  },
  {
   "cell_type": "code",
   "execution_count": null,
   "metadata": {},
   "outputs": [],
   "source": [
    "cu_90 = np.quantile(cu, 0.9)\n",
    "mo_90 = np.quantile(mo, 0.9)\n",
    "\n",
    "print(f\"El 90% de los bloques tienen valores de Cu por debajo de {cu_90:.2f} %\")\n",
    "print(f\"El 90% de los bloques tienen valores de Mo por debajo de {mo_90:.0f} ppm\")"
   ]
  },
  {
   "cell_type": "markdown",
   "metadata": {},
   "source": [
    "Ahora, graficaremos los histogramas cumulativos para el Cu y Mo:\n",
    "> El parámetro `cumulative=True` convierte el histograma en cumulativo."
   ]
  },
  {
   "cell_type": "code",
   "execution_count": null,
   "metadata": {},
   "outputs": [],
   "source": [
    "# Figura principal\n",
    "fig, (ax1, ax2) = plt.subplots(1, 2, figsize=(12, 6), sharey=True)\n",
    "\n",
    "# Histograma cumulativo de Cu y Mo\n",
    "ax1.hist(x=cu, bins=50, cumulative=True, log=True, histtype=\"step\", density=True, fill=True, alpha=0.8)\n",
    "ax2.hist(x=mo, bins=50, cumulative=True, log=True, histtype=\"step\", density=True, fill=True, alpha=0.8)\n",
    "\n",
    "# Títulos\n",
    "ax1.set_title(\"Cu (%)\", fontsize=20)\n",
    "ax2.set_title(\"Mo (ppm)\", fontsize=20)\n",
    "\n",
    "# Límites\n",
    "ax1.set_xlim(cu_min, cu_max)\n",
    "ax2.set_xlim(mo_min, mo_max)\n",
    "\n",
    "# Grillas\n",
    "ax1.grid()\n",
    "ax2.grid()\n",
    "\n",
    "plt.tight_layout()"
   ]
  },
  {
   "cell_type": "markdown",
   "metadata": {
    "id": "Se0dloeu81S8"
   },
   "source": [
    "## **2.2. Análisis de valores categóricos**\n",
    "Los datos contenidos en la columna `LITO` corresponden a los tipos de rocas asignados a cada bloque.\\\n",
    "Para observar cada valor único presente en esta columna usaremos el método `unique`:"
   ]
  },
  {
   "cell_type": "code",
   "execution_count": null,
   "metadata": {
    "colab": {
     "base_uri": "https://localhost:8080/"
    },
    "executionInfo": {
     "elapsed": 458,
     "status": "ok",
     "timestamp": 1621630306011,
     "user": {
      "displayName": "Kevin Alexander",
      "photoUrl": "https://lh3.googleusercontent.com/a-/AOh14Gj-Rs-LfklKX8lspYhHOYwfD0WdKiFuf1xpEcgsvw=s64",
      "userId": "13061882144601312071"
     },
     "user_tz": 300
    },
    "id": "eAv4i6ke8vn0",
    "outputId": "4631dd09-7bb8-4993-d916-78449930e709"
   },
   "outputs": [],
   "source": [
    "print(modelo[\"LITO\"].unique())"
   ]
  },
  {
   "cell_type": "markdown",
   "metadata": {
    "id": "2e2ntVn8WYVT",
    "jp-MarkdownHeadingCollapsed": true,
    "tags": []
   },
   "source": [
    "Usando esta información, calcularemos el número de bloques asignados a cada tipo de roca.\\\n",
    "Usaremos el método `groupby` para ordenar el cuadro de acuerdo a cada tipo de roca en la columna `LITO`.\\\n",
    "Luego, aplicaremos el método `count` para obtener el total de bloques por cada tipo de roca:"
   ]
  },
  {
   "cell_type": "code",
   "execution_count": null,
   "metadata": {},
   "outputs": [],
   "source": [
    "modelo.groupby(\"LITO\")[\"LITO\"].count()"
   ]
  },
  {
   "cell_type": "markdown",
   "metadata": {},
   "source": [
    "Usando este arreglo, podemos generar un resumen de la litología:"
   ]
  },
  {
   "cell_type": "code",
   "execution_count": null,
   "metadata": {
    "colab": {
     "base_uri": "https://localhost:8080/"
    },
    "executionInfo": {
     "elapsed": 3,
     "status": "ok",
     "timestamp": 1621630306011,
     "user": {
      "displayName": "Kevin Alexander",
      "photoUrl": "https://lh3.googleusercontent.com/a-/AOh14Gj-Rs-LfklKX8lspYhHOYwfD0WdKiFuf1xpEcgsvw=s64",
      "userId": "13061882144601312071"
     },
     "user_tz": 300
    },
    "id": "dqGhwmwnWd7S",
    "outputId": "6f82bf24-3bbc-446e-ffde-cd160697366c"
   },
   "outputs": [],
   "source": [
    "# Extraemos el conteo total en un diccionario, ordenado de menor a mayor\n",
    "total = dict(modelo.groupby(\"LITO\")[\"LITO\"].count().sort_values())\n",
    "\n",
    "rocas = list(total.keys())    # Tipo de roca\n",
    "conteo = list(total.values()) # Número de bloques por tipo de roca\n",
    "\n",
    "# Bucle para mostrar la cantidad y porcentaje de bloques por cada tipo de roca\n",
    "for cont, roca in zip(conteo, rocas):\n",
    "    print(f\"Existen {cont:,} bloques ({cont/sum(conteo):.1%}) de tipo {roca}\")\n",
    "\n",
    "# Número total de bloques\n",
    "print(f\"De un total de {sum(conteo):,} bloques.\")"
   ]
  },
  {
   "cell_type": "markdown",
   "metadata": {},
   "source": [
    "Podemos volver a crear histogramas de Cu y Mo pero esta vez los dividiremos de acuerdo al tipo de litología:"
   ]
  },
  {
   "cell_type": "code",
   "execution_count": null,
   "metadata": {},
   "outputs": [],
   "source": [
    "# Definimos una función que grafique histogramas para el Cu y Mo de acuerdo a un tipo de litología\n",
    "def leyes_litologia(lito, cumulative=False):\n",
    "    # Selecciona las leyes de Cu y Mo de aquellos bloques que pertenezcan a la litología\n",
    "    cu_lito = cu[modelo[\"LITO\"] == lito]\n",
    "    mo_lito = mo[modelo[\"LITO\"] == lito]\n",
    "    \n",
    "    # Crea la figura\n",
    "    fig, (ax1, ax2) = plt.subplots(1, 2, figsize=(12, 6), sharey=True)\n",
    "        \n",
    "    if cumulative:\n",
    "        # Histograma cumulativo de Cu y Mo\n",
    "        ax1.hist(x=cu_lito, bins=50, cumulative=True, log=True, histtype=\"step\", density=True, fill=True, alpha=0.8)\n",
    "        ax2.hist(x=mo_lito, bins=50, cumulative=True, log=True, histtype=\"step\", density=True, fill=True, alpha=0.8)\n",
    "        fig.suptitle(f\"Distribuciones cumulativas de Cu y Mo - {lito}\", fontsize=30)\n",
    "    else:\n",
    "        # Histograma de Cu y Mo\n",
    "        ax1.hist(x=cu_lito, bins=50, log=True, histtype=\"step\", fill=True, alpha=0.8)\n",
    "        ax2.hist(x=mo_lito, bins=50, log=True, histtype=\"step\", fill=True, alpha=0.8)\n",
    "        fig.suptitle(f\"Distribuciones de Cu y Mo - {lito}\", fontsize=30)\n",
    "    \n",
    "    # Títulos\n",
    "    ax1.set_title(\"Cu (%)\", fontsize=20)\n",
    "    ax2.set_title(\"Mo (ppm)\", fontsize=20)\n",
    "    \n",
    "    # Límites\n",
    "    ax1.set_xlim(cu_min, cu_max)\n",
    "    ax2.set_xlim(mo_min, mo_max)\n",
    "\n",
    "    # Grillas\n",
    "    ax1.grid()\n",
    "    ax2.grid()\n",
    "\n",
    "    # Muestra la figura\n",
    "    plt.tight_layout()\n",
    "    \n",
    "widgets.interact(leyes_litologia, lito=rocas, cumulative=False);"
   ]
  },
  {
   "cell_type": "markdown",
   "metadata": {},
   "source": [
    "Usando esta información, vamos a clasificar categóricamente los bloques de acuerdo a su contenido de Cu y Mo."
   ]
  },
  {
   "cell_type": "markdown",
   "metadata": {
    "tags": []
   },
   "source": [
    "# **3. Análisis Bivariable**\n",
    "Ahora que ya hemos analizado las variables `CU_pct`, `MO_ppm` y `LITO` de manera individual, pasaremos a analizarlas por pares.\\\n",
    "Empezaremos con el par Cu-Mo, creando un diagrama de dispersión general:\n",
    "> Dentro del parámetro `subplot_kw`, el valor `aspect` es usado para establecer una proporción específica entre los ejes de la figura (e.g. 1/1, 1/2, etc.)."
   ]
  },
  {
   "cell_type": "code",
   "execution_count": null,
   "metadata": {},
   "outputs": [],
   "source": [
    "# Figura inicial\n",
    "fig, ax = plt.subplots(figsize=(8, 8), subplot_kw={\"aspect\":1/200})\n",
    "\n",
    "# Diagrama de dispersión\n",
    "ax.scatter(cu, mo, s=0.5)\n",
    "\n",
    "# Colocamos etiquetas a los ejes X e Y\n",
    "ax.set_xlabel(\"Cu (%)\")\n",
    "ax.set_ylabel(\"Mo (ppm)\")\n",
    "\n",
    "# Colocamos un título\n",
    "ax.set_title(\"Correlación entre leyes de Cu y Mo\", fontsize=25)\n",
    "\n",
    "# Colocamos una grilla\n",
    "ax.grid()\n",
    "\n",
    "# Mostramos la figura\n",
    "plt.show()"
   ]
  },
  {
   "cell_type": "markdown",
   "metadata": {},
   "source": [
    "La figura anterior muestra la correlación entre las leyes de Cu y Mo de todos los bloques sin diferenciar el tipo de litología.\\\n",
    "Esto no nos dice mucho, así que visualizaremos la correlación de acuerdo a la litología utilizando un cuadro de varias figuras:\n",
    "> El parámetro `sharex=True` comparte el eje X entre figuras de una misma columna."
   ]
  },
  {
   "cell_type": "code",
   "execution_count": null,
   "metadata": {},
   "outputs": [],
   "source": [
    "# Figura inicial (2 filas, 3 columnas)\n",
    "fig, axs = plt.subplots(2, 3, sharex=True, sharey=True, figsize=(14, 10))\n",
    "\n",
    "# Bucle para generar una figura de dispersión por cada tipo de roca\n",
    "for ax, roca in zip(axs.flatten(), rocas):\n",
    "    cu_roca = cu[modelo[\"LITO\"] == roca]\n",
    "    mo_roca = mo[modelo[\"LITO\"] == roca]\n",
    "  \n",
    "    ax.scatter(cu_roca, mo_roca, s=0.5)\n",
    "    ax.set_xticks([0, 1, 2, 3, 4, 5, 6])\n",
    "    \n",
    "    ax.set_xlabel(\"Cu (%)\")\n",
    "    ax.set_ylabel(\"Mo (ppm)\")\n",
    "    ax.set_title(roca)\n",
    "    ax.grid()\n",
    "\n",
    "# Colocamos un título para la figura\n",
    "fig.suptitle(\"Correlación entre leyes de Cu y Mo por tipo de roca\", fontsize=28)\n",
    "\n",
    "# Mostramos la figura\n",
    "plt.tight_layout()"
   ]
  },
  {
   "cell_type": "markdown",
   "metadata": {},
   "source": [
    "Usaremos los siguientes intervalos para la clasificación de leyes de Cu y Mo:\\\n",
    "`CU_pct`: valores menores a 1 %, entre 1 a 2 %, y mayores a 2 %\\\n",
    "`MO_ppm`: valores menores a 200 ppm, entre 200 y 400 ppm, y mayores a 400 ppm.\n",
    "\n",
    "Las siguientes funciones serán usadas para clasificar los valores de Cu y Mo:"
   ]
  },
  {
   "cell_type": "code",
   "execution_count": null,
   "metadata": {},
   "outputs": [],
   "source": [
    "def intervalo_cu(row):\n",
    "    if row < 1.0:\n",
    "        return \"Cu < 1.0 %\"\n",
    "    elif 1.0 <= row < 2.0:\n",
    "        return \"1.0 <= Cu < 2.0 %\"\n",
    "    elif row >= 2.0:\n",
    "        return \"Cu >= 2.0 %\"\n",
    "    \n",
    "def intervalo_mo(row):\n",
    "    if row < 200:\n",
    "        return \"Mo < 200 ppm\"\n",
    "    elif 200 <= row < 400:\n",
    "        return \"200 <= Mo < 400 ppm\"\n",
    "    elif row >= 400:\n",
    "        return \"Mo >= 400 ppm\""
   ]
  },
  {
   "cell_type": "markdown",
   "metadata": {},
   "source": [
    "Usaremos el método `apply` para generar una nueva columna a partir de la columna de ley:"
   ]
  },
  {
   "cell_type": "code",
   "execution_count": null,
   "metadata": {},
   "outputs": [],
   "source": [
    "modelo[\"CU\"] = cu.apply(intervalo_cu)\n",
    "modelo[\"MO\"] = mo.apply(intervalo_mo)"
   ]
  },
  {
   "cell_type": "markdown",
   "metadata": {},
   "source": [
    "Observamos el resultado:"
   ]
  },
  {
   "cell_type": "code",
   "execution_count": null,
   "metadata": {},
   "outputs": [],
   "source": [
    "modelo.sample(5)"
   ]
  },
  {
   "cell_type": "markdown",
   "metadata": {},
   "source": [
    "Ahora, generaremos un resumen de la clasificación:"
   ]
  },
  {
   "cell_type": "code",
   "execution_count": null,
   "metadata": {},
   "outputs": [],
   "source": [
    "cu_leyes = dict(modelo.groupby(\"CU\")[\"LITO\"].count().sort_values())\n",
    "\n",
    "intervalos = list(cu_leyes.keys())\n",
    "conteo = list(cu_leyes.values())\n",
    "total = sum(conteo)\n",
    "\n",
    "for inter, cont in zip(intervalos, conteo):\n",
    "    print(f\"Existen {cont:,} ({cont/total:.1%}) bloques con ley: {inter}\")"
   ]
  },
  {
   "cell_type": "code",
   "execution_count": null,
   "metadata": {},
   "outputs": [],
   "source": [
    "mo_leyes = dict(modelo.groupby(\"MO\")[\"LITO\"].count().sort_values())\n",
    "\n",
    "intervalos = list(mo_leyes.keys())\n",
    "conteo = list(mo_leyes.values())\n",
    "total = sum(conteo)\n",
    "\n",
    "for inter, cont in zip(intervalos, conteo):\n",
    "    print(f\"Existen {cont:,} ({cont/total:.1%}) bloques con ley: {inter}\")"
   ]
  },
  {
   "cell_type": "markdown",
   "metadata": {},
   "source": [
    "Ya tenemos un mejor entendimiento sobre la distribución de leyes de Cu-Mo y su relación con respecto a la litología en el modelo.\\\n",
    "El siguiente paso es analizar esta información de manera espacial, haciendo uso de herramientas de visualización 2D y 3D.\n",
    "\n",
    "Para terminar esta parte del tutorial, guardaremos la información en un nuevo archivo CSV llamado `modelo.csv`."
   ]
  },
  {
   "cell_type": "code",
   "execution_count": null,
   "metadata": {},
   "outputs": [],
   "source": [
    "modelo.to_csv(\"files/modelo.csv\", index=False)"
   ]
  },
  {
   "cell_type": "markdown",
   "metadata": {},
   "source": [
    "***"
   ]
  }
 ],
 "metadata": {
  "colab": {
   "authorship_tag": "ABX9TyODCOY8NZcDdq8uHeagEuWC",
   "collapsed_sections": [],
   "mount_file_id": "18OvIHmnIdMqMGe-GLRfzZGks2TAx2jAL",
   "name": "Tratamiento y Visualización.ipynb",
   "provenance": [],
   "toc_visible": true
  },
  "kernelspec": {
   "display_name": "Python 3 (ipykernel)",
   "language": "python",
   "name": "python3"
  },
  "language_info": {
   "codemirror_mode": {
    "name": "ipython",
    "version": 3
   },
   "file_extension": ".py",
   "mimetype": "text/x-python",
   "name": "python",
   "nbconvert_exporter": "python",
   "pygments_lexer": "ipython3",
   "version": "3.8.10"
  },
  "widgets": {
   "application/vnd.jupyter.widget-state+json": {
    "21928b7936fe43ba85265d8956a86628": {
     "model_module": "@jupyter-widgets/controls",
     "model_name": "VBoxModel",
     "state": {
      "_dom_classes": [
       "widget-interact"
      ],
      "_model_module": "@jupyter-widgets/controls",
      "_model_module_version": "1.5.0",
      "_model_name": "VBoxModel",
      "_view_count": null,
      "_view_module": "@jupyter-widgets/controls",
      "_view_module_version": "1.5.0",
      "_view_name": "VBoxView",
      "box_style": "",
      "children": [
       "IPY_MODEL_c9ecc80d774849b18775c0ed1dae4c68",
       "IPY_MODEL_2695de72f8f9488fbef1f1f213d4b75d",
       "IPY_MODEL_35f639d0910e44849323b980b39ae6cc"
      ],
      "layout": "IPY_MODEL_d3a0baa016ba4678870f0560c3848986"
     }
    },
    "2695de72f8f9488fbef1f1f213d4b75d": {
     "model_module": "@jupyter-widgets/controls",
     "model_name": "DropdownModel",
     "state": {
      "_dom_classes": [],
      "_model_module": "@jupyter-widgets/controls",
      "_model_module_version": "1.5.0",
      "_model_name": "DropdownModel",
      "_options_labels": [
       "CU_pct",
       "MO_ppm",
       "LITO"
      ],
      "_view_count": null,
      "_view_module": "@jupyter-widgets/controls",
      "_view_module_version": "1.5.0",
      "_view_name": "DropdownView",
      "description": "col",
      "description_tooltip": null,
      "disabled": false,
      "index": 0,
      "layout": "IPY_MODEL_3a44a2edf23e4cec9aef557aeacd598a",
      "style": "IPY_MODEL_beca83ef666d4ad4846570dd41d30e90"
     }
    },
    "31c02ed1be0f404abc172e29cc780ab4": {
     "model_module": "@jupyter-widgets/controls",
     "model_name": "DescriptionStyleModel",
     "state": {
      "_model_module": "@jupyter-widgets/controls",
      "_model_module_version": "1.5.0",
      "_model_name": "DescriptionStyleModel",
      "_view_count": null,
      "_view_module": "@jupyter-widgets/base",
      "_view_module_version": "1.2.0",
      "_view_name": "StyleView",
      "description_width": ""
     }
    },
    "34fb6982fca343a8b773c64cc9a76fe8": {
     "model_module": "@jupyter-widgets/controls",
     "model_name": "SliderStyleModel",
     "state": {
      "_model_module": "@jupyter-widgets/controls",
      "_model_module_version": "1.5.0",
      "_model_name": "SliderStyleModel",
      "_view_count": null,
      "_view_module": "@jupyter-widgets/base",
      "_view_module_version": "1.2.0",
      "_view_name": "StyleView",
      "description_width": "",
      "handle_color": null
     }
    },
    "35f639d0910e44849323b980b39ae6cc": {
     "model_module": "@jupyter-widgets/output",
     "model_name": "OutputModel",
     "state": {
      "_dom_classes": [],
      "_model_module": "@jupyter-widgets/output",
      "_model_module_version": "1.0.0",
      "_model_name": "OutputModel",
      "_view_count": null,
      "_view_module": "@jupyter-widgets/output",
      "_view_module_version": "1.0.0",
      "_view_name": "OutputView",
      "layout": "IPY_MODEL_92bc210b18ee4835bf952c5b17ed1643",
      "msg_id": "",
      "outputs": [
       {
        "image/png": "iVBORw0KGgoAAAANSUhEUgAAAqwAAAKlCAYAAAAOzb74AAAABHNCSVQICAgIfAhkiAAAAAlwSFlzAAALEgAACxIB0t1+/AAAADh0RVh0U29mdHdhcmUAbWF0cGxvdGxpYiB2ZXJzaW9uMy4yLjIsIGh0dHA6Ly9tYXRwbG90bGliLm9yZy+WH4yJAAAgAElEQVR4nOydeXwV1fn/33OXrARC2HdZg2wViwiiUpCKULDUqogWtV8VRUTxW9f+aovF7YsoWkNd0FoaBWmtoqIUC7ZUimKtCAIKRETZCYTsy11mfn/Mnblzc+duyU1IyPPmpZmcOXPmzLk3M88853OeR9E0TUMQBEEQBEEQmiiOU90BQRAEQRAEQYiGGKyCIAiCIAhCk0YMVkEQBEEQBKFJIwarIAiCIAiC0KQRg1UQBEEQBEFo0ojBKgiCIAiCIDRpxGAVBCEi9913H7m5ueTm5nLgwIFT3Z24GD9+PLm5uYwfP/5Ud0UQBEFIEq5T3QFBEOpPbm5uyO9//vOf+d73vhf1mHfffZf//d//BeC2225j7ty5Dda/0xlN0/jss8/46KOP2LJlCwUFBRQVFeFwOMjJyWHQoEH88Ic/ZPLkyaSkpCTUdllZGW+//Tbr169n7969nDhxgoyMDNq1a8fAgQMZNWoUF198MdnZ2WHHlpSU8J///IcvvviC7du3c/jwYU6ePElpaSlpaWl07tyZoUOHMnnyZC688MKYfan9HYvGT37yEx577LGErlUQWjobNmxg9erVfP755xw/fhyv10tOTg4DBw5k3LhxTJ06lVatWiXlXH6/n2nTplFeXs7atWtD7k3btm3jscceY/v27WRmZjJx4kTuueceMjIybNu54oorKC0tZfXq1aSlpYXVOXr0KD/84Q8ZO3YszzzzTJ37LAarIJyGPPnkkyxbtuxUd+O05+uvv+b666/n2LFjtvsPHTrEoUOHWLduHc8++yxPPPEEQ4YMiavt9957j4cffpjjx4+HlHs8HoqLi/n666959913ycnJYcKECbbHz58/37bt8vJyCgoKKCgo4M033+Scc85h8eLFdOjQIa6+CYKQPE6cOMG8efP45JNPAOjbty9jxozB7XZz5MgRNm3axIYNG3j66af561//Srdu3ep9zhUrVrB7924eeeSREGP16NGjXHfddXi9Xs4//3wOHTrEihUrOHjwIEuXLg1rJz8/nx07dvDiiy/aGqsAnTp14pprruEPf/gDn3zyCSNHjqxTn8VgFYTTkI8//phNmzZx3nnn1audxx57TDxlUTh58qRprGZkZDB69GiGDx9O586dAdi1axdvvvkmx48fZ9++fVx//fWsWLGC/v37R203Pz+fhx56CAC3282ECRP4/ve/T7t27fD7/Rw8eND06kbD4XAwcOBAhg4dSu/evWnfvj1ut5uTJ0+ybds21qxZQ1VVFf/5z3+49tpreeONN0hPT4/aZv/+/Zk3b17UOl26dIm6XxAEndLSUmbMmMG3337L8OHDmT9/PgMHDgypU15ezooVK3juuecoLS2tt8FaUVHBM888Q/fu3Zk2bVrIvqVLl1JZWcnjjz/OpZdeit/v54YbbuBf//oX27ZtY9iwYWbdw4cP8/TTTzNlyhQuuOCCqOe86aabeOWVV3jsscd444036tRvMVgF4TQiPT2dqqoqQPey1tdgFWLTrVs3Zs2axZQpU8Km66ZOncqsWbOYM2cOn3zyCWVlZTz44IO88sorEdvbtGmTaawOGTKEp59+mu7du9vWraiowOfz2e4bP348kyZNspULAMyYMYO5c+dy/fXX8+2337J3717y8/OZNWtW1Ott27atrUdXEITE+e1vf8u3337LsGHDWLZsGampqWF1WrVqxU033cTFF18c84UyHlatWkVxcTEzZ87E6XSG7Nu5cyepqalMmTIFAKfTyU9/+lM++ugjPv/88xCDdcGCBbjdbn75y1/GPGdOTg7jxo1j7dq1/Pe//+X73/9+wv2WRVeCcBrRuXNnfvjDHwLwxRdf8P7775/iHp3enHnmmaxdu5arrroqorasdevWPPXUU+aD5j//+Q/79++3revxePjVr34FQNeuXVm2bFlEYxUgMzOTNm3a2O7r1KlTRGPVoGvXrtx9993m7xs2bIhaXxCE5PHdd9/x7rvvAvDggw/aGqtWevXqRceOHQGYOXMmubm5bN682bausWDWzpu5fPlygDDvKkBxcTFZWVk4HEHz0LjH1NTUmGV///vfWb9+PXfffTft2rWL2m+Dn/zkJyHnTxQxWAXhNGPevHnmzeapp57C7/fXua1IUQJ8Ph/nnXceubm5nHfeeXGd46uvvjLbirbA69ChQyxevJjLL7+cUaNGMWTIEMaMGcPPf/5zli9fjsfjqfP1JJvMzEzcbnfMeu3atWPEiBHm77t377at995773Hw4EEA7rjjjqQtsIhG3759ze3aetlTSe1oDzU1Nfzxj3/kiiuu4Nxzz+Xss8/msssu45VXXgn7Tuzfv5+HHnqISZMmcdZZZzFy5EhuuOEGNm3adCouRRBs+cc//oGqqgwYMIBBgwY1yjn37dtHQUEBvXr1sn0Z7tatG0VFRRQXF5tle/fuBTDrl5eXs2DBAs455xwuv/zyuM89cuRInE4n//znP+v0XBKDVRBOM/r168ePf/xjQF8U9NZbbyX9HC6Xi8mTJwP6goGNGzfGPObtt982t43+1eb5559n4sSJPPfcc3zxxRecPHkSr9fL8ePH2bRpEw8++CBTp07lm2++qVf/De9EJA9EQ5CZmWluWz0VVoy+pKSkcMkllzRKv6ze3vbt2zfKORPl2LFjXHXVVTz66KNs27aN4uJiKioq2LFjBwsWLGD27Nmm0bpu3TouvfRS8vPz2bt3L1VVVZSUlLBx40Z+/vOfR5VjCEJjsmPHDgCGDh3aaOc0FnadddZZtvvHjRuHqqo8/PDDnDx5kp07d/Lyyy/TqlUrzj33XEB3hBQVFfHggw+iKErc587MzGTAgAGUl5eb154IomEVhNOQ2267jdWrV+P1esnLy2PKlCkJh1SKxY9//GPy8/MB3RgdO3ZsxLqqqppTX9nZ2bZhlB555BEzskHr1q2ZPHkyQ4cOJTMzk8LCQtatW8fmzZvZt28fM2fO5M0332xWq9oLCgrM7a5du4bt93q9bN26FdAXNqWlpfHNN9/wpz/9iY0bN3LkyBEyMjLo2bMnY8eO5Wc/+1nMKf9YFBUVsWjRIvN3Q04SjW+++YYZM2awd+9eKioqaN26Nb1792b06NFMnz496Z+J1+vl9ttvZ+fOnYwdO5Zx48bRpk0b9u7dyyuvvMLJkyfZuHEjzz33HGPHjuWOO+4gNTWVa6+91ozI8K9//Yt3330XTdN47LHHGD16dIhnWRBOBUVFRQBxT6kngy+//BIg4vf/yiuv5K233uLtt98OcTLMnz+fnJwcvvjiC1599VVuvfXWkDY8Hg9OpzNME1ubvn378uWXX7Jz584QPWw8iMEqCKch3bt356qrriI/P5+DBw/y2muvce211yb1HEOHDqVPnz7s3buXDz74gMrKSts4fQCbN2/myJEjAFxyySVhxvO6detMY/W8887jySefpG3btiF1rr32Wl577TV+85vfUFhYyCOPPMLixYuTek0NxaeffmoarDk5ObYelYKCAqqrqwF9lf2qVav4zW9+Y5ZBMKTVtm3bWLZsGYsXL+b888+Pef4TJ06wZcsWQH95KCkpYceOHbz77ruUlpYCcP7553PNNdfEbKuwsJDCwsKQtk+cOMGnn37K888/z1133cV1110Xs514OXbsGIWFhSxcuDDMMz9lyhSmTZtGVVUVf/rTn1i9ejXdunVj2bJlIZEKfvzjH9OnTx9+97vf4fV6yc/PjxjySxBOZ06cOAEQ8WXX5XKRn5/PW2+9xRdffEFmZiYXX3wxw4cPx+/38+tf/5pevXpx8803A/Dhhx/y+OOPs2vXLpxOJ6NHjzbr2GGcty7yIzFYBeE05ZZbbuGvf/0rlZWVPPfcc/z0pz8NmZZOBpdeeilPPfUUlZWVvP/++7YifogtB/jd734H6IbakiVLIhq+V111FZ999hlvvfUWa9eu5fDhw00+hJLH4+G3v/2t+fuNN95o64WwGoG7d+/mH//4B36/n5EjR3LJJZfQtm1bDh48yFtvvcWePXsoLS3llltu4dVXX42ZJGLHjh3MmTPHdl+nTp2YPn06t9xyS0zvSM+ePRkzZgy5ublkZ2dTU1PDnj17WLt2Lfv378fj8fDII49QUlLC7bffHrWtRLjyyittvzdnnHEGl156KStXrqSsrIyysjL+8pe/2H4nbrzxRl566SUqKirikrAIQkOTk5MDBI3IxqC8vBwgqj4+JSWFK664giuuuCKkfNmyZezcuZP8/HxSUlLYtm0bt9xyC3379uWpp56itLSUJ598kuuuu47Vq1fbnsMoKysrS7jvomEVhNOU9u3bm17VEydONEgigUsvvdTUML3zzju2dWpqasxoBT179uTss88O2f/VV1+xa9cuQA+1FMlYtZ4T9AwrseKQRiI/P59du3axa9cuLrvssjq1ES8PPvigeX2DBg1i5syZtvWsN/DvvvsOv9/PL37xC/Lz87nmmmuYPHkyN910E6tWrWLq1KmAPl1+//33o2lanfqmKAojR47k+9//fkxj9ZVXXuHvf/878+fPZ8aMGUyaNIlp06Zx9913s3btWmbPnm3WXbJkCZ9++mmd+mTHz372s4j7rN+nIUOGRJxmTE1NNSUCBw4ciKgjFoTGYvDgwYAe0SXZqKpqW56VlQUEDdd4OXToEM888ww//elPzcD/L7/8Mj6fj2eeeYZJkyYxffp07rrrLg4fPszq1att2zHO27p164TOD2KwCsJpzY033mhOwfzhD38IWfmZDLp162bG0/voo49CvIQG69evN29ShqFlxWrYeDwe1q1bF/W/b7/91qz/9ddfJ/V6ks2LL77I66+/DugPisWLF0fUEtd+wJx33nm2MVFdLhcPPfSQmZzg66+/5t///nfUflx44YWmgb5jxw7+9a9/sXjxYoYNG8Y777zDddddx4IFCyLGdAU455xzIu5zOp3MmzePK6+80ix77rnnovYpXjIyMqImWrDq/2Jp4oxFZZqmmVIIQThV/OAHP8DhcLB792527tyZ0LFGdJLKykrb/YcOHbItN/5eEn0W/Pa3vyUtLY177rnHLPvqq69o27ZtyPS/sZjrq6++sm3HOG9ddLtisArCaUxWVhY33ngjoHvwXnjhhaSfw5iq9fv95sIqK1Y5gOEdtWKEcQLIy8tjzpw5Uf+zTq83ZaNj5cqVPP7444BudL3wwgucccYZEevXlmtYjb/apKWlhUyRJ+JpdrlcdOrUicmTJ/Paa6+ZMo5XXnmFJ598Mu527LjttttMj/vmzZtD9Ld1pU2bNlFXIltfAGItQrPWFQ+rcKrp1auXGW1l/vz5MUP2fffdd2ZmvU6dOgHBkFNWjh8/HnEVvhE+y7oINBZr167lH//4B/fff3/I31h6enrY35GRuCbS36xx3rqE8RKDVRBOc2bOnGkGm3711Vc5evRoUtu3LqKyGqeAuYIb9DdvO4OtLlomA6/XW+djGxJjwRToxuWzzz4bJoWoTe0pMmP6OhLGdCIQMRFBLBwOB7/+9a/NacL8/HxKSkrq1BboD1HjM/Z4PCGxe+uKNYB5MusKQlPggQceoEePHmzdupVrr73WlA9Zqays5OWXX+ayyy4z9a6jRo0C9Hu6YcSC7sG89957I3pejdBUn3/+eVz9Ky8v56GHHmLMmDFhDofc3FwqKyt57733zDIjNJ+dQVpRUcGePXto1apVyP0rXmTRlSCc5qSlpXHrrbcyf/58qqurWbJkSYiXsr60bt3aTLm3Y8cOvv76azPcyXvvvWcalXbeVSBEs7ps2TLzRtxcWb16takrTUlJYcmSJXFdU+/evUN+j5U0wDAyoX5Gf2ZmJt///vf55z//icfj4fPPP48aoiwWVg9MU/aAC0JTIDs7m+XLlzNv3jz++9//cumll9KvXz/69OmD2+3m6NGjbNu2DY/HQ/v27c2sU5MmTeKPf/wjO3fuZMqUKZx99tl4vV6++OILOnbsyIQJE1i3bl3Y+Xr06EFubi67du1i//799OjRI2r/nnzySUpLS3nwwQfD9s2aNYt33nmHu+++m7feeouSkhK2bNlCjx49+NGPfhRWf/Pmzfj9fn7wgx/E1MzbIa+jgtACuPzyy+nZsycAf/3rX0N0oMnAaoxavazGQiy3221OfdXGmNoCzNBXzZU1a9Zwzz33oKoqbreb3/3ud3GFnQJd02UN3B9rUYTVSLUar3XBKkeoj/ELodq4uiysEISWRseOHVm+fDnPPfccU6ZMobq6mg8//JD333+f/fv3c95557FgwQL+/ve/mzGcU1JSePnll5kxYwapqals3LiRvXv3Mm3aNF577bWo94Srr74aIGZSmW3btrFixQrmzJlja9j27t2bl19+mWHDhvHRRx+xZ88eLrnkEvLz820Xz65atSrk/IkiHlZBaAG43W5uv/127rrrLnw+H7/73e/MlJfJYOzYsWRnZ1NcXMw777zDvHnzOHDggBn784ILLgiLq2pgXczz73//O2JorKbOunXruOuuu/D7/bhcLp566inGjRuXUBsXXnihOaW2ffv2qN4Pq0YtmjY2HqwvMJE+p3g4duwY+/btA/TvnF2CBEEQ7Bk3blxC94zs7Gzmz59vG1P4scce47HHHrM97tJLL2Xx4sW8+eabzJ49O6K3c9iwYWaigUicc845rFixImZfi4qK+OCDDxg8eLC5UDdRxMMqCC2EKVOmkJubC8C7774bcRVnXbB6UA8ePMh///vfkLf3SKlYQU9AYKwCX7NmDXv27ElavxqLDRs2MG/ePHw+H06nk0WLFjFhwoSE27FOo/35z3+OWK+6ujpkfC+44IKEz2WwY8cO0/h1u931ShOZl5dnhtgaOXJkzBBlgiA0PhkZGdx+++0cOHDA9Ho2NEuXLsXr9XLffffVuQ0xWAWhhaAoCnfeeSegh/VJdk712rIAQw6QlZUV1ZurKAr/+7//C+iLqGbNmsW2bduinqugoMBc1FQXZs6cSW5uLrm5uaZHs65s2rSJuXPn4vV6cTqdLFy4kEmTJtWprfPPP58RI0aY7dpFdfD7/TzwwAOmfGLYsGFhIacqKip48sknzdSPkdixYwe33XabaWROmTLFdhr/iSeeiBgmx+jT008/zcqVK82yW265Jeq5BUE4dVx11VUMGDCAvLy8mNEJ6svRo0dZvnw5F198sRnDtS6IJEAQWhDjxo1j+PDhbNmyJeIq0royfPhwevXqxbfffssbb7xhLrayS8Vam/HjxzNnzhyWLFnCoUOHuPLKKxkzZgznnXcenTt3RlEUTp48SUFBAZ988gkFBQU4nU7bhQCNyZdffsmtt95qhna5+OKLSUtLs13sYKV3794Rc3n/9re/5eqrr6a4uJgnnniCDz/8kEsuuYScnBwOHTrEqlWr2L17N6BrT+2m/fx+P88//zwvvfQSI0aM4Hvf+x49e/akVatWeDweDh8+zCeffMKmTZvM+K99+vQJibFoZcWKFSxdupThw4dz9tlnc8YZZ5CVlUV1dTVff/01a9asCYlUcMstt9TrwSQIQsPidDojJntJNp06dWLr1q31bkcMVkFoYfziF7+ImjmoPlx66aU888wzIeGmoskBrNx+++106dKFxx57jPLycjZu3Bg1haYROP9U8uWXX5pxB0GXNKxZsybmcbfddhtz58613de3b1+WLl3KnXfeyYEDB/jkk0/45JNPwup16dKFvLy8iIYvgM/n4+OPP+bjjz+O2p+JEyfym9/8xkwVaYemaXz22Wd89tlnEeukp6dz1113Ndj3SxCElosYrILQwjjnnHO44IIL+PDDD5PetmGwGnTr1s2c4o6HK664gokTJ/LXv/6VjRs3snv3bnPVeZs2bTjjjDMYNmwYF1xwgRlP8HTEyED1l7/8hffff599+/ZRUlJCq1atGDBgABMmTODKK68kLS3N9vjWrVvz3nvvsXHjRrZu3cqePXs4cuQIFRUVuFwuWrduTe/evfne977HlClTGDhwYNT+vPTSS3z22Wds2bKFffv2UVRURHFxMU6nk+zsbHJzcxk9ejQ/+clPYgbvFwRBqAuKVtck1I3I0qVLWbRoEQMHDgxZaODxeFiyZAnvvPMOx44do1u3blxzzTXMnDkzamaU+fPns2LFCi666CJ+//vfh+wbP358SOYdg5tuuom77rorpKy0tJTHH3+cv//971RXVzNs2DDuv/9+zjzzzLDj169fT15eHgUFBbRr147LL7+cW265BZdL3hkEQRAEQWgZbNu2jby8PLZs2YLP56NHjx5cf/31XHbZZVGPa/LWUmFhIc8++6ztatM777yTDz74gMsvv5xBgwaxdetWHn74YUpLS7ntttts2/vqq694/fXXSU1NjXjOwYMHc91114WUDRgwIOR3VVWZNWsWu3fv5n/+539o27Yty5cvZ+bMmbzxxhtmzEvQVxDPmTOHUaNG8cADD7B7926WLFnCyZMneeCBBxIZDkEQBEEQhGaJYQ+NHDmSO+64A5fLxb59+zh8+HDMY5u8wfrEE08wZMgQNE0LyZqydetW1q1bx9y5c03jdMaMGbRt25bnn3+e6dOn06FDh7D2Hn74YaZOncrmzZsjnrNz584xdXd/+9vf2LJlC0uWLDHD10yaNImJEyeSl5fHwoULzboLFy5k0KBBvPTSS2a8s8zMTF544QVmzpxZ7xiKgiAIgiAITZmysjLuv/9+rrrqKn71q18lfHyTDmu1bds23n77be6///6wfYbwv3b6r8mTJ+PxeFi/fn3YMWvWrGH79u1maJ9oeDyekMUUtVm7di0dO3bkoosuMstycnKYNGkS69atMxedFBQUUFBQwPTp00OC81599dWoqsr7778fsy+CIAiCIAjNmXfeeYfS0lLuuOMOQM/ml4gqtcl6WDVNY8GCBUybNs1WE2rEDau96CA9PR2AnTt3hpRXV1ezcOFCbrzxRjp27Bj13P/+978566yz8Pv99OjRg5tuuonp06eH1Pnyyy8ZPHhwmFZ26NChrFy5ku+++46+ffua/RgyZEhIvU6dOtG5c+ewfhrEWqhSVlaGoigx840LgiAIghCZ8vJyHA5HxOdxU2bcuHH1TqdcF8rLy2PaH59++mnI7x999BF9+vRhw4YNPP744xw5coTWrVszffp07rzzzogZtwyarMG6atUqCgoKWLJkie3+3r17A7qn1eplNQbo2LFjIfVffPFFNE3jhhtuiHreAQMGMGLECM444wxOnjzJn//8Z379619TUlLCrFmzzHqFhYWMGjUq7HjDGD527Bh9+/alsLAQwFae0KFDh7B+JsJ5550XkrdbCGKEPGruuekbChmf6Mj4REfGJzoyPtFpauNTWVlpphRubpSVlVFWVkZWVuR1Ock/Z02djvv22285cuQI9913HzfeeCODBg3iH//4B0uXLqWmpob/9//+X9Tjm6TBWl5ezhNPPMGsWbMiekPHjh1Lt27dePTRR0lNTeXMM89k69atLF68GJfLRXV1tVn30KFDLF26lAULFkQMA2Pw3HPPhfx+2WWXcfXVV/P73/+eGTNmkJWVBegeW7tg6EaZcX7jp13d1NTUiLKD2m8mtRkxYgTFxcX1ztJzulJRUQHoWmEhHBmf6Mj4REfGJzoyPtFpauMzYsSIZj1bmZWVyuZP722085074v+AlJh2Sm0qKyspKSnhF7/4hekAvPjii6msrGTFihXMnj07aizoJqlhffbZZ3G73fz85z+PWCc1NZXnn3+eNm3aMGfOHMaPH8+9997LnDlzaNOmTUhUgYULFzJgwACmTp2acF+cTifXXXcdVVVVbNmyxSxPS0uzTWdWW6pg/LSrW1NTE9OAFgRBEARBaO4Y9s6UKVNCyqdOnYrX6+WLL76IenyT87AeO3aMZcuWcccdd3D8+HGzvKamBq/Xy4EDB8jKyqJNmzb079+f1atXU1BQQElJCf369SMtLY1HH32UXr16AbB9+3bWrFnDokWLQuKr+nw+qqurOXDgANnZ2VHfrozpi5KSErMs0nS+UWZ4hg0pQGFhYZi3uLCwkOHDhyc0PoIgCIIgCFZU1X+quxCTDh06sGfPHtq3bx9SbvxutbHsaHIG64kTJ/B6vSxatIhFixaF7b/oootCgvgrikL//v3N/Rs2bEBVVUaPHg0ENTK1g/4DHD16lIsuuoj58+czY8aMiH0ycmRbXdUDBw5ky5YtaJoWsvBq27ZtZGRkmHFYjQVj27dvZ/DgwSHnPnLkiO2CMkEQBEEQhNOJwYMHs2nTJo4ePUqPHj3McsNOiyYHgCZosHbv3t12odVTTz1FZWUlv/zlLyPGLa2urubpp5+mX79+jBkzBtBTHNq198ADD9C9e3duvvlmMy1hcXExrVu3xuEIKiVqamp46aWXyMzM5KyzzjLLL7nkEtauXcv69evNOKxFRUX87W9/46KLLsLtdgPQv39/+vTpw8qVK7n88svNVXArVqzA4XBw8cUX12GUBEEQBEEQdDTNd6q7EJNLLrmEpUuX8vrrr5vhRTVN4y9/+QsZGRkhNpYdTc5gzcrKMg1AK8uWLcPpdIbsmzt3Lp07d6Zfv36UlZXxxhtvcOTIEfLz803DsGPHjrbtPfLII3To0CFk3wcffMBzzz3HxIkT6datG8XFxbz55pvs27eP+fPnhwjEJ06cyFlnncU999xjZrpasWIFqqoyd+7ckHPdc889zJ49mxtuuIHJkyeze/duXn31VaZPn25GOxAEQRAEQThdGTJkCNOmTeP555/nxIkTDBo0iA0bNrBx40buvvvumAvfmpzBmghDhgzhzTffZOXKlaSnpzNq1Cjy8vLo06dPndobMGAAffr04a233qKoqIiUlBQGDx7Mfffdx7hx40LqOp1OXnjhBRYuXEh+fj41NTUMHTqU//u//zP1s3FJs50AACAASURBVAbjxo0jLy+PvLw8FixYQE5ODrNnz+bWW2+t87ULgiAIgiA0JxYsWECXLl1YtWoVq1atonv37jz44INcddVVMY9VtETSDAhNhhEjRtCzZ08JaxWBphY2pakh4xMdGZ/oyPhER8YnOk1tfIxEPYmGaWoK6H338O+P58asmyzGjHqGuoS1qi9NMqyVIAiCIAiCIBg0a0mAIAiCIAhCS0ZDQ23ERVcaGkrsaklHPKyCIAiCIAhCk0Y8rIItL7ywlOXLXwPg0KHDHDt2DI/HY2bsUlUVTdNwOBxomhayrSgKiqKgqmrc27XbqG/bZ545EFVV2bVrd1znyXH2IdvZE0VRcCvpuJRUFIcDVAUHDhwOBU3VAAXF3AbFoVCtVeFRalBR8Wv+QFxeDdUSo7d2vF6HQ0ENtBHPtoICGuhNKCHtGdvlvsNU+I+hKA58ajV+zYvDoZDp6ESmswOKQ0HR3LiUFPrkdgVNYd/uY5brCW0v9JygaYRdg6bqRylKoI3A52CWW8ctQnvWcsX4V6s9VM3SXqCeQwEVHDhAQ2/DAWjB8dEUDVVTcSgKhli/9udnt91zYEdQNb7bXRhSXujbwwnfPhQFvFoVHrVKPw8qqurX6zaRv4Gm9PfVFK9Bxqdx2gY9NbmRnrxTp46cc46uGb3wwguYNeumuJ9LQmSaQ1ir+iIGq2DL8uWvsWHDv2LWU1U1bNu6ji/Rbbv26tK23+8PayPaedq4e5Dp6BC8MA3wY057qH7N3KH5Lefya1QrVfgI3izi6aPfn9g26Eaa3oRm23aZ9yg1amimEL8KaantSFFaQ/AS0FQFcKBpWK4nvK/Bc9pfg6IpgIJmHKtpge1Aea22I7VnlhvN1GpPCdTS2wsY1n4NpxY6SaSpoeOjBixnVQv9zGJvB79v1vLj3m8oV2tluLNej2r/2SSynay/gYZsO9G/r6Z4DQ3ZtoxP6HZVVRVVVVWAns3IiHV+4MBBMViFuBGDVRAEQRAEoRnTEjysomEVbDl8+PCp7oIgCIJwGiPPGSERxGAVbDl69FjsSoIgCIJQR+Q5IySCSAIEQRAEQRCaKxpoaiNKAoJLCRoV8bAKthjRAARBEAShIZDnjJAI4mEVbJEbiSAIgtCQyHMmWWjQqIuutNhVGgDxsAqCIAiCIAhNGvGwCrZYY+gJgiAIQrKR50zyaAlhrcRgFWxpaTeSk75vzW2Xko5bSQNAwYETZ0SBuYJCipYKgB8VDdWuUr3R4piCyXR1xMhf4Ndq8Gv6dFuFL7gS16Wk4FRS0DQ/oKJpajD1VIIo1oQBpwg/qp7pCvthVgJZwWISYwg0TQUUcpy9jBI8WhU+rQb90/Gf8rEQhOZGS3vOCPVDDFbBFofDYWZraQm0dfWilbOj7T4zpSeBFKm18Cg1+JSGf7vVLNmi7PqR5epClqsLAEeqt+LTqgEo8x+izH8IgM6pZ+F2ZKAoTv0gxUgv5bBtM9Y5I5VjUx5PG5HrWMfeUkcBFRWnZt9/sP/MrKh2Lxm12FWzPjzDlSAI9cLIeCUkAdV7qnvQ4Mi3RbBF3nwFQRCEhkSeM0IiiIdVsKWl3UgiSwIUFJwoimJkqA87NpYkQFMSH8toXsFYU88KCpnODhh99WseizygEAXw+FvhUNyoAd2TghNw1FkecKrxo+KM8f4dzQMb9n3XLD8VAlIAkQEIQjJpac8ZoX6IwSrYIpIAe+zkATVKFT4lmdMxsSc+Yk3VV/gLqVFLw8ozXR1Ic2aT4szSz6QYt4DIU+rRztOQkoBIEgxs6kTuR2zsjlVw6C8fgeIi/7eUq4V1al8QBHtEEpA8WsKiK/m2CLbIm68gCILQkMhzRkgE8bAKtrS0G0k8kgAr1qngFE2vqwb+hckGEnb8RZ9otnoDI9XMdHWIGjGgxt8KZ4gkwAE4m60kIB4S9cAqKOZHmeM8A9DwalV4RRIgCEmhpT1nGg4NGjM16ym674nBKtgikoDolCnFSZYBWDFW7kOsqXq9drg8IMvVlSxXVwCOVG/DFzBYy/xHKPMfIdtbRTt3f4skwDhvYlP/dZUExCcPiBAZIKR+/SUBkVHMkFknRRIgCElHJAFCIojBKtgib76CIAhCQyLPmSTSqB7WU4MYrIItLe1GkqgkwK2lmlEDVJvoANEiAyTmCUyCPMDZwayhRwzwouCgyn+SKn8FEEwoYEYLgNNOHlAfD2yOoxeapuHVKvFiSAIiJIoQBCEuWtpzRqgfYrAKtihKnBmCThMSlQR4lRr8tSQB8QSgT9xoih7Yv3bb8UYM0FCpVE9wtKYAgM6pQ3E7MiKeJ+KUu2KRJGjWOg0nCbCLHtAwkoAgReq3lGuSOEAQkkltR4BQDyRKgNBSUVXxHAmCIAgNhzxnhEQQD6tgS0vzsCZDEqCgBKflIzgO4gn6X7cjIxMaMUBPIqAE3lWNVssD0QOcSmpAGmD4MQ15QPRzhFx7otTna5bAsSIJEISmhXhYhUQQg1WwpaUZrG3cPchwtg8rD53mDlKfZAF2hl3sKe34IgfYRwzoQparCwBHq7ebIa6MegCtXB1Jc7ZJuO3I1xC/JCBye7ElAdb4AHZtqEkKvyKSAEFIPmKwJg+lBSy6EkmAYItM1QiCIAgNiTxnhEQQD6tgS0vzsBb7vsPw0bmUNFxKGsaUuJ6jPtQTYCQLACNhQK2YtQk6DhKTCsSOHBCpRoarPfjArWTix2tO+Vf4jgN1lwSc7ogkQBCSj3hYk4UkDhBaMC3NYM129aSVGf4pFEOrapUHeJTqpCcOiF8qEFseEGmaPcvVmSxXZ9qlduFEzdemwVXmP0K5epTOKUNJcWRG7WdDSgIiTe0nKgkwtq1jWh95gEgCBCH5iMEqJIIYrIItMlUjCIIgNCTynEkSGo3rYdWTIjY6YrAKtrQ0D2tkSYA+La4oodPssSQB0RIHWIm1cj22VKDu0QPSnNmkOLIAUDUvKj4q/Mcx7kROxY1TSQnUtnhyT7VTpI4XrCR8qBr4G9BEEiAIDYB4WIVEEINVsKWlGazRJAEGZcpJUwaQHEMlvpu1hhZxGt5u6t16XLCGTaQDtQSvVhFSluHMIdXZKvBbYnKD5EsCossAwuuHnqv2fj+q7UhFkgrs837Cf6s32e4TBKH+iMGaPJQWkDhADFbBlpZkrEJ8HlY3qejDoqHit2S2ih57NTL1T7sKKtGCfURagKUBqc5sUgMeVp/qQcVLhf8Ehi/ydFuAFcnDGqm8tdKFVkpHQMOrVeGlWryqgpBEWtpzRqgfYrAKtjgcDvx+f+yKpwnxeFg91D32amSMG3b0OKyRPayAaUDF7xFVgExnOzqnDgXgSM0OalQv5f5jlPv1xUWdU4bYLsBqqh5W+7Lgtq92JIeIPdVHslQ7LAutBKEBcTgksqYQP2KwCrbIm68gCILQkMhzJomop7+DSQxWwZaWdiPRJQG6ty0oCQhNzZpCGmiBBZmoaEldaFX3xVPBduNvQzPr60dkOtqBBj5NlwYAFnmAsQDLHTiPAwfOZicNiCSPiES20oUspSOaSAIEoUFoac8ZoX6IwSrY0tIkAW1cEVKzWiaMPQRjr4YlCogTJWpyuejygFiLqCIdF0kSYG2zQj1BjVYWUifT2Y40Z+u42gsvbxxJgCPCtdkdl6ihWawdpkwkAYLQYIgkIFlojZya9dS8aMi3RbBF3nwFQRCEhkSeM0IiiIdVsKWl3UhKfPvNbdvUrAFJgGYGBFBML6s5zRzHFHl8KVjrKg+IHjEgtB/B/igoZDjbAcFoAUAgJquONSbrKZEERBiQ+K9YJAGC0NRoac+ZBkU0rEJLpSVKAjJjpGatphKf4qnnmTTL1L79qn7rWWNNrYdjHzGgtpzAOukOkOXqRGtXZ47WfEVNIJ5fuVpIuVoIQKeUQbiVjKjnT4YkwGHpd7yxV4090fbrbQfx4otpuookQBAaFpEECIkgBqtgi7z5CoIgCA2JPGeSSKNqWE8NYrAKtrS0G0lkSYAuCwhGCdDqFCUg2iKq6MckLg+I5zirJMBKhrMt+PVSv+atFTFAx0kKLiXF4vt0JC4PiDjFr+JoBGm9A8XMcBVpnEQSIAgNS0t7zgj1QwxWwRaRBIRjjRKQmNESedo/fnlA6BR7fSMG1JYEGKWV/pPUaOVhbVT4C6nw6/KAzimDcAbkAXZtRzq/db8TZ4Qp/NiRAazlDsseOxlA6PmDqSD9mgqW9gysBrxIAgShYRFJgJAIYrAKtsibryAIgtCQyHMmeSiy6EpoqbS0G0lkSQAogRXxoZIAvyUWa6woAdGn5+NZvR4p331koq+fjywJyAG/XubXfKj4AvWCHuVya/QArNED9JgK8eDHb079B0QFdSKRKAGAeeEiCRCEU09Le84I9UMMVsEWRVFa1M0ky9WN9EBoJytlnEhCZACIlRQgtjwgnpX5VuwlBrEkAVmujmS5OgJwrGYXNZonWDMwnd7K2Z40h01CAc1eEqDU+le73/FIApy1rqd2nUiSAKsMwFrHp6m2hqr1OJEECELDYvxtCkmgBXhYRUAi2KKq4kUSBEEQGg55zgiJIB5WwZaW5mEt9R0wtw1JgIKCixTT82kbGSDKRL2996D+8oD4qJskwEq6MwfNb7TmRcWPhkaFv8isU1dJQFxYuua3RA9I2Cdjc4kOyzjHkgQAeLQqvFSJJEAQkoh4WJOF1sga1lNjG4jBKtjS0gzWYt8+in37AOiZdj6pjiwAfHjwByIDqFr8N4Toqsy6ygPsj7OPGFA3SYCVLFcHslx65IRjnj34A9EDytVCKlRdx9rRnYtbSdfbSLIkwBkhiYC1385abZp1bWQAVjRNM8sjGe0iCRCEhkUMViERxGAVbJGpGkEQBKEhkedMktBoXA3rKfJlicEq2NLSPKxWSn0Hgl45RUVxGN46h8UbF31sNLSoVXTPQkPKA+ovCbCS4cgGNSCN0Hz4A9EDKmvJA1ykBL2nSv3kAYYMIJoPxo9+lWF1og9sSJSASBEYRBIgCA2LeFiFRBCDVbClJRusrV3dSHfmAFDKcdM4SwzN1hg0smZZ6xl74o8CEG9dw7CyTq3bSwKMHkeKOlClluDVqsLKM5w5pAXkE8mQBDhs+hpex748liRAIWjYOpVg4oJqzWcar9bYASIJEISGRQxWIRHEYBVskakaQRAEoSGR50xyUGjcxAGn6jVDDFbBlpbsYS0xIwYouiRAUczpeQ0t5K81apQAu8U+MaQC4YckHBrfhvA2EpUEpDuzMQIk+DUvKj7biAH1lQSolmgAkevEMSIJjLHTIgrQMIKZayIJEIQGRjysQiKIwSrY0pIN1jau7mQ42wO6JEALGGeJGSr2N2IFJcpNOlwe0BBJBAzD265+pDZaOTuS5ewEQKF3Dx7Nh4JCpXaSKn8xAB2d/XAqrpCWrG1GkgQ4IkQDiJUsIHhlSlwyAGsbVvyWT3Z7zd8oVY9ysiYXQCQBgtCAiMGaRFpA4gAxWAVbWqqxCpE9rCpYPKyxxieS71IFLbJ/MHwxVkN5WLWQn4m0ke7IDshjNVT8+PGDBpVqMTgMY9ONCzeGaeoIpLe1b9neqxpP7NWQK4t1KREasXpYOzr7gAaZSg4+rQZH4BYpnlVBSD4t+TkjJI4YrIItDocDv//0f2Ozw+phLeEYKnUdh0hxU9VAae0FWESsH+pprZ+H1Vo3Xg+rtY1qrQwv1bVPToYjmzSlVVgfk+1hddbqo4Kil4V4WAk7zuqFteLVVPOIQv83lGpHqdCyAVDrtOBOEIR4cDgk2WayaNzEAaeGZvFtWbp0Kbm5ufz4xz8OKfd4PCxevJjx48czZMgQJk6cyJ/+9KeYb23z588nNzeXW2+9NaT85MmTvPjii1x99dWMGjWKESNGMH36dNasWRPWxhtvvEFubq7tfzU1NWH1169fz09+8hOGDh3KD37wA/Ly8vD5mu7DUN58BUEQhIZEnjNCIjR5D2thYSHPPvssGRkZYfvuvPNOPvjgAy6//HIGDRrE1q1befjhhyktLeW2226zbe+rr77i9ddfJzU1NWzf559/zlNPPcWFF17I7NmzcblcrF27lnnz5rF3717mzJlj24cuXbqElLnd7pDfN2zYwJw5cxg1ahQPPPAAu3fvZsmSJZw8eZIHHnggkeFoNFryjcQqCVAUDYeiv9fVfdFV3eQBoY7O+kgDki0JaGPGZPVrvuACLLXYPI2TlLpLAgJdiiQJsIu96gccgeNsRyn4UYRRWxKgoYkkQBAagZb8nEk6LcDD2uQN1ieeeIIhQ4agaRqlpaVm+datW1m3bh1z5841jdMZM2bQtm1bnn/+eaZPn06HDh3C2nv44YeZOnUqmzdvDtvXr18/1q5dS7du3cyyq6++muuvv54XXniBG264gbS0tJBjxo4dy5lnnhn1GhYuXMigQYN46aWXcDr1ldOZmZm88MILzJw5kzPOOCPu8WgsWrIkIMvdlbRAHNYy7ThqwFDREpIG1DabEpEH2E3V157Wt1ug1TiSgExHOzId7QA44fvGsgCryEwk0NHZD4eRstVGEuCMIHFwavbyAGvs1bA4rIpSq25sGYBVNuDR9CVoAMf8eylVRRIgCI2BSAKERGjS35Zt27bx9ttvc//994ft++yzzwD40Y9+FFI+efJkPB4P69evDztmzZo1bN++nTvvvNP2fD169AgxVkF/2E2YMIHq6moOHjxoe1x5eXnEeHIFBQUUFBQwffp001gF3RBWVZX333/f9rhTjbz5CoIgCA2JPGeERGiyHlZN01iwYAHTpk2z9WB6PB6AMI9nerru1dm5c2dIeXV1NQsXLuTGG2+kY8eOCfXl+PHjALRt2zZs39VXX01lZSWpqan84Ac/4L777qNr167mfqMfQ4YMCTmuU6dOdO7cOayfBiNGjIjap7KyMjp37kxFRUVC1xIvubkDmvXNpD5e61bOFDJd+veoI11RFX1Rjj4tHG+UgEjr2uNZMFV72RBmpIJo7Sk2xwVrhb6bdu3ZPkI/IvVdCWsDoLOagUcrB8Cv+QMhwCBdySJd0TNgOXDjxBXwjAb9n8Hp/mC/Fc1YhIVlX+2zK2YNpVYdo8wRrBrxOg3Pq19T8QW+62n+CylSD9CjVzf8mgcnLj02q0gCQmiKs0JNCRmf6BjjoyhKgz3DEqFnz5589913p7ob9UBDadQkDKfGNmiyBuuqVasoKChgyZIltvt79+4N6J5Wq5f1008/BeDYsdD4iS+++CKapnHDDTck1I/i4mL+8pe/MHLkSHJycszy9PR0LrvsMs4991wyMzPZunUry5YtY+vWrbz55ptm3cLCQgBbeUKHDh3C+tlUaMmSgExXR9KcbQAo14rqGCXA+gcdaoxGMliJkrI18lR97bbtiCQJsDNNI50HQlO96mQ42pCJPn1e7D+EFz8KUE0p1Zou4clRuuNUUkP659SCKtTQKX6lVjlhdaxX6kBBUWxNfPP/kaIHGOPtUpzmjbDEe5By9QRVmm5s1y0tryAI8SCSACERmqTBWl5ezhNPPMGsWbMiekPHjh1Lt27dePTRR0lNTeXMM89k69atLF68GJfLRXV1MOzOoUOHWLp0KQsWLAjzyEZDVVXuuusuysrK+NWvfhWyb9KkSUyaNMn8/Yc//CHnnHMOs2bNYtmyZabswOhHSkpKWPupqalUVYXnZ4eg4R2JESNGcOTIETIzM+O+nkT48suvTou0eV99tSvhY8rTc8hw6p9bqXYMH+FRHxIjnpBU0UNc2ScQCG0vEQ2rUf+b3YdtzxYdh+05j/u+xUNlWO1ODidpSlZIXatWNSSslWavVbULZWWWmxpWwvZHM1jtxntP5V6K1OCY1OX705KQ8YmOjE90du/e02DPsERo3t7VAC1g0VWTfL159tlncbvd/PznP49YJzU1leeff542bdowZ84cxo8fz7333sucOXNo06ZNSFSBhQsXMmDAAKZOnZpQPxYsWMDGjRt59NFHyc3NjVl/7Nix9OnTh48++sgsMwxkQ8JgpaamJiEDujFpznKA+lLmPUil/wSV/hOgajg0Bw7NgaIpAcdnwNDR9HGy/mePFsc/NaytkP8CcoS6/avPseH/Il1PutIaN+m4SceJ2/SWVmjFVGvleLRq/JpP/w8/auCfP0L/rKV+c1I+tI4fDTXimAX+RRvXWv91cfWlraMzrR3tSFMycQbkDHZyCEEQ6kdLfs4IidPkPKzHjh1j2bJl3HHHHaZ2FHTjzuv1cuDAAbKysmjTpg39+/dn9erVFBQUUFJSQr9+/UhLS+PRRx+lV69eAGzfvp01a9awaNGikEVTPp+P6upqDhw4QHZ2Nq1atQrpR15eHsuXL+eee+5hypQpcfe/S5cuIecxpACFhYVh3uLCwkKGDx8e/+A0Ii1ZEtDK3ZU0p65XLtMKzSgBqhbwOEe4x0b2TNb2WkZIwdqIHtZoMgMt0L94ZAjWOtVaOT6sL2a6dCBTaUua0gqn5gz1fNp4WONJFuAIeFWt7USKDBCPV9Va57Dva06qRyhVdUmIH6/N9QuCkAxEEpBEWoCHtckZrCdOnMDr9bJo0SIWLVoUtv+iiy7ipptu4q677gL0B1D//v3N/Rs2bEBVVUaPHg3AkSNHAMz6Vo4ePcpFF13E/PnzmTFjhln+6quv8swzz3D99dcnrHndv38/7dq1M383Foxt376dwYMHh5z7yJEjMUNinSrkzVcQBEFoSOQ5IyRCkzNYu3fvbrvQ6qmnnqKyspJf/vKXEVdgVldX8/TTT9OvXz/GjBkDwLBhw2zbe+CBB+jevTs333wzAwcONMvfe+89HnroIaZOncp9990XsZ9FRUUhi7AA3nnnHb777ruQjFz9+/enT58+rFy5kssvv9wMbbVixQocDgcXX3xx5ME4hbTkG0mZ1/CQKyhoKEoweL1mekfDx0dDi+B9tQTujygPjZVE4FQnDojeHkCaozWGE1rFSCgAFVoxAC5ScKNruXWvqO5NtSYOiCdZgEowSYBtj/QPKnEUha6uvmg+jdaOdni0apy40WMESJQAQUg2Lfk5k1Q0ULRGvD+doo+tyRmsWVlZTJgwIax82bJlOJ3OkH1z586lc+fO9OvXj7KyMt544w2OHDlCfn6+aRh27NjRtr1HHnmEDh06hOzbtm0b99xzD9nZ2YwePZq333475JgxY8bQvr2eY/6qq65i8ODBDBo0iFatWrFt2zZWrVrFGWecwXXXXRdy3D333MPs2bO54YYbmDx5Mrt37+bVV19l+vTpZrSDpkZzkAREWxxUO9RRImS5u5Hu1L3kpeqxhFaKh0ynh0w/W1fY2y/AipZEoDElAbXrxGrPuOYMRzaZDl1KccK/HzUQMaCSYiq1YjrTD6fiCrQdWxIQK1mAXj/8s3YSOvUfMUqADYcSlATU5fsVD3V7kRCE5oVIAoREaHIGayIMGTKEN998k5UrV5Kens6oUaPIy8ujT58+dWqvoKAAr9dLUVERv/zlL8P2/+lPfzIN1kmTJvHPf/6TDz/8kOrqajp27Mg111zDbbfdRlZWVshx48aNIy8vj7y8PBYsWEBOTg6zZ8/m1ltvrVM/GwN58xUEQRAaEnnOCInQbAzW/Pz8sLKbb76Zm2++uU7tffDBB2Fll112GZdddllcx995550RM2bZMWHCBFtPb1OlOdxIGsoLVeY9ZG4raIEp6kDiAEUjnjnnmPKAqI45O3lAPLKCKO01giTASpqSBYHvkIoeFaCCYpTA6Zy4ceFCH1fNlAFAMKGAhu4ttT1joB2rVAD0DT9ByUDUoVJqe52hm6svJCAJiDZ+DeV9FYTThebwnGk2yKIroaWiKEqj3Uya2oO9zLefMt9+AFql9sbtbFWrRnzjYi8PSDQma7BOiGTApo3GkwSAncTBWt9LFaqi30A1TcWBQiuySVNaBY6yyAA0exlArNiren1LEgRrWRwyALuIAYf8X1NkkQSoFjlIY35P4zmXyAaE5o59ZBRBsEcMVsGW0yFpgCAIgtB0kedMEmkBYykGq2BLY3pYm/K0qsdXjJnmU3GZi4ZM312t7kWMa2peos10etghyY4YkGxJQKAbhMZNsJJKprnHiBhQQbE5Di5ScOEO9MGJ05QBOEwZgDHdr58riDHlb0YMqHXuqKNj9ejYfL+7uvqhaRqtHe0DkgBXoM1g2oLQ6xcEoa6Ih1VIBDFYBVuSZbA294d6iisbt1NPHRiuYaw9PvbXGlkSYG0jUhKB8Gn5xpIE6L2rWxKBTKUtrdDDvhVxEC8aFZRQQQkAnemDk3QgPkmANVmANTKAcd54IwPEkgroiQOOUqZmA4RFiGhK3+dIfRGpgNBcEIM1ibQAD6vElBBskakaQRAEoSGR54yQCOJhFWxJloe1KU/3x0OoJMCJQ7H+ydSOtRrlapuhJMAu1mo8beulfnO1fxr6Qis/XlT0hVgVlJjtu3DjNuUBDhw4UQiVBGiAs1ZkAL2PJBYZIBpG4gBNEgcIQmMgHtZkoaE0qvF/anydYrAKtiRqsDYH47MupLja4HKmJ3CE3RR/YkkEmkriALv60dq21nEEJvQBspQcWtOOExzAQxUArbW2pKFLLeJJFmAXGUA/p/5djRYZINHEAUUJJA5oikTUUQtCE0MMViERRBIg2CJTNYIgCEJDIs8ZIRHEwyrYkqiHtblP/UfC4ysxtxXFZZEE6P66yB6CWiOSUBKBppE4IFmSAH0K30Eqrcx2qqhACex34bJEDFBMSYC1ZeuUvzWhQPRexEAx/2deaTeRBAhCoyEe1iQikgChpRLJYG3Oxmdd0CUBmXU4MpokwKBlSAKcgW0PVfgDGtYS5TglFALQTeuDkzRLa/FLAozoAFZJANjLAHT5QPTrPHgaSALsiO/lQxAaFzFYhUQQg1WwJ8IzLdbD7nQzaMXDSox6iXhYM43GoGze0QAAIABJREFU8OPAr+jGYBklGBcVugAr6G2N5GE1FmBp1ErRGpUI4ccU6O7qi4ZGa2c7PKp4WAWhIZHUrEmkGcgrNm/ezLXXXmu777333qNv375RjxeDVbDF4XCg+eVmkgwPKySWpjU5Hlb7+kYdI1B/Y3pYW2ttcdAOgGMcQA0YgK1pS7q5ACt27FVrueFZtXpSwxZgRbhEu+s56PuaIv8RSv2nl4fVisRvFZoKDocso2mJXHfddQwePDikrFOnTjGPE4NVsEXefAVBEISGRJ4zSaQZeFgNRo4cyYQJExI+TgxWwRa5kejEkgQE99X2WtUnJmsyJAHRlyFp5s/QXibufYtfEmAlnVZmatQqKrEuwHIHbksaCg4tQkzWKGePfuWW61PCr6m7ux8akO1sT41aJZIAQWhA5DnTcikvLyctLQ2XK34zVAxWwRaHw4Hf7z/V3TjlWCUBmmYdD42g2WdnHtlPoSdHEhCl7TglAdaW4qE+kgCX5sIR+GeUeRUPWqC5k1ohRRwFoKfaF1dgAVashVZmuTH9b5UPWO1S23Gwlwr0ThlM75TBdE7LYUv1htNSEhAJWZglNDYiCUgSGqA24vNag7KyMkaMGBG12qeffmpbfvfdd1NZWYnL5eLcc8/l3nvvJTc3N+ZpxWAVbJE3X0EQBKEhkedMy8LtdjNx4kQuvPBC2rZty65du/jDH/7A1Vdfzeuvv07v3r2jHi8Gq2CL3Eh0QiQBOFEUawRQwwOoEXW4wtUCAVqKJMBvtmGUpWrpIb3w4QGgTClBCbhe3bhxa270EVYCHtrI8gCDsNStoRdovSi7GiYdXT1o5+yMBlSrlXg0PSyXSAMEITnIc6b5kpWVFdGDGomzzz6bs88+2/z9oosuYvz48fz0pz8lLy+PJ554IurxYrAKtogkQCeyJMCKXXirxpEEJDpVH+xHsKXwXicSN8v+PE5cpnFqRAlwBpKwAvgUD6qiG366IavfirK1tmQoRsSA6JEBrNvR4q0G+xc7DqvZhgLHfPs54T+SwFgIgpAIIglIHkozWnRlZeDAgYwePZqPP/44Zl35tgi2yJuvIAiC0JDIc0YA6NKlCyUlJTHriYdVsEVuJDqnuyQgvDz25x7qgbU/QiXUGx2MEmBIAtICR+ptGYubyigLlGmBFAKuoCRAC0/ZGl9EgPg+nNre104BSQDokoAakQQIQlKR50wSaaYeVoD9+/fTtm3bmPXEYBVsEUmATvOSBESPDBBaZpypvpMswWgJiiUygAOn2bYrsO3UgmWtaUMbLRuAQsdRPIHuFSsnOckJAHqrvXGbEQPsU68akoBIkQHC5QGxr8bgaAuWBEjEAKExEElAy6KoqIicnJyQsk8//ZTNmzczbdq0mMeLwSrYIm++giAIQkMiz5lkoTWyh7Vun9u8efNIT09n+PDhtG3blj179rBy5Uratm3L3LlzYx4vBqtgi9xIdJqXJCD6BHntLihoUbxniS290tsM3jCtkgA7v7Rm8e6maxlYb4BGxIBSSs1euHGRornNnhmpZY0rjhoZIAR7d6vdMSIJEISGRZ4zLYsJEybwzjvv8PLLL1NeXk5OTg5Tpkxh7ty5dO3aNebxYrAKtiiK0nxvJooSnAeOtSzcDst1N1dJQKTV/sHWHObv4X0JR7M1O2u37cDIWBUqCXDjwBGQBlhW/Qe2PYoHfyDrlIpqttFGyyaTDCBysgBjOySBAPYyAMVSJxZOReGY70CLlQRYEXmA0FDE+/coxEEz0LBee+21XHvttXU+XgQkgi1qM/jyC4IgCM0Xec4IiSAeVsGWZu1h1bSgl7T2NST4Rn/6SgK0kJ+xj9WvM3pb9pIAHz5cOAMljkBdqyQgPaQ1XyBiQCll5qW6ceHWLBEDAr5ao9exrzx2xIDa3p7Oru60d3ZBQxNJgCA0AOJhFRJBDFbBllNisCbz5lUfSYDlmNNBEmBXxxHID+WI+xZgnRYOjoNqMd6s35ZQSYDLIgkwkgkE+9RGyyKb1gAcVo6gBuQBbWlDBumB9uwlAUZ0AGuZtbdWGYA1uYAVq/npVMChgMsBR30HOO4/HHVUWhrW75TIA4T6IgZrElFP/79HkQQItshUjSAIgtCQyHNGSATxsAq2nBIPa6zznYK3cY/fkAQEvJxWSYBieAmbkyRAr2N0weolU1DijLEflAdYPW3WqXI9EYB+e/GhBNKzgtPSmMOUB4BD01vNINNsrZLqwAIsDRcu3JozsCewyIpgdAAt8DOhb4gSclFA0EmhatDZ3Z0OFklAtUgCBCGpiIc1ibQA418MVsGWBjdYm8mNKsUZlAQkRuNLAhw4zRX2sRIKKBjhoZy1yu37rYYYo1YZgNXgDUYJcJFitp2ipeA0RQLhUQKcljGpUarxK7rk4CjHTOOwH73IIDNwbKQoAZZriyADsPvaWb/mLkdAEqDAEe8BCkUSIAgNhhisQiKIwSrYIlM1giAIQkMiz5kk0gLGUgxWwZYG97BGa7sJvXUHJQGgKC4cigvrkp7IHoIoS1IaSBKgolpaUyxth59HA9C0xD5jzWjZYXo+TUmAEioJMFb6A3gVL2gughP3oVECQJcEAGSQYRk3DS81ABRTpntkFQ03blJqRQwg7AqjEfn7ZUgCNKCLuzsdXbokoEqtpFqtQsUf4m0WBKHuiIdVSAQxWAVb6mWwnkY3IY+/GI+/GIBWKb1QHKlxHtk4koBIMoBY0QOcAcVnUBJg31+D0JBVKoriMPfYnSdFS7VIAtz2kgDrSv9AeZVSgzcgCfDhwzAuj1HIUY4CMEjpR4qSGmgndPrfbM8aMSBEKhC4BstXO9OpSwEAfJpurLodcMR3gGM+kQREwvodk4gBQl0QgzVJaDRulIBT9OcuBqtgS728q83Ee5ooIQuwFGcMb2vjeFgje1UjHGuGp9UCHsoocUlDtoILrRw4UDXVsq/WEi4FvHgxEsDqvlYbD6vlGo2tTNLM9hQ0vIE0rS7c+kIuReGEVmya3ym4SMUdYtLHTtMaWuqxOEyto9EtpTudXF0AjUq1kirxsApCUmm2sb6FU4IYrIItDocDvz9GOs5mbHzWhcQWYDWch9URiGJauw1nhHI7z2swDqszpDyeRVfgM6fhffhM+896bBqpOAO3l5RABFYnDhw2XlUs2zm0oh1ZAHzLYXwBT+4AzqCVkh6oG/zq2aVmDV+AFey5sdkmBVIMr6oaNFR9gct0KXDIc4Cj4mGNC/G0CnXB4ZDImkL8iMEq2CJvvoIgCEJDIs+ZJKKd/jM/YrAKtsR1IzlNp/4j0VQkAarityxYCkYg9eO3qEQ1zKinNh3RAtP1Ib2M89mh4EBT9JujVR5gbctrXXSFhikJ0ByWViyXHNjwE4zJmhUIY6UBFVQHrlnDhRM3oTFZIdoSs5DOowDVfv0XQ9Bg+qWVoBSsZ2pPuri7AlChllPl1+OwiiRAEJKDGKxCIojBKtgSURLQ6IZo7Uia8VLbjKk/Kc5sXM6MOGufWklA5JisRmsOHDhx49ZLtWAte0lA8MGiL4Yy2lbNZVvW8xuxVwFSAsutXCimJMDoiX5c7UVS+nY5lVQFogSUU2YaxAOVXqQrKYHr1L+S1jYcir0MoH2qRmqgs37Lc9K67VP1450K9E7tTeu2bQB46+RblPpLw8ZFEIS6I5KAJCKpWYWWirz5CoIgCA2JPGeERBAPq2BL5Onsxk6fGuuG1nge39CYrE1bEhDacnj0AA1NX/GuqaZPNl6sMgAzDitGxALLYqyA7zWYpFXBqTnCfOaRVvW3JtNs24OCFy+aonFSKzO9s26cpOBCQzE9upGuptIX3FYAh6KZ28ZHYkgCFHQvq0G/tL6ARoVaQZVaBRoiDxCEeiIGaxJpAR5WMVgFWxwOB/5GuZnUdcq/8fH4S0yjtVVKT5uYrNFjmZo1kigJsE79R5IBWOsb0/YuXCia/lOvE0yWGusarPIAa3xWh6WPRmQA/Zx6dAAHsWUA1m9DKRWmJMCHxzRe2zmyaK3o0ozPfF9QrJVyjmsoOYo+fd8jUyUjcGfzG3G2ahFdEqDgdOjbzoDl+3X11xz2SsQAQUgmIgkQEkEMVsEWefMVBEEQGhJ5ziQR8bAKLZXGu5E0nSn/RLCXBziIlj7VnD5PoiTA2kJIa1pQBqASrK9PvzvQAv5Ku+l8/Xi73ge7qFnKjd+sIggf1gV7enQA64p+sJcBWDElAYpFEoBGkVZm9qeN0ga/pnJSLQ14j+GYx0m7wK3NqSi4FEdI3xUl9Br07eCCLVXTUNBwKnocBYAB6X3R0KgMSAI0kQQIQr0Rg1VIBDFYBVviShyQEA059R8+FW+dXo+EVg9jI93VgRSnHuDep3mIZniHygCs2EsCrH1z4ERREpcEhEcMCEzFa/q2/tNhSgJ0bWm4JCA4jsFtNcK1Oi3XEJokQI8OUPsbYCcDsJYXayVUUBU4Z/CzylGCkoA2zp4orl70zFTJDNzNnIqGI9CgNSmAVR7gVDTznNZvuY9AlAAHaH5wBfqyRyQBcRH6HRZjRIiOSAKERBCDVbBF3nwFQRCEhkSeM8mjBeQNEINVsCf5N5KGnPoP9+VolmnqyIuIQie3E6HGd5LQCAFOc5+CEnI5oTIAK4FJ/CiXrqLi0CAYDcA4ypAH2EsC/JY6egqBUEmALgHQzHHyByQB9fF3qGiWvoTLGsJjFUQnO5CiFcCDFy8+QKNIK8UYtBRcpOKi2BM8S4ojmHZVJzwagPXj0Mv1Egf6OBpRAgxJwMD0vqCplKuVuiQA8GsiCRCE+iAGq5AIYrAKtiiKUsebSTKm/mOvto+nBevPyHXqdp5UVzbuQBIBLTCprEZ4xa2LJCBYw4GiOOKSBDhxmyanXWQAY9sRkAI4NQduzYgSoJ/fWasfIZKAkCl8u75GjwIQaeo/dKyCdTrRls5KWwC+VL/h/7P3pkGWVWXa6LPW2vsMOVRWJdQAlFAUVVAjrS0dDe1tUUEQaD+HwEDtoNVWoQFppUPt1gg6jCCQ+Igi0IgiEGl/lIRN01cZvVcc4GsuHW0Y10+6uChYFMpQYFFZc2aePMPea90fa3r3OXufISuzKstajyG1cu211157OGe/532f93nr0LpU42wRxgwlwK5rvOwpASVCCYi4dO3pRDhFAA7lFNg0bYC5NgeDgKYBC7Pzb2dewuut3R3rDQgImD3yvxcDZoUTIOkqEEgCciFl8BwFBAQEBMwfwnsmYBAED2tALmbvYZ2L0H/3dI0j9b7OBRrJQddmLAInlIB2HD1KQAL7kVawuqhZeoA9lIIyOe46AK5pA8Ui/m7SPLRl3cPOo2bpv2bk6GbScYw5ksekmoYwhIYyIsSIcKCha1owxpBwhjI3oxVDZBYSMQllChco+BoYGUoA844KTigB64fOAiAxldZQM5QAaSgBf/x+jYCA+UHwsM4hTgDbPxisAbnobbAeSej/yEP+2krqMgfj2X97YUDGeiM9gEZ6AAAwWj4Dgg9DHRElAKBCSz7k350S0EkDsPSAyPVHSpAx3IT+OTgEYqsSAFKewGX3gxyT9czqp/0cs3sZWdmpduxV+3AY0wCAQ+qwu1TvG1mDFVEJZaFcZaoyl65dIm1t+et7NJNw2BpfifKUgFaqjy+M4WrpBC/UdmJXM1ACBkFQDAjohWCwBgyCYLAG5CKEagICAgIC5hPhPTOHOAEuZTBYA3LR28N6JKH/uQj5F4XZZ4vZKwY0k0NmhiijFuCuQeHUc0AJQALtCzUj3CG9umhWwl+RwgE0y52Zfh/Kp/QAYDDCe05JBIduXhV3qm04CUscJaCJxCkGvNw8CAaGURVhWET6UiutEuCSw7hXCbBHjphCYo5jqRCA9qymSlMBdBKZHrRxaA0AYDKdRk1qbdg0UAKOc8z+Mx8wNwge1oBBEAzWgFzkG6yD0gBmG/rvEe6fD7ABz42E/0vRGGIxnFEJ0ML/XlrLXklbCMD+lX99ulMCGnIK0phYer5OSsAYlvqiABBt9ACGSEXgYCi5MVrovyjTn/fRLgrnW9Ak1n5DxHYtE3IfDmPK7Ouv8+nxGJZFIyhxlUsDEEzB3lfOvGJACv/ll6a+vIRkQMR04QApGSKzw5+MbMS5Ixtx/55HcDA93NfaAxYm1pXei0ViBQDg+cZPMCnfPMYrOnERDNaAQRAM1oBchFBNQEBAQMB8Irxn5ggKRzdYcIwCE8FgDcgFYzwniaifpzSbRNS9YGkRuoX72ZHLvM4JfDixmBJAhhroa+pz9bOB884T0wL/2bEcUVYA33jC/VigbhKUAJg8+tjtEUE4dQAf0NZC//Yo3SgBsqDd7cRZjpJAP7BP0FI2bh4LhaYpI6AA/L55QFMCRIQRoc/RUQIYA5NGJcCtxxYI8H7aiMHTA0yyFYPKqARYqsB6Qw1QUEEx4DjFvvRl2CjGMDsJCWsiUQ2k0NUnFCSOpGxzQP8IHtaAQRAM1oBcMOZlfwajAvRDAxgk5D9bNQKar34kKHhxEQpByRQR6KQE5M2WOKutnypJDAxMMQCchOEFCcN7GgClByRoYRo6dM2ZH7M0XYpYlw2AAEdsDGxhSAeCMfCccL8A2vr1+gTz/ZQSQMP/qTtf36nIPS3Su6bz7VETOITOUPwZ8RIsFYtQEUQZgLQFV5lHzSoDaKKAX3dkxrSUPn/GGEBUAlKlz/OFmZ14rfmH/AUHHBc4SazCIrEcALAr+W/MqAPHeEUnLoLBOndQ8o//WgaDNSAXSuXJLRVhUK/qIB7UXtJa843efsFmaj2soqeHlc7HwHpyOf12X+pUIs0tolrk+XRtBkyzKUAptNCCBEeqbLoRR7txT72tsq3fniXtZx0z2LO0BmL+lSzqpwlYy9jJrt1Aw3lYX27uc0lXIyJ2ay2bE2ZEh7XTn52vvWo9rLQ0q/Wwbhha47zak8bDCoQErOMJwcO6cBBKswYMgmCwBuSCc4407ffL5Ei8qr08qLNL3LIeRTYLD6vqMMO6H78kxvr2sFLTrJ/EI+bOv7eHVaAEnknAIuPNmFE1ijLKKKOECBxl5nVYOdMe1jyvKvWk6jbIGN3m5Ban5PSbUp91Su6kpC+qPlgep4nlWAntFfvfyf+HmtKG4umlk7A0WoQyz9dhjbjKeoZz5lbwnh6lsoPsPKnxvP6mthOvNYKH9XhG8LAuHHAeim3OGU6A31jHxdNy77334pxzzsEHPvCBTH+z2cSdd96J97znPdi0aRMuvfRSfPe73+35q+1rX/sazjnnHFx//fW525944gl86EMfwubNm/Gud70LW7duRZIkHeMOHz6Mm2++Geeffz7e+ta34m/+5m/w/PPPH9GcCwVFIvgBAQEBAQFzgeBhDRgEC97DOjExgbvvvhtDQ0Md22666SY8+eSTuPLKK7FhwwZs374dt956Kw4fPozPfe5zufO98MIL+P73v49yuZy7/amnnsINN9yA888/HzfffDN27NiBu+66CwcOHMDNN9/sxkkpcc0112DHjh3427/9WyxZsgT/+q//iquvvhoPPvggTj/99IHnXEgY7HvkSGkAKHCxsa5zz1+J1sHSg5rppNnrWFACCBcULfjSrMp4VtspAdOAAppoQkIgUdbv6QP6s/sV68u7Zs/Sh9M5vBNgdglYGsvZye5F94fmYQgIjHCtw2qhdVgZoBjiQkoAXUs29E+TrhTp3zRMkq4Sn3QVKAHHDwIlYOEgGKxziMBhPfa44447sGnTJiilcPiwT7rYvn07fvazn+HGG290xunHPvYxLFmyBPfccw+uuuoqLF26tGO+W2+9Fe9///vxi1/8Ivd4t99+OzZs2IDvfOc7EEK/foeHh/Htb38bV199NVatWgUAePzxx/HMM8/grrvuwsUXXwwAuOyyy3DppZdi69atuP322weecyFBUwLSLiOKQvX9JFTlhdmL5xuMmG/mNoYjY/YRH+AFlMnkLxhC5iuJ0VlRAhg5Z5qAxXKuBWvXW81pC8TZBCz4fmvgLsIilFkJFVZBBIYy15n1kUm26ocGEJF2zPIpAc3Un2maem6o1zvNpwf085tmt5rAQWje8H83D+G/m7/H+0c3Y4wt1mulBiqXbkcqtUufQM1f9dfbnmuq9AkxszDOgF9P78SrgRIwMBZSmdZACVg4CJSAgEGwoJ+WZ599Fo8++ii+8pWvdGz71a9+BQC44oorMv2XX345ms0mnnjiiY59fvSjH+G5557DTTfdlHu8nTt3YufOnbjqqqucYQkAH//4xyGlxE9+8hPX9+Mf/xjLli3DRRdd5PrGx8dx2WWX4Wc/+xlardbAcy4khF++AQEBAQHzifCeCRgEC9bDqpTCLbfcgg9+8INYv359x/ZmU4dvKpVKpr9arQIAfvOb32T66/U6br/9dnzmM5/BsmXLco9p99m0aVOmf/ny5VixYkVmzueffx4bN27s8P5t3rwZDzzwAF599VWcddZZA81Jcd555+X2W0xOTmLFihWYnp7uOm62OOectQPSAiy07yrfP0mza4oSsDr7CkP/XTyvq1atNK1ZnITqrcKsiFJzzEcQi2EYYaicddKpfQWs9vlob6f/mZNEMuaoBwwM3NEQODiEG89N2VftbdX9VVnBEMoYP2MEwgS8GWASrrQfliYpUe+pS7RicCvhzEtCwYxh0OFz+/ykUmu6SuWz8ekVVsqfez936zy5CfvlASgALfO/ZqmEJC4BAMo8QplHYAyIGUNsyrRy5hOz8q4xzBoVgKHTxjJyW3rtDJesuBA7Z14DAEynM6jLhqEESBNKPjGwatUZs973WHtYlwhgjOvKcefKP8WU3ItUNU2Z47mhBCzEqNlCgr0+jLF5e4cNgtNPPx2vvvrqsV7GESHIWh1DPPzww9i5cyfuuuuu3O1nnnkmAO1ppV7WX/7ylwCAPXv2ZMb/y7/8C5RS+PSnP114zImJCQDIpRIsXbo0M+fExATOP//8jnHWGN6zZw/OOuusgeZcSMgvHFBkinZTAMidPWeeblSCvP6isqYW1nArfsQVCigPmXXkv1wZoQ0ksoZE1lCJT0bEPIe06Ki58xWeDSeKANaQjBwNgJnSrQAgELkxum3pAd7YHUEVZUQoI4IAQ8z1dYoY3CiqsWqPHTEfjhE8nx5AaQPNFLDKaKkCuNJGqz1J+mOom6Geh/1yHw6rqUzfKdFijItRAEBMDNOIKX8M5Q3KRw88jz8keo7/sXgdTiuNdqxFtd0VxhjOrqzG2spqAMD/feApHE6P/cs2YDCM8VMxzE8CAOxJd6ChQqndY4VACQgYBAvSYJ2amsIdd9yBa665ptAbeuGFF+K0007DbbfdhnK5jPXr12P79u248847EUUR6vW6G/vGG2/g3nvvxS233NLhkaWw+5RKpY5t5XIZMzMzmbF542yfnWuQOSms4V2E8847D7t378bw8HDXcbPFCy/8Nqds3qC81TyuatE8RVzVojl4X9zW3/52Z+E2pbpxdC3yPS15xvxwaQoR1x7+Ig9Nf8eksOfJiDEaF3JYeQ5vlfJZp2UDFehnUTCO3S/uB2C5qNoPy3I4rJSrGhGDtVRgvDZSf+VmEu2htPJWgC8mALRJXPWB37V24YA6lOk7e3QJoljTcKisVYkrsj7p2q9MvIaXmwcBAPuXLsFYudmxrlQxTP5OX59EaQO2lfqiB7/b87sTns/6wgu/HXifY+1hRel0LBL66dzReAmT8s15O9Rsrs+JhB07Xpy3d9ggON69qwBC0tWxwt133404jvGpT32qcEy5XMY999yDL3zhC7jhhhsAaKPwS1/6Er71rW9lVAVuv/12nH322Xj/+9/f9bjWmLV0A4pGo5ExdiuVSu64dqrCIHMuJOTbEF1eNWZD7kcmp7Ng+kJ02qYSSuX/Ou8/SYt1P2jXMZ39zXSKbOVtigEkbj7QC1t13IsUaUHJ1AT+I50AEABjUMprkE6jBgBoIEGkOBJlaz95X3TeVTWz6XA/kR1oSW3A6r/8QjnzxSdiDj2OeYNQYfaKAcv5MihpyrQqXaj1980JZ9KPitgUEWCQCigRXoMtarupusIdc1fjMCrGM15hMSo8QkvZwrSGMmHWK8g5bLRlWnOKCKQhy3zBIqgELBwEDmvAIFhwBuuePXuwbds2fP7zn8fevXtdf6PRQKvVwq5duzA6OoqxsTGsXbsWP/zhD7Fz504cOnQIa9asQaVSwW233YYzztAcq+eeew4/+tGPsGXLFrz++utuviRJUK/XsWvXLixevBgjIyMubD8xMdHh2Z2YmMDb3vY293dRON/22f0HmXMhQasEeJOi/xB+P17VPG8q3a/Ie9q/koDldXLWjRJQ4AUl/doj2nlMxjqVBEpiFBGvdJ97YH1bfW79FAugKgFZb2vk2qMYQRkxyogRMYaS2deqBFhPK2ApAXoVcYEntcy9uH5VKAhjvE61/J2qK2Kg2s4+FAOK8Kbah0OYMtNoj/WZ8VKsiLRKAPWqxly6c/CMXeC84dPwZyOndcxtjx4zoeWtCIXBPZ2m8Ztan4oB/f6ACi/vo4KgErBwECgBcwjV5/fMcYwFZ7Du27cPrVYLW7ZswZYtWzq2X3TRRfjsZz+LL37xiwC0N23t2rVu+1NPPQUpJS644AIAwO7duwHAjad48803cdFFF+FrX/saPvaxj7nkrueeew4bN27MjNu9e3cm+WvdunV45plnoJTKGEvPPvsshoaGnA7rIHMuJITCAQEBAQEB84ngYQ0YBAvOYF25cmVuotU3vvEN1Go1fPWrXy3MwKzX6/jmN7+JNWvW4B3veAcA4Nxzz82d7+abb8bKlStx7bXXYt26dQCAtWvXYvXq1XjggQdw5ZVXOhmq+++/H5xzXHLJJW7/973vffjxj3+MJ554wumw7t+/H48//jguuugixHE88JwLCplfawVUgCOhARR8T2nbvzhyIxvwAAAgAElEQVTcX5iV0zZff1+E/YT7+6cEtDooAcUy9f1DUwL6KRYA6IQsvd1TAkCSy6YwAwWFFhKoDkoAd6F/P59GInWylZ7NH78l/aCGBCxTWzBPZShzw1+llADGXBZ+P1ebYgVf6vgEdVVHEw38rjnhroumBOiVSMVQslUTuL9SRUUEKLgbSXRkmVc62GyKCADA4WQ6U0QgQwno9iwOpDEccORggRKwgBAM1rlDUAk4BhgdHXUGIMW2bdsghMhsu/HGG7FixQqsWbMGk5OTePDBB7F7927cd999zjBctmxZ7nxf//rXsXTp0o5tX/7yl3Hdddfh05/+NC6//HLs2LED3/ve93DVVVc5ZQIAuPTSS/HWt74VX/7yl12lq/vvvx9SStx4442zmnMhgXMOlbZ/mcwVDaBX+L94v74pAVw/2kdMCShqZ6gCuj8WI3NOCbCGLyPnSJOuimkA+ZSARWxIUwJYjJgxlKlKAGOFiVaUHkATrdrblh5QVwzWFG5JfYVSRaSs4Oej8lGsgB7A4LnJZ5dOxXp2KgDg/5l5BjOyhucar+C5xisAgA+OvR2L2ZBZd1Yyy5ruAtRIVvmPL7RyAqDXzwwf2C783OEN2Dysoybf2/MIDjRItvlsDFG6T3iRzynWld6LRWJFR3+gBBxbBEpAwCBYcAbrINi0aRMeeughPPDAA6hWqzj//POxdetWrF69etZzvvvd78bWrVuxdetW3HLLLRgfH8d1112H66+/PjNOCIFvf/vbuP3223Hfffeh0Whg8+bN+J//8386/uygcy4kBEpAQEBAQMB8InhYAwbBcWOw3nfffR191157La699tpZzffkk08Wbrv44otzvbLtGBsbw6233opbb72159h+51woKFIJ6CupPrtHwR8WJKZcNFfRMZn9T866+voeHJQS0L09H5QABasFZXPVgRSJKxCgj+TbjgagMnn9br4p1KEANJFAGkqAPk6nYi2dAfB3qSWZUwagKgGUHkApASVDCYiZloeyx+ulEkD7tY6q/qtlE/gZcKpYBgmFGTmDhmpCAXipvsd54ke5pweUFEMs8sre+nOz/lipbHqWcucukaUEUMWADUNr3BonZQ21dMYkmklND6AfqEADOOqgNICYVRAzLT+3hL8FSim0VA0tNKCfgEAJOFoIBuscQv7xe6uPG4M14OhChz+7UQLmigZgxxeF/ml/3n7tYzSEMVIEL2f6M55jGoHtCPfn9Pdox2IYgnfq7WbhD1qsydp5nu16q720VyOUnCEbKUIJQBVlFqGCCBFnKPGsSkBRIQDajtrb5NysQdqUcJSAhqEEtMjvCmoO0Ccj08/yCSCx8NSDP8h9OKhqSNAETJGAM8vLsTxaoscyrxggOCkigPyfHtv2/m+80jyIs0fPxBVj6zBKzFa7GndvlKdP/Ka2E69RxYB2o3RQIzXQA+YUVBmAYkW8Hivi9Xi+8RM05FTOngHzif4lCAMCgsEaUIDOogEBAQEBAQFzh/CemSMoHN3CAcfoN3QwWANyke9h7Y8ScEQ0gK4YYL/Cdc4tDYC2W3LG/V1ECch6FIrW0lksQEK6M/eUAAZk8vo9JSA1ddH1eMB+1GtoAApoqhRSsjZKAM/1aNL1+/k0imgDunCAPon8wgEsN+jaD2EiIY/BaUJrG9fkDOpK0x1sEQFAUwKGe1ACrGIAgy4oAACnRCOYaE1humUKgbAYZR4b9QztAaf0gI1GMUBBYSqtYVrOGHWHQAlYCCiiBOgegXF+BqA0ISTQA44egoc1YBAEgzUgF1mDleW8ZGkgd7Y0AIA5Qfz80D8jgvk6Z7vzOCxzfL2vzdaPuc4Wd+F3choyQwOQpD+BNZsUI/3S94MWDlC6HfOhPigBFMXk3E5KACc0gMi1aeg/Jm2qDBBBuPYwq6DMIpR4hJgxxKbAgivNSm51ESWAtjkZL+GlqlqkDKstyZoUUAL6uSIUgtAQ1pZW4By2Av+rth012QAAnFla5ooIRKSIgDA/uBQAZi1U+4/5ofWnwyvx9uGVGF2sa81PxvsAWEObZYx1ScQFflN7Ca82dxcvOryYjymKKAEW++UrmFSdhWAC5hfBYJ07qBOgcMAfP0s3YFaQsh/TISAgICAgYHYIlICAQRA8rAG5YJxDSetP6kEFOCIagE355gVj07ZtvX5j6X2td1i5bO/OYDMDIyUR/HYGTsKApJ9x4ontpAQksk7mPjqUgBQtNyZBKxOetx9v6hWsKe2FbKkUCp4SAHiVgPwrnE8JKBpls+oBTQVIVDarnm5v378nJYAOMCoFK6OlWhgBCrtbk4gRQUFhmMeoisitIzYe65Q8YrSIADNtl5ils63MulRmfZkiAkNnuSUdTqY1JQAKUslsEYGAY4JACViYCB7WOURQCQg4UcEYoFj7B2CuaQB+X0ay4Gmbk7HZMayYKgCG2FACSoYSYJHN7vemV6qStraVNyJtJO74NMNfUwg0DWEQSgDruL65o7pSArQygAnrqzKEa5eIeoBw7NRRVkGJCZSZgGAMkZlnEEoApQEoeCOUIiHveEsJoIUDjoQSEDGvEhCZwgV/SA/ioNI/GPbUd+L/resjfGDR27CILXHnQB9TZ3gio90ARbYpMp4+YYA1ZnU7W0TgURxISRGBgGOOQAlYmAgGa8Ag+OM3yQNmhUAJCAgICAiYTwRKQMAgCB7WgFwUqgQU/TUrGgDIv/lfXHoGGrAFafPMKLpJFfrq8jP9KQ2guC2IV7Zz38Qk/dg+70H16x7co6CcAL2REe1CCWgCiN0xI/fxVrBKAjXVhEKMlkohwZDOghLQuzd7lS0VgIbQ55oScFp0EqyTfBocM1IL9/+usdcnnJEiAhFjiHl+EQGgjRLQsT5TTICcT7aIwFlQ5n9TaQ01WQ/0gGMKFigBCxTBwzo3UADUUZS1Mkypo45gsAbkokMloOPxLKIEiIyh1o0G4Ps5OIvbaACdlACBUrYftJ2lB1TYKACgysYA+PA/VQZIiRoAbWvDz9MAaL89jiSyUZony5GqOtJUh6XLYgyczcXHqzslIEbZUQJKquLbpIjAYgyhZNZSMgUCyjyCABBzO2d3SkCGjUtC+yQqngFVBLD0AEodKDIB6JNGx2ToCSCFCwwlYE9aw5R5XusqhTTX58zSciyL9DOQKSLAFHl66U+YbG/7uUllt9lz99wIV0Rg5iW81k0xIOCoYEPpEiwSKzr6Zc5PokAJODYIBmvAIAgGa0Aust7VfJ9Xvoe1vYZRXvJUe4KVNgCt15D6S6mH1XoWWeEY5v5y67dZM9YAgU+0YuBOtop6UjkEpDFwi/uF97y6ZCxv+hR7W3VP/1/U3T2sLTQRGa9qCw1EKJk2nId1Bk13fxQ4YnBIJQHGIHOqKOV5WJX7eZAd04+H1XoiqVe1H08qHVPEULHJU6eIMdc3pSRqSmvivtzc54zQER5jROhrFTEg5t489qVZtUGceXw61qRIO3uOALB5aI0bPxkSsI4Z9qa/h72/MauixCqw3wUMPPNLK3hYjw1CadY5xNEsHHCMEAzWgFxwzpGmNPxtv+i7J1qxdg9rjp5qJqnKeFaLSo9GKIMz4ftzypAKJbLrAkMVw2BgGIHW47SeVfrySdB0xkfCfLvFGm5covSLC9CeQuvBzHpbFRjjGZ3WiJfcumGObK5sH8ZqZ6i6OOkqctckUiUI85EuwydgjZhEK8AnV0VMXz3rFeSAe4Hn/VShiVbM/ceEoswYalTSOWyyFVUX6Oc1Rb2tvZLBVsfjOKs0DgB4euZFzBiFi+car+HZxu8B6ASsMaaT8SLiYeVtnmRGz7X9VimSdEXWRzVZNw+tx6ahDQCAf50ICVjHCieLM3MTrYKHdeGA85BGE9A/gsEakIvwyzcgICAgYD4R3jNzhxOhcEAwWANykX34VU6r/Q+LXpQAlhmjqQBRm/JqflIRAHBEZo5sUVDuhJv0Ma23tPML0QdyaYiftgUizWll2pMrkWitTiYgVed4Sw+gOq2pbJLYOiMB9e7lZbX3tTNlrJ+kqxaart0EQ2xUR7X2qqYKKDDEEJCWamD1as3VbKdaZK8b3NisFFR3cJOQlJ/u1h8spaBzXdk1AcBp0RKXgDUJiZqsQUHh9819zitv6QEMzNEDNF3E6LAWUAL80YopAUUJWNM2AUspX7I1YN4QKAELH8FgDRgEwWANyIWmBHQaez5U3VYytYfeKk2qopQAYfoFSiT0XwLPKz2q2tsm8Uj5MqTcHH+RHAEAjKnRzBkkSJy2ZoLEGSQNVoc0fNYGau44LQZnbLaUdCF0LeSv26lqOmPHJYjxUpekK/sCLKIH0GtIqRfW0Pb7UR3Wsqo4SkBVVRCZ/lFRdpQAl1xljsDJ8a2xKtt4nXodWVAqgNufUgJI22b192ZFF4NSEmgI31ICbCgfAPYnEk2pQ/9NNQWwGAzA6tIyrIgX6f1AE7cUoTsowkWgpAQ9RpGkKzCylWafKUCY9vO1l7ArJGAdExRRAigsPSBQAo4NAiVgrsCOcuGAY+PNDU9LQC58RaeAgICAgIC5R/CwBgyC4GENyEVRKNR3p4DqVTLV0wAk0oIRmhLAiEyUzXHX27OlR6NMOzJtnxGvwCDAieySyiQwcZshb9vG2xkhQmLWEKOExBy3nR6Qkn6JVM/PBJRKM4oCtHJWlhJgemzov9v3ddax2nbNtI80JdqrTdQRo6zbjAFK0wBqkgE8BsAQgSECR2qmb39htBfFzV9W+9l0R57m6nxSAlZEQ7CPE5ejmFJTAIBXmocyigFDXHtepQJikaUE2OPNhhJA2xupYkA6gGJAeJEfIRj2Gu1VIEsJsNqrLEMJWBUoAccAwWANGATBYA3IRbtKALPcrwGUATppAD6M7SkBWgWAqgFQGkBZVV2Yu6RKEMYsKanItWNwF9qOmG4vEmUwADNCC4TbV05Lps7IaKjE9ddVA7Ex/GYYXDhfG7SGBsBSCDNGQXopJCXBGIOW4vdUh6xKQB6K5K2KKAF+q16DzlNXTJ+RUJ4eUFEVxOa6LRYllLkg+2u1AKm0ge/napOeUoQewLIGZp7MlCzYnqsi0Od7qmeZWDOG9p1eGsEZJU0J+c/aDGpSG/HP1l/BM/UXAQAfGnsbxniOYgCyRAB66QfRZLVtXbJVKwbcHxQD5h1F2qu9sF++HCgBxwCBEjB3OJqFA44VwtMSkItACQgICAgImE8ED2vAIAge1oBcZL9HCBVgAGWAThoALQAQmdEt09eCVbYsynzXvTFp+9KjkeImRJ4tHJD5QjRVnmxmfAQO62ONIdAyCgAxYiRoQUHTA+waKCVAKxvouLNgEVKVgJZulR2UgDYv6RFQAuj1TlnLbW+i7vpn2AygtAdxSgLKKAYIMAjGyHGzkyvA3Xx6V1PCFfB3uPgXfV7If1AaAFlKYVA2T7GAtk+LFgGJfn4jjGFSTgJK4XeN/RnFgGGqGADmdFW73R+q59CfYkAnPQBBMWBOMQgNAPD37SSxyvU15XSgBBwlBIN17hBkrQJOWPSmBPQuwZopt0ramcIAhhIQo5pLA6goL4BfhacElLlwmdhlzly7xHXm++KS3qdZttxWjUbq+a311BdqraUcsZPC8gUCUpYgZpoLmqLlCwcoX8lKQlMCoDxfNlVNpGaM4FVHD2CgxivNtS9SWsijDTDSYq5aV6xid63G2SgqZt2jQpiqTt7wE5yhKZUzplLlKQHM0Sv8EQWj9IF8w7Po1WONt0HfTVQZgGb15/XTPsBfocMtDplqpYg6DkCZqgCrSydjeUHJVjcfulMC+ikiQGkDm6obsKm6EQDwwL5HcDDQA+YEG0qXYiyHBtApDtcJ+0lbFp2NZdHZAIDnGz9BQ07N9TIDchAoAQGDIBisAbkIlICAgICAgPlE8LDOERSOrqzVMbptwWANyEVvSkCvAgFZSoDMiN13Ct8naECgBAaYcJyGFcAHgAYYSpZKoBRKVitVMsD8Um9JIOLaY9iRBc+yIdqIMSRme4lxNI2RXkaEhgnpl1FG06wnRtmtLUIZCaEKSCROLUAfyisGUHqAzrBvUzhl5nqqfr9wfHw+ZakrKEApAYcxBYVhfWdkhCoi6yMHZwxKKVJ2wSdbUUoAVQlIJCC4H9uJwegB/YDeOvq0URqAbOtrX8nSqOzaqVqMQ0qv5pXmYZcgp4sI6OfKFhGwXlLqLS1YJfnXqAwUUAKES3QD1lXXQJms9GlZQ03OQKoUMrdw6PGPfryds4UuEKCf7ZhVEbOKjwj1VQo5i6AYcPQQDNaAQRAM1oBcMGPUmL/MCyC/WAClARRRAvKUAQA4dYAShrzovaw6maqqKrkw9zCPEJk5qoIjMsepCm9MaUoAsDhmOnO8akP0ens98UbOdMJcv0wUmDEYmzJ1x59hMwCzBrhXAZBIjHkCI2kFaHF5GiK25xuBEcWA7FXtvJ69KQF6BXasJxVEbq1LMIJhpjmsw4IhMjHv1OzGGUNDSjTNPU6kdNWu7PFKjNESB5CEI5W3pLl+92RC/znKALS/I3xv/j2tXMHKir4O/6u2B0mqtz4z8yJ+OaN/LF25+M+whI+b+UwRAWZErhgxkNvOmRYR+O7E03i5sRcA8NcnvxNnlJeaQb6IQKrsvMALtZ14vfmHI7k8JzQ2ld7naABFJv5sjeSgGHD0MOiPiYBiBJWAgBMWUgZPQkBAQEDA/CG8ZwIGQfCwBuQi62G1vgpaLMD640x/5reP90JaNQBKAwBRAaCUAOuXbJK2pgHodl3pcD0D0EiVoQEwNBhQshMqIBbG66LgFAEsIg4k0idoNc33ZYUzNEwct8IE6ma3qiqjjiYAhZKhBGj1AEsJUBAshlT6/CQsJUAQSgBVS2DoCDIPTAmg+/ov/CZmnPv2IA67a6ikwBAi2BQhZoL0EWPuDirGkJowKJzX1XuuAbi7R8PvbvkFgf8OKkmBRyXXh6zyiwXkUQIoKaUIb4mWOC/wYZFgSk5BQeGlxl5d7hbAiIgxLEqoysQpSjCwTEGFvDPcPLTS9exuHkCFaRpLmZVQ5vbp5AAEGLRiADOfqymjGPDHTAmYa0ykv3NtSwPopgbQC/TpDZSAo4fgYQ0YBMFgDcgFNVj9C4AaW/mUgMJiAazkaAACvl2CzqCvqBFPCVBVRJYGgJKjAYwI4ULbIxFce1hoQxQAKkJCMGAsBjhTiMv6BZOY8O1M4sPcky2/XzNljmKgFJwaQQu20ADTUldGpD9ViTPjpUpgxYnsa08RBqhUTc9p5FVw5k0fL9jfixLASUY6ZZf6L/wIsZtjDCMYgg6FVxk3ZpLZg+n7OyMTTEsjw2XWIeAz3zUNwMzN7Hrty93PZ1/0ecUEKHJM9bYzyELw7jQA2k+3t9MDLCabMXiqQ/8zah9a5jqeVV6KU+PFAICIa5WAmEfgUK4gRR4lgOJPR87En46sBmDpJ3pwIv21akl/rTYNbcDGIa0Y8H/uDYoB/YDSACiKTHyWeUa7P5yUnBMoAUcPwWCdO5wIslaBEhCQC9nL+ggICAgICDgCBEpAwCAIHtaAXHDGIU3Gu8oNV7dXne+kAZiZTH+L9NHCAA1EKKGFOhR0RneTMUCVADDUAZSVKZkqFSrG8zqTMuM/BGYA12bQof5UaU+ptbu1V1AZSoDuK5M6pEMRMJPqfapCoG5KuA6hjBmjpypRaVMM8JSAVLUgEEEajyylBNCAo1T0Oni/jiSlXvMD3PR6kwAm876jFuqu+wAOQ8GEs9MIVaGvIdd+byilUOIcMUkISp0fylAClPSeZum90fmUgN6gdINCEI9LSobm0QDa19Lr1/ey2CsGtORJOCB1UP739QPgEFBQWCRKGBYxqjI12f69KAFm2RisiADtX1ddA0BhMp3GjJyBApAaekCAB6UBlNiQoQHY5EZN6ejqBu8TJxtKAAA0AyVgXhE8rHOIoylrdYwQDNaAXDAGlzUPF5b2QV1GCgdkVAKY7+cZZQBPA4iISoBVB6iqYUcJGFIVRwkY4TFiSwmIuBPAH42B2CxvJJKuXRUpIgaMxCkEVyiVtaSU5q0yTCUcqRnbkD57PrH2HwMaUrq/66yF1NAAmmggZXq+lmo4vmqqWoYSIOEZoiQkSSgAHBEJPjJCqwDgDB5Kt+ikBBSZiFolwIxIS6ibPypCON5uRWhZK8YYamkLU7LVNgehIzCeOZJsMyD7RV6IXvf5c887I6W8tFZZaIMPyC8i0EEJyJnvLeUK3lLWRs7jU6+gYX48PNN4Bc80XgYAfGTxW7EkqiBiApz1TwnQggL+Ltqh7bJYdr5U+vFnlTdiVWkjfnjwERwK1IAObC69D4vFKX2xe+eCAbw3UAKOGoLBGjAIgsEakItACQgICAgImE8ESsDc4USQtQoGa0AuOlQCOuzX9i+aznAEpQdIePH8lFACEhNib6COkqEENBiDUjqzuq4AZZQBZlIFZUJ/MwmgBANjJpQPG0hnUFyXHFWpDsFqj5sO2Ja4RFNaLVegblx4wxFQM0scFgI1U5Z2CCXMKF0goIwKGkacP48SoFUC9HWhhQNokFghJe7Jotz2vKIMBUFp51U0RRjM3DU25dqTUmGYl7RHL+UocY5UKpQ4Q8lRApQpHOBvdKI81aMFhsi0+6YE0A25CQFdfhRZz4sZktiltE3TNyWAZZtnxkvd/tNyBjWp7+vOulYMaLTKGBIRmjLReecMiDOpOXnopARYqoBeJ9G1JZQAq1axtqKVAwBg2tADACDF8UkPmH2xgOwVnEh/D1sUIDJFAfT/9AMx1166QAk4egge1oBBEAzWgFwwRumGeZQA3gclIPJtFhVQAqqaEiBJ4QBV9ioBhBIwGjFHCRgreUrAKKEEDIkUEQeqkYKABBdGJUBqU6Aluct4b0kGac6nligncTWdpmiZk6+xJhKmjdcZ1BwloKnq7uXlKQE+e9+af/YvC81h1Qa7YGV3PUliueHi2bamB2jmaXeOEr3ekSo7KkKECNIY6Q0oNKVELZWYlinqprqXVyvwJlnUZpa2c0ftMosy/1nOWGTtULJDPj3Avs/iNkoAVQxgLNtH96Pz0fVX02U4Uy0DALzEXoES2jhcVz0Vp8TDGItHwJnCFNfPJIfqSglQbTfQDv3uxE/xckOHlz9+8ntxRllnuU+2gJYi58yA9dWNWF/VygGPHXgEh+WJRQ94a/lyLBanAMjK0eUZvoOG/gdRDAiUgKOHYLDOHU4ElYBgsAbkoqM06xx6WBOTaAXAeS8yHlZo1VMAmJGAMkbDTMqgjCE73dKJUgBQA0M18vzPCqSWE2LMeVitiRTz1JHTh4TCTGq4shEwbZY4IjimTUmoYZRQMx7WKqqoGw+rIqVZOYsh+/SwZhOwkpxEK5ZJwNJ+1TxDlWUsO50YlLjD1FFz26YBVFEBg5brihRHqhQEvNyVhDYCMh7WNt1dYdZHvZpFPmK/1aKbkcB6bm8RqV/FvAIw0Olh7fq1bTaOxf6Yy+QY9ir9167GDDg4kqSOKhdoSP2TRjBk2Mf56PSwnju8ym3d3dyHCi+ZjWWXZAgwQAlvECvgrPJat19Nem9rotLMD6PjG9nPxZvJ72BvUIwqSkZbFegssVr0xPR6kvpB8LAePYTSrAGDIBisAbngnCNN7Ytx/jysMcoQiFBWFedhLcN7WKvEw1oV3sM6FHkP6xDxsFaEhOBGwxPes6L9nQz1VCA1v0QnE+68XIda3sN6KE3RMp7Hw2wGifGq1jBNPKwzUC7pSlMDijysjFy3rJEpyN/eWqEGNmfcJD95D2v25e3D1AKxM25LqLofC1zGbmUSCgkkmkqiiRRNWB1WCTBAKJ9oxcHdflxZD6teH31tyyLvKPnXG7adSUzaw9jdw5rCl5UdiXxBA6vJ2i3pKs+Jc3KZYWnFPAeHKhhN9Q+kX9dfx68ab+Cs6Rm8e+RUVLh9lrt7WCkk8ba+bWQt3jZyNgBgos7QlJkHoGO99mO2eXgDNg9v8NvNgIf2PYI3Wm/0t5AFireXr8AS60kl/dRr2l7wA8h6Rik5Q/bRPwiCh/XogfM//sz2gO649957sWXLFqxbtw6PPPJI17HBYA3IhVTBkxAQEBAQMH8IHtY5xHEoazUxMYG7774bQ0NDfY0PBmtAPhY4JaCW6KQpMGA6YRgSnhJQgkQqdejYUwL0eZR46pKuhiOglnJA5VEC9HyaEqD725OuElOm1ZZmpdqrWUoAvXg+aJnVt/VJVRKp85Sm5hpmQ+/5qUbOw8uABmbccWgSm6YBcEc7oH5apXTQ06vr+jh8AgWh/B59hd/bQNPGeumaZpE9SoMk2Umm9WGLk696vxCXlWIoWyJYLcIhAGWU8EazjmpTh+KHucCQEEZSy9chc/9tc5zmabIORYD9GKRKe2JVZoWs53LXVjxVYJpQBahu6+yTnY4OdicvmZZOpCqxqotCMHCAscx164W5pgcESsDRQzBYT2zccccd2LRpE5RSOHy4N2c/GKwBueCcIXXK7XNLCRCkfKtADAaBGCVwY4zGqgRh2yxyofCI+1B4LFxOESKmXPKUAkMiBRLJwZlCU+p5mqZE5mSLO0rAgYZPfNnXSNEyp3swbSExL6bDvEYoAZPO8G5Jn3SVGEpA5mXGlAtO0i9lSg/QL8DUXUMwu79wSfXWcOWg15Vq4ObrswpEJOWLITFza21ThRYkUqRosSwfUiiWMaDoHDqarToMAWY1bOFD+9QY5gDAzF2kzAhKA+hBCaBoKaBlDD97acfLvrABpQcU6afSMHsj4Yik/rEkUUIJYyipEbylNIq4ZJPRNCWgfX0W7boOlIpi96gnzOnhtp+rm7uTMZDp/5ORDfiTkQ05K/D4wb5H8Hrz2NMGLhz+AJZGpwLIavhOJ4kreFxECWCMhPZ7GDVFW4v6eyVgBUrA0UOgBMwdjjdZq2effRaPPr+hp68AACAASURBVPoofvCDH+DrX/96X/sEgzUgF71eEgEBAQEBAUeC4GE9fjE5OYnzzjuv65hf/vKXuf1KKdxyyy344Ac/iPXr1/d9zGCwBuRD+YxxhnbVAKB/SoCO23fXYVVddVjLsJQA5QLWmhKg3VI16NKs1rNV4gqJ0pnkXodVe1OoDistxzoSMdRSfcbDKkJN6vVWVRl1aG9NGVU0zV8KJSRoQWfP25KsNMDLCtoU3egB9lr5a2g90Db8zTJ/kXvANNXClmbV7ZIZzSEMdYHZ3TP3TJGwfVsQn5Tn7aAE+Jwxdwbt4X+S6J85h970gHzPAfVGzvjHCxFTLimrXdEgD4tLRqVXAeOyjEPmmZtoJIib+lmtcoaq0HfAymtlNAM6Ju+kBFQNJUBBexwtJQBok8UaAHne43OqhDaQTqMmZwaiDDAw+M/+YG2K15o7XbvChlzoXzAGpWyClIJP7ZxdaH/OKQHiTNduypoueRwoAfOCYLDOHY4nWauHH34YO3fuxF133TXQfsFgDcgF48ynZbus9EwQM2utZCwX8yKzcU4onenuwr7U8NGZ8lxx99LjSrjjCNLm4JDkQ9lSmvMXMeYKAKRQaCogSnW2++GWfsRbUq9qugVHCTjYVK4E68EkcdqrhzCNhOsJpzHplAEaasrxRDV/1eiwIoF+oaXIe0X6a9cGJV1/lh5Aro+5bpwoAwhCCaD7CUIP4CyCDekrMMNH1ZBQTls2baMEcB38NuujPFxbvMDQA+y5wRtN/k7ByWUBmSem47+Wi2qvGnfXy+zT53fwTKr/DwDLql5Boh/1gOmEoWXCaUkaoQSOkizjlHIMUYrN6O6UgJy7DgDYW+doFITq6Hx0jUCxrmw/OHdoA84d0rQBe5+KyuqmxP5K+hhjm0vHxqEAnDe+X48xO1D7I8loqXpE5Fymk8R97iXyM/wJMYn0zZ9iwPLobCyPtLLDrxs/RkNO9r1vwGAIlIDjF6Ojo4Ue1G6YmprCHXfcgWuuuQbLli0baN9gsAbkQgWVgICAgICAeUTwsM4VGI6XV/bdd9+NOI7xqU99auB9g8EakAuV8bZkw8EaNJBLg71w7axKQItsb5GWVgzwIWygwRrui6wOoKy0l2tGKlRMWHwmZaiQoykfDYfihgrAvGfJevFiDtdJS7MOcY4Zqf0wQ4gxo08cZZRNAVYgRsVlDAvEjtqgCwakKFYGKEI+bYCWb82jBGTbtocZdQE9VYImBGK3PTJtBQVBChy0h3K1eoBVKPBter/bw+zcrTU/tJ+XwV+kGEDnKPBL+laB13GaPGoR88lYDLTggD/vxTHI9RaYSoGYMexrSAgjzlvhQFnAqATo2TKHz6EEKGiNYCQcCl4ZwI3oQgPofR3Mth6eV/tUFYbNmf+sex968ZhBwu+F85GxMalRy4BcesAgof05pwd0KAbYwiGBHjAXCAbriYU9e/Zg27Zt+PznP4+9e/e6/kajgVarhV27dmF0dBRjY2O5+weDNSAX2cIBgDU7fLiWhvhFQZvWcSKC9IzBZsRzcMMo0EaZAsAUh7Sp54q5jGKlgKZ5uQnG3MtfCbiQboNrgyJO9N/7G/rfpqEEzCT+JTqZJC6UOSkbThlgkk/qUDkDZjDpaABNVXPhd6sMAACpSswVKqpAlM3kt9eHvvCkSpB5RTOV2ZMzRjLfhVNcoHO012Gy6xZMtBU1UI4K0GItty8Dg1DemOWM+8pdiiO1/WCONqA5qJaqwJ11pfthjs+cZaWIigDc+XgagC4E4Oe25yx7vNeo6TCZMEwaTutpVYU4J7ROqQLLq8AKIwP4zAGAp1r863eNGnYe1CHv9y5ZhBEe90UJeHNGZGgAGaOSdTbteRapGxQpHRSCjHWherK5w8zycfPMj4i8MfY+CKbn5m3rop8ATr4BKD2AMohayn9qskoLJJxvxveTCFo0oqjfKXkUjAiKAfOLQAk4sbBv3z60Wi1s2bIFW7Zs6dh+0UUX4bOf/Sy++MUv5u4fDNaAXARKQEBAQEDAfCJ4WOcIClAdUdD5PN7s7IOVK1fmJlp94xvfQK1Ww1e/+lWsWrWqcP9gsAbkIvs9Yv0P2dryPsCaTwmgoCoBeoR+9BI0oZOnG7B+kCY4YpPV3gCDMuFsrmB6gUaqUOI6z7wBoGSzwpUOAadKZbwyNjwZcSAxn7UyZ85jW2ECdXPOWhmgoceggqYpEBChhBRNfeamWICmMdiCAUWBxzb/Tc6QLJ3Af5GnNszvqAEAMvQKD1sMAMwXHNB7Ju6DrnUWhEtCafcspaRogR6rfbyUHmBD/O1OP5lLHcmedtFTkrcXy+0vJgrkXfnJAnqAYmgjVWgsK3NASQwLQKkYFXPlXq+3IMBQ5YyUa9UeRppGBgDDhgYAGBpA29psNq/3Hvt0IxuHyFImVO71oXMUIXtdWEdfpl0Q+u/Wbj9O0X0oogeUOEcztWq1quNa9TN33th++3shUALmF8FgPbEwOjqKiy++uKN/27ZtEELkbqMIBmtALujLywfoGHlBZuvZkz2zkzDf740jb+4wxqGYloyxnNAIscm8B1JErt49V9zTACCQSJ0DnyiGunl32JBy2Rgq+5r630Tqo9fT1L1maqrp6AZTrIbUKAPMYBLShMwbqgZfIMArAyTSUwJsUDPrlWaZ62MNkphXXDjfUgkAoJXWkPdKtUoLnHkaQIyyUQHwCgUWTmkBDF72X7rryZmAgoJkiea9mvNkSq+RM08JoHJFImNQ+/OJlCBcS3qPGajKSruRS408zRiw18dTAjxf1Fe3KkLRtoMt/X97NHucVSMKJeFW6ta1r6EwlTAsSvUPIab0dT6jUsayUp6Jq/FGTaAuPd0ho0zAsp+Qdpv7wf2P4o3WG7hy/AN4S/k0APo5zqMEUJpEESh9wl6/vEz/XJDxrK0P0D9NKYXBSnyl6DitvugBMeOIza8IqxhA6SSAv7f0Hh8txYBACZhfsIG4LgFdcZwVDpgNgsEakAvZizQYEBAQEBBwBJAyeKkDgPvuu6+vccFgDcgFY4yEa4gPwzXai1EWKQbY0d2KCCikxGPSIvSAFhis6H0TQGweWaZAcuAZ4rZj2qXbc7AhwYgx5+GJdWkBAFqJwPpMSyijhSYUFGKUkUC7aTlip3YgWEQ8pDbgSQOPiniofYA3la3c+DdnMaRq2T3dPEoZvVRyzbQCgDtTetawiefZJKtOkX57RztVAjwlgN5XSgmgv+PTjnIAdmX90wPofC3pw/YUPpmc5fvHCkKL2Tvixx1q+DEx87qtS8t6j5EIYFKgDJ3h/8aMpmaUOUOFe/+wpQSMEBqAVN67qNx/CqgMDDjbCP3vbu5BmeviGUO8jKrQOhiCMUSGLMAL5rFztZ8z3db+Wehs+2vbDz0gMz86w/b90APomJhzQKauv10xYNCw/lzQAwIlYH4RPKxzh+OpcMBsEQzWgFwUUwLoh8K+ANvoAZlYohlDiwgAIJLmkEjAIAAj0C8QIzEGGgMnITzlMtVTFaFpjDkdlrZhZL3G4VTn/O9LWma83q+BllMgmGF1SGb7Z6Bce9oZfC1ZJ5QATwOgWf3FCWo0M1qas02d4UD3y8yXyfwX7jrYC8tZRJQG2l+99EcGDe2nzkiU5koq+uOBaRIBVQmgJgxjzPULJXyAlXmqQKw8N1bLbFk6AXNzWKuK6Q6ybnP/mA/3anqH3moLP7RDtv3bC3aORSVg2Hz70ZD7W4YZTh9mGB3j+O+DiSsycVolwsklo49gxloDGgBqCUfTUgLIuv2IYiNp09BGbB7amDnfiCnXHrSIAD1O5rrkrLsrutADBDM/TdumyaMG2H46sf+J4+kYMWeIub4ptSQhhBb9RFi1AH0OvU3OohH5Rmw+xSBQAuYXwWANGATBYA3IRaAEBAQEBATMJwIlYO6gAoc14ERFb0oARW96AC0ikGYy3q0IfmcxAbs9MgHBVlt2fEQC497HyjLJWTYma329AjoLXEHTC1rGwxg7r65ChJKjAdACAQIRJBKzmmwSUpE/x125XCoFvWp2vmzw0xYRkBlKQAMCJeITynoq9d7eLaZpAJy0vWdLET8WwDMqASxzLz3alQSEuQ9p5tw8ESGBhGijB/RLCbBfUEWUAJvmNWi4+GDTt0tcUwKYmUeY6MKyMse4EXHd30wRMaAivCKFHQ8Aw3EK1bLXmGWvRLtHM+e9opBNlmpX9M1eq+yZ5iVH0S7lngna140e0Da+Cz0AbfsW0w0Ga0ecA8SYaSfc9HO/AyVg4SN4WAMGQTBYA3KRpQQAnV/xRTQAOrbdSLEhapEJu1nOpnQ0AIYW85WYbHhesZLhTAJCRc5ooiFqQ1zAGBsGABxi0wCABLoQQBMNKEMJ0HJV+jgt0NB/Pg2Atmk4f5AXl0LqeKl51wbuClijUYAxjqpYjIhpI54qA0iVov3eaGNQkH7liwFAV8SS5seEvZ7MBPG1SgBInzFhFMmzJvSASEWeKmD4nvo4vliCANNhcvjHJKMY4JkCOvRrbXwFpD1eaLMNBBxsMhxq6bnXjKTOCIUJ+XOmMNGUOGB+I72e1CBrEpeOj2BFpL82d9UEZlIvcVWY1c+7r5WZ8RGhBMSkzQkNgZNrVYSM4av8miyyAnN2BT3QRg9gZi29VAIoHcK1FQntZ/bzgfmIcURCr7qWJm4Oi+yPlvxw/iCUgCIESsD8IhisAYMgGKwBuQiUgICAgICA+USgBMwdjmrhgGOEYLAG5IJmFZseZP0X7UUE8qTkeysGUHoAJ4+jpw+0YP0zCVp6pDuMpQQoN4f3TdqQug9yKqXD185Li8hl39N2kRqAFtzvo9p5pjkbw18RDVOdbdRMa7pygj1eJg7ceQwFmqXkA/CWHqDXJTvW54oPuLm7fwmmJHidIDV3VXvxhPMSKwiV1TAtogSgrf9Iv4KpZ6+934YQ9je9fqylB0gFLC0JRwkoyQhTKsFrMy2fMMQUBPPUlkzAvt/EJjI+JfdCXz+/vbjIgt+Hmf/0Cp1ns/QZZksPoBiIEkDmKFIMyNADmKbxoGBsEeaEEiDOdO2mrKGFGQCBEjBXCB7WgEEQDNaAXDCmiMHqQ/+MtjtoAMqEsPOoAvQ14TPYobTZpLPQE7LdCwNJox4gEXuJKSacaSoYyVo3mOa6OPwkPwQATnWAhtMT0HC/l9KiRQGouH9RJn9eiL8dg5itDJTiwMEYRyxIsYCCdWSPR8L54GCGBuFVAnQwltIwLGdVumP7+82Yb3P4a19SseOwgmnjRwEQip4zh2KGp2l6BOEB6H5P6VDkXrazozvPc3Zg8C/LA03mOK1rRhMMcR2en2gm2NeyyhEpJAPeUomxrGSqX9WE82rQUH0HJSDnXDrWAls0QffFVCWAtNHH3PSa2DyMtO3glvFNy07oUL2/J5mPbtuCBdPHFG3bilQCOuAWTgoKkJ9P9PgR54jAMZOSzyL5ailSDJiLIgLLo7OxPDobAPDrxo/RkJM9TixgEASDde4Qkq4CTlgU8Ve70loBDKrPCrfVe1q1R0m/UlO0cj2vzqfL7MzUL+i9RhkPKxSY8slS1GPKEZm20jxOZbmdtuyqQnGiVbHPZlalBxn1juovoVZadw5tb0hYkyXvGNR36jVRrQdVr8v8KMl8z9GioPmgXliaCKe921a31U+aACbpKt9nWuRtzR+d86Xc43u68A7k3Jv9Tf2kiAQYjwWWGA/rdCpQUylem0mc8ajQZrAZt7hyt6S/tdpVpGQ51MPafXfVbaP3fBKvJn1iqIfTJ7b16W3NO07ufoN7W/PaEeNIqBRcznxFmBNvq0nAUlBoqZmQgDUHCKVZAwZBMFgDcsE5R5rS8Lf+f9aTSbwW7W+vtjH6v/QV0+aVVN7boc1C63GTxKgUYKxF2rQoaPZt3cAYAF1mVU9v9FuJT4l6Kqn3dFCvarEO6+zAmQAzoeaqWAzBSs6Azq6DeqI7ZnFXJHvtAcmUKcnKnPeauSQpnXylZxCwJiM1fwX8vWKs5LeQexiBemS5MWZZxjuYZ8DQWvIC7T9/Oi0y6mXsB8T377w7dI7xksJIDAxFwKqIY+lSnej2k30tHGoqnF6NsNx6WBPhTHfqVR1UN9XuSxOtSjzrYc3zqhZpwlJHCzWC/WDfpX8seK+qM8Clny+lv2msF9kYt+06rBSZpCsyRzbRyi+L2i4qc7cVOHTRj8h8LmoyIVvJXJm9Cn5oE+QbsflzhASsuQfnf/y8y6MBBRzVwgGZCMxRxHHxtNx7770455xz8IEPfCDT32w2ceedd+I973kPNm3ahEsvvRTf/e53O361Pf300/jMZz6Dv/zLv8TmzZvxzne+E3//93+PF198MTPuF7/4Bc4555zC/999991u7IMPPlg4rtFooB1PPPEEPvShD2Hz5s1417veha1btyJJOvN1FwpUIMMHBAQEBMwjgoc1YBAseA/rxMQE7r77bgwNDXVsu+mmm/Dkk0/iyiuvxIYNG7B9+3bceuutOHz4MD73uc+5cS+99BKGhoZw9dVXY3x8HHv37sUPfvADfOQjH8G///u/4+yzNUfprLPOwu23395xnEcffRT/+Z//iXe84x25azjllFMyfXEcZ/5+6qmncMMNN+D888/HzTffjB07duCuu+7CgQMHcPPNN8/qusw3VMFfxeFV2yiiBFB0pwdQ3dDO/s523nF8NansiqneKQ3xZ9vCeS77owF0oQTMgmUpVerSlVrpjInmG49lx89ac+yOw9DErczsmh7QcX3MFWV0pGy7qsbjhtQkVOlEOL+VOyqH5gz7r5cIXNMElE+JKyjomksiyT2VjAu5+Pc+9XBmKS3dKQERBxIj43R6OYZUwN5mgtiWZuVApOi8zJ+DavcSti/duxyV+Q/1lbckQ8TtPQI49xzk4vKsfhXtT+agYfi5Ls3aT6IVpSTkjaFjY8bRyqEHFCFQAhYmgsE6dwilWRcA7rjjDmzatAlKKRw+fNj1b9++HT/72c9w4403OuP0Yx/7GJYsWYJ77rkHV111FZYuXQoA+OQnP4lPfvKTmXk/8pGP4J3vfCf+7d/+Df/8z/8MADj55JM7vLgAcNddd2HVqlU499xzO7ZdeOGFWL9+fddzuP3227FhwwZ85zvfgRD61Tw8PIxvf/vbuPrqq7Fq1aq+r8fRQpYSAHR+rbcnYOVRBRjA8r6QOBmp0E4P0C8AG64VLkTNwCDdh5Jnj9/2Ek+UzuZtqmk3J5AN5UvykikqtdpPCda5flkNRSch5lVz/JQcw1ITyDkUrIm1XRPl/uWEZuGTrjiEvl2ZeyNBS60yck+yRA+jw8qIMUq0cQWhG9hwNVXi9SSEPAOqM2yvw/n0vLoYqwV/F1ECTi4rjMYKw7GeOTGX49VGCxOtFK+3alDTetsV44txRkVTBt6sCzRsaVayvnbKQqbfhtdNm5ZjpUlX9/7h/8LvG38AAFx/6uVYU83+QG5HXgECmlxFF6JkGyUgM8ZO6P+w9ADzG6qrDmsH7D2T2R8rnjbA3HzK0ADoGAn/RAtw97zVJaXw5BtAvRKweiVfAYESMB8IlICAQbCgn5Znn30Wjz76KL7yla90bPvVr34FALjiiisy/ZdffjmazSaeeOKJrnOPj4+jUqlkjOCiNbzyyit4//vfXzhmamqqUE9u586d2LlzJ6666ipnrALAxz/+cUgp8ZOf/KTr8Y8VAiUgICAgIGA+ETysAYNgwXpYlVK45ZZb8MEPfjDXg9lsah2aSqWS6a9WtWfqN7/5Tcc+k5OTaLVamJiYwLZt2zA1NYULLrig6zoeffRRACg0WD/+8Y+jVquhXC7jXe96F/7pn/4Jp556qttu17Fp06bMfsuXL8eKFSty1wkA5513Xtd1TU5OYsWKFZienu46brY4Z91aKOqqoVJVvtP9y1CwPZMYRUeTfqZ9NlQOyyZUMdLu8Oqic26LlacvB9D5hZj1VGYz6b0XVoF6VW0lLpD+7JzIDS/bY/QD6qGO+RAiXoX3a5KzYyDrIe38WXP7GJi7Pr6Xk6N1Xm/mFAnslTfJRko4WSsG3xaKO+1VDi1LRPczd9y1tWyW6SfXgud4QfV6/Pl18+y175fpz/F2oqTAYwm+fAyCAUPm0r59xSK80UhQUwnqUvst6+USGmXtYR1VAiPSawG33TJ3i3KPCbhKYK66FVMQZppLlr0TL9Z3AQBalTKmK/pru8pLqHBNP+JgEIy70Lsjehi6hIT3VivV1jZRC0n380vW8yk6H7Bo5SLiZWe+Ohnaj+3bdD67TbaNt8dRiqQWKpj107H+k5UqidTsSPuLPnsqd0v+aNo3nPwfOCjfgIJCohpOYi+PErAQo2YLCfb6MMbm7R02CE4//XS8+uqrx3oZR4Qga3UM8fDDD2Pnzp246667crefeeaZALSnlXpZf/nLXwIA9uzpDN184hOfwK9//WsAwNDQEK6//np8+MMfLlxDmqb40Y9+hHPPPRdnnHFGZlu1WsWHP/xh/Pmf/zmGh4exfft2bNu2Ddu3b8dDDz2E8fFxAJqDC8DREyiWLl2au86FAM3koywy+q9FgaHk3sQK2QCvDT3SfgZrcHr9TQ4bzFRgYMqPzRi1xaaIk6hK0cxszWb655dXzYT+M2MKXoBzoBJQFeMQvNy5FiPu746hiteRszLXajd621mBVpcVYK50LScBYhq6BZibWTHmlQEUHeH1eLWUmD2aN3McdxFeM5byM9vpASDGqyL9vb6mKafSDqaUgLcMpRiK7Hw6874SmTC0sd3faLWwL02RInHznVaOsdQoBuxrCLSoAW7XxxQ6Lj2yoXfB4MrBWoM1gnQfo7cvOh1vHzvdn2+PE85k9dvHRhH+N/PHTxQyMl0+PE8mZOSYhh7AmTaCedtiJDl2J4nI99tjyuzlaVM96FwX7fPzMkRmx+YsNZH7+cl3UP0B02p/z/kD+kegBAQMggVpsE5NTeGOO+7ANddcg2XLluWOufDCC3HaaafhtttuQ7lcxvr167F9+3bceeediKII9Xq9Y5+vfe1rOHz4MF577TU89NBDqNfrSJKkI0nK4uc//zn27t2La6+9tmPbZZddhssuu8z9/d73vhd/9md/hmuuuQbbtm3DTTfdBABuHaVSqWOOcrmMmZmZ3GNbw7sI5513Hnbv3o3h4eGu42aLF154gZRntW+sYn9VPp818+ouMDaZ8a7RggPdx7oxRWshb9cdv305s5XyP4sN1t5jMnPOgcE6Ek8j4pXOtZj1yj7WUQzKP83en5d27MqMYeTa0wIBdA7aLxA7r2msSq5dUiVX6UoozWIVbT8yPMfVr0kYY0gfB2Qtvp19qrLe6e5XwRtEdL/R0QSp+QoQUJkx0y/vAwC8sW8Su5spErSc0b15fDGqxsN6cEagITslrjiRpLJr0MfxY6xslchwWGWurBWH6stgtUdKjYGZKP+DkG5PZLd+DWrM2fkAbbseeGk/2Tcro0WLFSS0n7TpcbL9qqM/yXhV/WDabsgkI/qWhzy+aj8c1hcbL+GwfLPnOIoXXvjtQONPNOzY8eK8vcMGwfHuXQUQSrMeK9x9992I4xif+tSnCseUy2Xcc889+MIXvoAbbrgBgDYKv/SlL+Fb3/pWrqoATZq64oorcPnllwMA/vEf/zH3GI899hiEEG5cL1x44YVYvXo1fv7znzuD1VIWLIWBotFodFAaFgo6Cgd0+z5nbZtzx/YSpKc54Qq9fWe95uvmM7HnQ311g7Zps60/s4riC0eNt2Y6Rfo5oUH4sapoHWQthcejl1J5qkQHh4x1FhnwE5h+5vslUQNI0EJE2v7rRcGYaBlKgEUK+Kqzbadkn4Kiu93rKaDGrHL/sfvpP/Y3vH+/xPX/U/OIWA/g6koJUE1MSoWa1N7739cbzrhOmQRj9ny9SV1E0UvN8Rn8k0+vSQKd2kYNc7t8W0/Mkjj8uSp3dPekMO9dzU1sY/mZ+bTfXzZGSjbbtWWP6X3l/tjtc2c85H0c3/YXKhqQ+URbGde8y5/3aS3+BHucJM50Y0KZ1rlB4LAGDIIFZ7Du2bMH27Ztw+c//3ns3bvX9TcaDbRaLezatQujo6MYGxvD2rVr8cMf/hA7d+7EoUOHsGbNGlQqFdx2220dIfx2LFq0CH/xF3+Bxx57LNdgrdfr+OlPf4oLLrgAJ598ct/rP+WUU/D666+7vy0VYGJiosNbPDExgbe97W19z3000VE4IBPmN33U89luEdktGZuTvG7abFGV2U7edJljUwOgyAtrOXJabsn+m/dC6Uf8v5Aq0AP9vMCG4+XEq5rN/Feg6gBtc/cR9syCZv63tVgm6J65DwyeHkBrHFFDhUM4IzQi3laByHlhufGtaiKIn8PfPZVjmmlvq6UOUANFeyc7Pa+9QD2s9FqcVFZYFPuj64x9wyM1lvT6kRLWj5TwyN6DOGhch6urJZxSNuVypb9u1FM5mXCkimXm1m2V8bByVuxVFfCe12/sehw7Z7SX76aVl+DsoRWZc/Gr0EgAXRZXehqAUgx5xQIobUD3G28rCdtzc+M4ByRRGCj8bemDHW7u9nKwXhmA0BaULzLhfly1HSZPaYCDgZviAs1MsY2OJz+DfsymUKZ17hEoAXOHwGE9Bti3bx9arRa2bNmCLVu2dGy/6KKL8NnPfhZf/OIXAeiX1dq1a932p556ClLKnslUgDZKJyfzv3SefPJJTE9Pd1UHyMNrr72Gk046yf1tE8aee+45bNy40fW/+eab2L17d09JrGOFua7eFBAQEBAQQBE8rAGDYMEZrCtXrsxNtPrGN76BWq2Gr371q4UZmPV6Hd/85jexZs2ajMj//v37XRKUxRtvvIH/+q//yhiRFI899hiq1Sre+9735m7Pm/Oxxx7Dq6++mtFyXbt2LVavXo0HHngAV155pZO2uv/++8E5xyWXXJI7/7HGmRXVUgAAIABJREFUEVEC2nbtRK9Abj/oPkdhyDuDLuF+Okb1GtM99F+ELA3AqiG0/0rOoyEMug4f5nfjlPZpdhQOoHsxSUL13v/lCjswICWFAxK0jGdVe9FsOzWUgGIZfbrSzrXSo1t6AO0XHaMJmKdeUEoAFe7f3/CBbEoJkKozKWhNtQxAQSngzWYLJab3LDOOkvMWeeZviUs0JTkflfnHnLNGEQ2A4u0jq93OL8/sQ5VrDu2wKGNIlNzRBROOxCGhvZg2U3+QMHx7m0J7QNspAfQT1Zse0NdaTLuIBpChGIB64pl59jS6fYr7oQRQhCICc4NgsM4RFI5u4YBjdNsWnME6OjqKiy++uKN/27ZtEEJktt14441YsWIF1qxZg8nJSTz44IPYvXs37rvvvozm6Uc/+lGsW7cOmzZtwuLFi/HKK6/g+9//PhqNBv7hH/6h41gHDx7E008/jUsuuaSQEP7Rj34UGzduxIYNGzAyMoJnn30WDz/8MFatWoVPfOITmbFf/vKXcd111+HTn/40Lr/8cuzYsQPf+973cNVVVzm1g4WG/MIB2fB8kYE3O3oANbWyAeP8eCNDNoM/C+UoAZ3cYb/P7JOo5uKlFIsqhJEl0jQAPXNeApg8guMxM4MGd5dUHyk1vcLQA7KsVXvpFfmvrmZFw/0g/fovYcoF6Im0kgBNmJeQ7g+h/H4RhDuOIPedmvKc+cQsHbpnmYSdoh8PlBKwZlRhlCRa+VC8NpBibo9F9gXw0kwDf2hqofo3Wk383Pzm+B/j4zgtMvQAcviYK8RcX/tGyqBccpkP+duCAREnlIDMmnz/e8bPwkUnnZV7fhYpCQ06OoXy10wpkqUPYtArf4EU6ecg4Xxn8Ov/CLPBymcVQbXF833oHyT0nx1PZ6OJcP54/hwt6KeEM099oPSAvCICRYUFihCKCMwNAiUgYBAsOIN1EGzatAkPPfQQHnjgAVSrVZx//vnYunUrVq9enRn3kY98BD/96U/xi1/8AlNTU1iyZAkuuOAC/N3f/R3WrVvXMe/jjz+OVquFv/qrvyo89mWXXYb/+I//wNNPP416vY5ly5bhr//6r/G5z30Oo6OjmbHvfve7sXXrVmzduhW33HILxsfHcd111+H666+fmwsxDyiqoBQQEBAQEDAXCB7WgEHAVHhijkucd955OP300/Hggw/Oy/yRGCn4MinwdhJvWtGYbHEB327PiM+MZcV6q53aoh7nnKO9UL/97UvZDe1Uhxx0E+OnsuQ5G9vGdCJbIGAYJTEEez2Y8yN695L29ir3v27n0hHmJMdqL7iw9uwzAAAv7njF9zJB1qFDyzxTtMF7VW0pV+6KBTAIFUGY38BCCacYwM3/mPIqAVl/uveEafkrm7ilSxHY0Lb1EArGXEKQYPpveu5FV58+dSeVFU7SsrcocYWyOU3BFCIO/P/svXuUHVWVP/45p+6rn0l33gTyTggEMEBQBAdEIgiO+GSiDshrxAcyI64ZFF/LNSxH5THKrCCIi3EQFFERUYchYFCGLw4KhB+vICFAQggJeXQn3Ul333ur6vz+OHXq7FO36t5bN/d2d5LzyUr36VOnzqvqVu2792fv3Tl3EhhEGNZKnfv80DBeGpbm3z2eh2Ff6uMWt7Vhfpt0oCswjjauLAf6PnV9Fjpg0bmoJAEOcfLiEKEzkjyuNIFaM6tj2gYRA5TWVLDQPOgLmSTAF/K/UHXBcU/oJAIeqfdJPX0MyHpg4vxJEAB2BWGtVLICI/mAUdbJBVQfYTmo90jZF1pT7QdJBNTvsC5yPFqm95gn/JAeYN4rlZ+b+MQCZn9vll/EDu/VRErA4sWHA7BhrZKg9ufFF9fB95OtYKMFlainVjjJ8Yhly5bB3zuIe46eOGpjfvDZXeAdXaO+X/u1htWihUgkdREmWFPoAQLKMEl9fUGOm6INq1EfHUtEatNpjtO0p57+SejITg8jA3hC50AXwgvPlzxOVd+optvcD7Vbmh4QvuKD3w5CX32mmYLqPE6iMtC9dpTwCh0NQNbrKAFKEBcM8FQ2MWNf9fXLiQy5wzjhR+v7LcO1wNrmyPKwa0avjQPdgd68QGdICUAFJYAz2dIh9yFjwEsjw9hcLiOKeW15HJKXHdJYpTT+qepf1as2Oe4jE6EE0IgBNKIALX9744N4cUiapa+ctRyLO2T2Mpd+4fGZJFlQGgAxw0PQGL2mx74iVXlk3xQ9QBE3VHsP9I6r/IIZHV+HRaNzMekBUaoAvWN8MIOuQkdUfdP4rIzx8GXnCi/h6ZBcJ1elR9lpKQFNQb0RPiwsACuwWiTASMtqYWFhYWHRZPi+pZ41B2yUw1qNzRcNK7BaxIIxaV4L/47TYFaTaYn2IxZVzmXMry9rRxUFb31RAuKmVaV9hUW+wghf2SgCGhkAobHbPLdmkoAqczU00FWXIozfCLW6dE76ZeJHakMtFlw9TQA0iYCKEiBN1krbGveg07NwI1rqjKD7I8tlMoGiJ736OYs47dRYd19R1+U5QkqAYECG6+gA0SgBC9sKYd97PR/DvtTWvTIyEmoQJSVA6SdN7aUyc1NvdtdnABcQPkOGB58rzpAJr5EZMUCV39Y9J1zoq8M7UOBZCAh0OgW0O/lgXC4pHIyHJnRjHqx2ZICkO5CFs9NRetX1jp5Hx3GIk1ytyAC07EAnA6gnYgD9HBlzgU4nHLe22p9iYBKfEz5bSmLYJhFoEFbDapEGVmC1iAcTRAKIe6hEKQEUaYREmiqUnpcUyF+BI54eoGqU6TltkP1kNKMvh7eFGZFkBACVlYcIh4KGVk+DqJBf2YeSSZVwYfCKQ/M7MZ4zdVSbYGlqVhbwVwFJAwjpAUzTA7gw0jrINRqEDn2HOUakgXgaQp5zZALpsDMjKQIDpcpUnmHfjP4t/+jJCXQGT78M0+bqDJfe+ZwLafrmei8YgKUdBRzbKSkdv9i+C7uDSBoLCgXMDNIv03SnihIQEl+Ip75a9bDHAI8Z6UtnthWRcxQdg1ACmB+Wl0+aj+VBxIBvbfgjfrnjOQDAv8w6DVNyHcFcGAQCATE0seuIAS6tj+xzmFyACO1+cFPoDFrhDSL3XheD87RYa9ANVHvykUqKDAChx1NDJSUCiPJT4+pVWgz1k8G8H+v55FlKQHNgBdbmYVTDWo0RbEwJi1j4lhJgYWFhYdFCWEqARRpYDatFLBhjxJyeYCgnGo+YDlBNVyES/4jpJhbVaQOhybupQTDqMRZWh+sNkd60533YPaQZVyRlQheVV4NqqKuzNALdlFBt6TWOSRwAP5EGwEPNqkwRAMbgwiX6VkA/XqpTAqhW14Vn9hxDCSj6Xlge9hgKkPFAqX+aEaeTauaY1H32lXRdngM5JzguGDKO3CMflZQAikVteSiP8jfLJeQ4SSLAVDQErclLMn8rEz09PuhyKJ1nlvmSKgAZKYFqfRVO7J4V7ubG4T60B/F923gebTwP7SoFOEn0ACSY2Su0mxSmab0yWUCcSV5rOen4RnKDmL1KS1+ohxKA2PMsJWC0YDWszUNdNLr9HFZgtYgFfUlJqNcRi9QB9dEDqOGX1iePXxvVXgxRL/jxgQzPwwkoAT788IXqCzfc8HSRAaJ7GrevPOa6BWMx/UIPxVJq5WXKLO2E4ccqEwRU0gAYeXiqKAGUgkBFa9pfBk4o3Jrj8NCMneVOWGYAyj5DydOkiiTjwNxOoDMb9MF0YP44SgBjUrzLhHuhzfJqJ9cNF7E5SCKwpejhsUBoeV/vRBySD7i8hB5g7LTQ9V5AD6BXvb+URX8pF7+QAAu69qIrK23qp/fOxem9c4MxeQUloeyROrII4ZufaU7mGtIAAELNkHCYadr3jaME4Tj6j+h3yJAeEAzKIm2UEEvDZNH5paUEgOl1qkgCwjhcO4mApQQ0B1ZgtUiDA18kt2gIlhJgYWFhYdFKWEqARRrsk4Z1aGgIO3fuRH9/P0ZGRjBx4kT09PRgypQpzZqfxRjBpAQoVDE5N4seULVSz6220U5EfifOrkE0JtCX/eGgFGicGTV51zZKahMnoQHUsVdJV7LyGmvjvw8v1HZ6KENFshSgMTrjowREy0pbGvcN2QjwbugZlXGYwYUfpHAFSp4HqJSOgiErGQlKGZy4e7tKss8KGgCTkQEYgrSmXO6pB62t1YQEjcMDSgAA7PUEhgPb9qsjI6E2Ns84CtwJ5kToATUoAVXv8EBr2l/S+5thPrJcaQv9kO7BweFDpnf1hNJck+i7dVACaL0xifB3SDZJvIs5Y2HUkbi1R+kBsftTByXAXEM8JSCONpC030n1lhLQHFgNa/PgHwROV6kEVs/z8Ic//AGPPvoonnjiCbz88suxHMGuri4ce+yxWLZsGc466ywceuihTZuwxeigkhIAVFICKFpHDzDGr5msoNqYzURjAqvD82ABv1BlsZJlT5drvvCiayGv39i9p1QBHlxF06AayAxGggBJA1BClhbXTHqAZq0yo0woATo1U+QOUONEKQaEBhCWmQ6kzzkE0ySGki8MD3sKeqdNyAEdgY0/x+MpAU6EEqCD9wdCMaEG/HV4GJtKMomAIzKhcD+vrRAmEXCJKbwUeOxr83YyJYDSB5K+kPQVcyFtQM0PAH6y7Xd4rbQFAPAvs96Nw9unQSCSCYuQQHSAfr1bSSb0sErdF+TasnDKlfegTByg15uUICA2iYCve4wmE1BzpSMaSQnCdcbTAwS9/2OQVG8pAc2BFVgt0qAugXXz5s2444478Jvf/AZ9fX01HVkGBgbw8MMP43//93/x3e9+F29729tw7rnn4uyzz27KpC1aj/hLXN2pBwheHNUa1aUdra5dqoVkoW3s4YYaVkC+Tmm8zgQNa4XMXVvTHQeqba2MwyrPrXS0qtSJ+ijD1J6qMgOClK1RoUVrWOP688N6H9qhiupyPbI219caVtmCRXeMLimcC9WwuhzIB1tfj4ZV6Xrp7I9oL4TlvR4w4sndfHV4JFx9gXEUHCXukfS2+6JhDVoYPE8ytyPb54fXdd3ePuRZDu08j7YgNqvpgMXiY5/WnIupYYXRtlKrGa9VpfV1aFjJnOqZa5pYrWk1rJOdeWG56A9ZDWuDsJnhm4fRTRwwNqgqsPb19eH73/8+7rrrLpSDdISLFy/Gcccdh6OOOgqLFy9GT08Puru7kc/nMTAwgN27d2Pz5s149tln8eyzz+LPf/4z/u///g+PPfYYbrrpJlxxxRV417veNSqLs2gcnHN4XlzcUfqob4W2tdY4dYnMNcYcO3j+MLxAaM05E8C40qKZaVorQR2nkvY+ScNKIch/ZvbJaNRMGCWqVVUpU1WZhW1YQpmHAitNAxqnYeWGhtVcMUJtrxbWBFA7Om7QycQc0BloWDNca0+pAxbVsGaY0N75oWZVa1iXdhawtLMNAPCLbYMYdOVM5rUVMDPQsJaJ01WJajYTNKxqv5UQVw005Stnel4ndC3G27oXy/UEa+t03JAyUPb1PMpkHlTzKpjx/ahiJhwyJqvSmqoGHtGGarJAZQrWOG0rpTNSByulpK5wukrQtoKeF1MffQowVEYNSGqrMC2zCNMyiwAAzxfvR9EfTGhpUQ2cV36BtbBIQlWB9fTTT8fw8DAOPfRQfOADH8Df/u3fYs6cOYnte3t70dvbi7lz5+Id73gHAKBYLOKPf/wjfve73+Ghhx7CZZddhiuvvBIXXXRRUxdi0Vw0nsPewsLCwsKiNqyGtXk4GBIHVBVYp0+fjk996lN43/veB8dxqjVNRD6fx5lnnokzzzwTGzduxC233BJqay3GL2o/R+qL+dlSekDFeMG8BMIFpHkgjjafyvNHkmaCylVXd65KPI0erlifQJQSYEJ/aaGxV7WhHvBVHFZpaIdJCYimJ01LCaDtfSBwGqIjCqN1/JrVPdAfTccaTo+F2kcE6VElJUBmiKLjxLAzAQCL2nIQogQBYHupjFyw1znOkCWOdfVSAujx+BGDT5iaNjnuRdo6EBjxWGi8p6zNpHSo8bcSi/nLbGXGbNVOT7Vi0JrleHpAkoNY+vislWUzHbK5xlofuzgHLI6MpQbUASuwWqRBVYH1vvvua+pLfPbs2fjmN79pb9L9AMmUAIo09ACKKFWg0khnvhzT0gCUybuec5P6aD0cXgAPHLB8QglArHabmvv3hRIQaR/ZZwaaDpWbsVeZMtVTpyvtbMSJSCePB2URZ/rX5WR6gHa64mDGJVJX2EHllZYOSLqxKk/IA+0xTlc5GpOVOl0xEcYIdQKTexKBZd1wEa8HMVm3FRmeDMTGM3rbMT0v96ecQAlQsVLpp41SApLEHgb9MeKMOI6R8o+2/gYbi1vwmUPeiwVth4RrUcfpPAxKQMKY0fHDdKsGwyfoIyH2Kk3ZaiR4IOuhjlY0DqsC3ZMK+kBMOYkSYBKT1H7rFo3GZPXhxra1MGEpAc3DwaBhrXq3tErjZD0Dxz8sJcDCwsLCopWwyiuLNLCZrixiIR8k9GFS7UtGPfQAs32NE2ogzrQdXyM9gOv5glSHyb3ajBr4EjbuKAEIYq8KpR31SX00Nat6dCgDPTGbsyhVQOsOlTZWQBjaVAWP0APoqAIAF9FZqT718qNzpdhV1G3clJQAqW+W+se4vhe3Z+VuCmDE8zHiyTlvHCmFWsMc48hzSg+QiI0SYJjW483zAvpAEiXgqI6FAICNI9tRYDkIAN2ZPDqcPNFdS+15WkoAUEkdkudVpxvE0wCSKQFxcVidYM0iOg7ZizSUgMo1VCKp3lICGocVWC3SwAqsFrHgnMHz6OO+FuqhB8S3j48kkPTKqJd6oJhpaQTJRh+ejVkMPFGE50liZcbpBA9Sto4eJQCgr3eVPFValgKBksRbVWUHGYMqgFD00WlVGak3TfyVaVepOdYxKAHErB/8Ds3/TP/tIxCNydpVnFZKD5iQA9qcSkpAhmsP+yRKQCYwo9M4rBTPDe/Fa0FM1ja/A06wztmFHKbl5HWl3vklYor3grJhwiaUgHruyiRKwMkTFuNvJi7GLVvuw//0rwEAXD7zTEzJd8h5eJSmYFIWksDIR9ZMzQojooAvzE+Gug4y3iotB6dSGoBeftjG9/VeROkT+0oJQI26avWWEtA4LCWgeTgYKAENCayu6+IXv/gFVq1ahZdeegm7d++uyndkjGHt2rUNT9Ji9GG/+VpYWFhYtBL2PWORBqkF1t27d+Oiiy7CCy+8UPfNZm/K/Q/mNUvj9NRseoDZd/3zUHOpfk46DWwSapvra2k+fb+UyCgPE1/WQ6NIRQmgIDsVFDx4xpRMSkCViAGMGV71fqAP84heTFECZL96XpQSYPZNx5f0ANrGjC2gQc+TiQMkFCVAKpMZso7ssBxQAnwBuAElQPYpr0ESJWBJkERACGDE9QLNJbBxpAjGpLa/qZQAEVACgk480oCqDtR6jumYFzg7ARuHd6LAZYasNpZHnqsECBwsiH4bn45Va0VVX9XuSWmqD+gBpL+0UQJU2ahL6M9SAvYvWNmgORAAfDF62uqxumqpBdbrr78ea9euRUdHBy655BK8/e1vx+TJk61q/wBDZZQA+dJtHT0giRqQ1DdFGqpA9LxmYd/G8UUJvleqqM84nWAsGlKuMuD/vkNACmQ6Hatj0ACysfQAIwWrQQ9gimUZzpbOk4toGoRKSoCalexPg4U/qJAaf//Qmgk5pqMEEE/5LNdCc4YJxepEhvlwQ9O3bE9ToFJ6wNNDu/FqUdI7OsQEZIKZz2nLYUaQRKDoVacEeJG6cA8Sbi0aZovSAGg5G1AcTpm4CO/skYHus8wnKWf1GnaVHJSDl55XsXtm+3APwr2QqKA1UNM/pXgoQduP7gMSy2Z6Wf0FywcLJ+CTzbKUgPEPKzdYpEFqgXX16tVgjOG6667Daaed1oo5WYwD2G++FhYWFhathH3PNA8HfWrWOOzduxeFQgHvfOc7WzAdi/GC+AdJPQ+XRukBNagBQBUNbLUTlWY4/lg6+kKjqG7Or6Yh1VQBHXTePBmJy2dE8xQ7KyGM68wYk2bMkBKgTf8Iy6apnsQG0BSCUHun5utCPmpMjT01/auIq5QSQKdOTf6ApgSoekpBoDAoASRxgMtl8gAWTCAbLEiZ0D0BwGdE08mQCe4X1R+dzzEdHWF5mFACXhkZhrrP8sxBnjuGkxkQ7wUfb5I3d0WEP6SmUk0ojhKgftO1qNPVOnLcD/39GKFDVGgkkygBjBra1RoCSkDC2jJMxqGl+2CWWXyUgBh6gIBM+RpHQ7CUgPEJK7BapEFqgfXQQw/F66+/3oq5WIwj0AxBJuijvnETfrwwmPCaSEUViM6r1rlp5rcvIDSJFCZ8X5The6Z5Med0gfO4j25lmCg5cpJDpIC5b9KsHxcNwIwMYFICqFe/pgFohH0IHUXAjAZAIwbE7020VlMF5P3BSD2NDEDL3TleM0qAw0R4BzlMzycTmNFp0H0Qc/oJnV04obMbAPDjN/uwMYj+8NLePDbsldfvlJ4sOpwgW1eFKZyZQfxjd6FyT2jiAIU4SkCOV0Y8UOtV5V1lByU/oAREJmDsT/CRZBDg3Pz80EeGT/YPQl8Hw6ufUAVoZACPRgQQiqNHz9ML9skXzyRKAH0q0E+TpQSMLWxM9ubhYIgSkJpAcs4556BYLOKRRx5pxXwsxgl832oHLCwsLCxaB/uesUiD1BrWiy66CI888gi+8pWv4Hvf+x6OP/74VszLYoyRrGFVqGm/r3pu06gCMcHwq/9dn7a2dVSBtPSAysaeT2zbYKEGU4LHLLGakTM6L/0CSUsJ8OFJDSozTfEqeoCLMpzwkUMpAfFJBCjM/iojBlBKAKUP0PrdJXkmA+BxIBcXJSAwl/tCakGV2Vmb1PVemnp8fc8s6SjIXRQCZddFOaAHvD5SBCC987OMIRtxptsnSgBZs+sDgSLXoAQIrvS3DI6iBAjZVkCgwL2wvzIDPKKxUXFh1ZxUjNX4e7nSJJ8ucYCkCijNcyxlImGvHMbgxVACKJKoAqhSV63eUgIah9WwWqRBaoE1m83i1ltvxXe+8x2cd955OPbYY7Fw4UJMmTKl6nmf+9znGp6kxeijtsAKpKcHxJ9bWwAk49RNDxCkHJybao6tpAqkoQdUztsTLny/0syfc7piIgqgyouzunDPmQMe9JdlhbBc2Yvcby0GgZADACUy8iBkkqzRSQTUGqVMRM4S9UcMUJ79gJlEwEgckOVoD+ziGUIJcAjx1glM/4wBnBNTeEAboCZ06mHvkZk+uXcHXikOyzHFFOQC8X5GIYtJKomAp83/JV9HCVDzSEsJcMhHI8MrKQFZQgnIcR0l4PrXHsS64TcBAF+ctRyLO6YBADbuzWPEV/QNcx9UkgIOnThAga5BgNy5Qpd90iYaGSE07QdNGGTCAHUepRLQtpo+EE8JoEiKHlCtTk5HX2OftLKUgMZhBdYmQYwyJWCMqMcNJQ74wx/+gNWrV0MIgTVr1uCpp55KbCuEAGPMCqz7GaypxsLCwsKilbDvGYs0SC2wPvzww7jiiivg+z46Ozvxlre8BZMmTYLjxGtfLPZP1KdhVRiv9ABznOoYC6pAPfSAuAY+REyQaNcrIhO6yjOw0HAf9BNLFYjOSHu7UC2RiyIc5IhrVGR8Zmpyq1EClNlen8qAaH9IFzEg+tpLogSI4Eg+oASoRjRKAHh1SoD2sGfgFZp84C0dnaEGruyWUfbkmK8Vh8N2OcaRY2bEgFqman2EjNgAJYBGDFjWNScc5+XhnSjwLAQEPHSCsfZgHB7cSyyMRqD2haZwVbYA9Smha0hLCYiLEkCPjwUlIAmT+FxLCWgQVsPaPPgHgdNVaoH1pptugu/7WL58Oa699lq0tbW1Yl4WY4x0AmsjlAAKKQjUn2QgZvyGkg7sC5XB7KcxqkBjlACAk/P02AIuyr4UMmUkgYBzKvSLUyCaDCI6mo4SwFkmpAHkWDscJgPguyjFnkshIMIMVw6kYJZBJuTBam6sORdB6njCnprcUbmHNKQVTSIgZXdJN9jtAgOBxDO7A8irBAmE9suZnIPkTgqSUEDOhwbdVx7zgOJyyr7/PLAZL40MAgA6nSnIsjwAYEa+G1OyksNKkwioqxM1p9dCo5SArOOH5dN7F+DdkxYAAL6zcTXu3v40AODDve/Fobneir47Mx4cFkQigBmdQM1bVQmyHhoBoZIGUEkJiCsblIExoAQkYae/AXvE9uBcEYxhKQH1wAqsFmmQWmBdt24dGGO4+uqrrbB6AMOaaiwsLCwsWgn7nmkeDoawVqkF1nw+j0wmg56enlbMx2KcYPQoAbqP2r0k9RNDFVBzF6KK9rUZ85b9NEYVaC4lIBgMAOD6RfLhplpahmiAd3NG8ZSAMkaSJxp0ZZpAtZnfC/opo4QMssE4Ak6gbU1IiVBBCYiLEuDDB4SKD6vWoGkASdEFdpMsuC4HCiE9QEYM8AG4JHFAXAB+081M44SuyWF5yPdQ9MsQAF4e2QUEKUULLIs8y4YUC4AZZu6WUgI8DnA/2h3e2j07TAiwy92GNi6vVRvPo8ALcl89oA1cjhGY6MmdZSApccCBRgmYzOcE11VYSkBKWA2rRRqkFliXLl2Khx9+GH19fejt7W3FnCzGAdIJrMC+RQyo7KMRPmg4flyy85rnUTSDKpCW4pBED6ifEkD7oPSADG8HZ5mg3qQHCPLqDvsJBFrG9DjdmIwcpEVlN7bBRTmYiU4iIMhPRl77ymAv+avK89wxhNEKrjIiArtgxh2md5upHQFnuhwXJcBIIpBlYRKBLNNEBB6GrmJgTBu4pembhb9lf37sFT6+4xAsbT8UAHDz1mew2e0DALzid+GNERmS7O1dBbQFxFkviBJAP26jRQnIkqgHp/fOw/JJ8wAAz/S3YaAs7xkHWlDMcw9ZHoyByigBdN40GsD+RAlDG+e3AAAgAElEQVRIigaQhB0xUQIU9UbTddISDQ4OWIG1WWCjrGEdm+uWWmD9zGc+g0ceeQTf+9738K//+q+tmJPFOEDjKfNar22tLggGbzKqYTVOTiNEJs+gnj7SraGWtpX+VUXDGgPfL1f4NMmxaCWZb4yGdRgDUAxFJ1F7RNcc6DNZvIYV0NxWRgJcGfMmGlazPqJhBZfigbrkkZUlaVjVXPNBmlYguC5cwPPly7SahhWBhjWqYcwwraU+tmMSRPAP/hCEL3Wym0scgEznmmWO4YClvqJEhfIomqNh1euhWuzJeTe8Hz3B4Ab324gnA5aVPFPjGf+1av/UsFIkHaf1VMNaFsMoYwQcjhVS64BNzWqRBqkF1mOOOQY33HADvvSlL2HTpk345Cc/iUWLFmHy5Mm1T7bYb8A5h+clpfSshfGgbRWkHMwl1bf50V5DczWsRmueJRrWQPMTvHErjfG6D4flQqerDvQgH3iND4ndKEHGGc2wfCQ+q9aqqnk5gbNVFrnQ6cphOiZrHKNDrSysN+KzMqNNqKElGlalbaW7wZle2x4X2BtIP4e1Q5/LEWroGRPa85ZLTSBjWiOoRpYCsh/eXq7g8IJ9fXLPm3iluAsA0OYAGS41rMtyE9GTkc5YNE0rvXNroWENKxfh/mRJTFYaV3bzUAb9JXnPzGz30ZMRRpucIwW/UuR2M7SqpN4V2smsUntaWV8mqVndJmhYk8r0E6rr6FeFeG0rvUZxGlY/kg7ZalrjwXnqZJsWBzFSC6xHHHFEWH7sscfw2GOP1TyHMYa1a9emHcpiDEE9yy0sLCwsLJoNq2FtHmxYqxg0coPZm3L/Q3Mu2VjTAyJzqdpRUj+jtYbWUQI8v5RACYibu56HhzIUDWAIu8MWGeS1BknEr06a85FICah0uooz/cdTAjyjXhn6tfMVBTVzV8RvDX5TByxPSAcs1wdAKQGepAqURWBCD7iscTFZM8wP9/C4zinBagVGhMCwkPu2sbRTXnUB5FkWBZYNdiHQ3hqXJh0loOxLLassV4/DGnUiU2uY0VYOx3F9oBhkbc0yBqeBOKxJ5vzRSs1K55JUroWk8ywloHFY2cAiDVILrKtXr27FPCzGGfaNEkCRxABrxDxv9tEYVSAtNSB5/MbWUG3epI0xRxEZj8ccr5wfdcByIw5YnHEI+KHDlIY25We5NvdzZFFmUohxRSmcC6uYi+qFQztYSUqAjMPKw+NkqrEvd2n618IUnSFZZTAGJ05XdB4Rpys9ZPizM8uQD+zlOa7nwRhCtyrGWEAJEHIuApAitTruh3N0fc1sfXxgE9aP7AQAZJ3OkJoxvW0+enl30F4KriRDbNXgFqE/IVmPQQlgeg8yARXASEXLyL6RMicxZme2u5jZLj//39rwAP46JE3eF077W8wtHCJHZsL4CAiYX4SkqZ6a+6tTAtwYGgBt7xt1+o6hT6kkSoBIKDMmV+/XITgZ55FPcXxq1vhnZxL14GCFpQQ0DzasVQxmzpzZinlYjDMIGx/PwsLCwqKFsBpWizRILbBaHByQ5kZq72vmt7fWm9mrjl1z+PrGr9FJ4nn7Tg+oQQlQQ8f0oSIG+IFpWr4wiL6REc2V0GbhMoaJqZdTd6jYl04cJUCmZlVTE6EDVhIlQJn+oztpxmeVlAAXHhyhwmuxCi2r2g41Po0YMEApAUHKVk8A8MwoAagaJUBrgzm5Psu6DgnrB32Bvb40HW8obQ3PKLA8Ciwvzd/hupLvwbh7g1ICqG7PjaEylAmVIbqeSmdF4MQJc8LyttKbaONZlMoM7TyHki/vEQeMONKZJnmB+mkAbkU9pQSI+D6McVioLa2HEoAqdVEYuyP0Pk3mc2JSs1pKQD2wAmvzYDWsFgctOGMJRq1mgb4+Gv2g1WNmr3Yexb5QBZpND4jz9o+OoV7FSREDIuMoz38nH1ACsgD80EQdN7bDsoQS4ISe+tIoXn29lBKg0rByEhmARQRuLQzTeLAqbBXAhK7njIf1GZEJRuLE9M80FxQIrysDIGLKgy6wN7jZD20HcsHOMaYdGQQTcIWMPuAKNY6mBAhS9oS+Vke3z8eRbTL16W3b/4ydXj8A4OXyIDZ6UlI+Kb8AeScDn2xphtyOSZHZkigBDtNRAmTEABZQAljQt0+Oa6oAZ+ZeKZw6cRFOnXg4AODbGx/Eff1PYvGEw/GBSSejm+WMuXlkri6hB7i+LpdJVIQy+f4YRwOg5ShlQI+pRUO/DkpAnOd/PWITbfN8aRUG/DcT2yZRAiiSPkMHk6BrKQEWaVD1brnqqquwcePGpg3meR5++ctf4te//nXT+rRoDew3XwsLCwuLVsK+Z5oHX7BR+z9WqKphveeee/Cb3/wG73nPe7BixQq89a1vbWiQN998E/fddx9uv/12bNmyBZdddllD/ViMHioeJPW7sKcdqcbxxugBAvVrA8N5VLXVV+ujBfSAurc7HT3A84pBTFG3YgZROoJHEge4KEFHW42ZXGSJNLGABxccGbhwA11rfZSAJNDoAW6oyRIkSoDui5G/ktK0Uk2cihhQcAGfS20gA6BSthoe9oiPEkD3J8c9lHw50tHtMxCkEEBZCBQhg/O/4e4Eg0CBZdHGM2BgEJwhE2qJKza3AkmUABUxICkyQLVUs1pvr++SE7vnAABmF3qws9yHoZI81sbzaOMFfS2Z1HI3ljiAxdbH0QCifVMaQD0JAlR9WkrAZD63ggYAyPvepmStH1ZgtUiDqgLrrbfeiuuvvx7//d//jfvuuw+TJ0/GmWeeieOOOw5LlizB7NmzY8/bs2cPnnvuOTz77LN4+OGHsWbNGgghkMvlcMkll+ATn/hESxZj0TxURAloaQo99cpohuDLQM3KjVEF9oUeoFDvepLoAZXm/GQKAnlFh9Xx/WV4AQ7PwkEWPkQk6L9pkndYNowiQCkByaD7biYOkGKMpgREualxonuUHhC2EZoqkIUU8Bw4oclbCcXmyk1zEj1OM/kOeQwjIwwoMUzJ6y87nAkIEUQJUDQBAJ6iBAgRmvSpuFL2eGj+fnrva9hQrIwYMInNRxe6wCG/FyqubTTtaeX+1KYEOFJ2hEPSz9LIADQRAk/4cqfIGgDwNxMX4m8mLkLb9MnYXcpgZ7bfaBuNDKCQlI6VJggw6AG0PigbNAE6JqlPShBA7zaP8q8jv+VKGTle2RYAdvivVkQGaBYOpkgClhJgkQZVBdaTTz4ZJ598Mu677z786Ec/wrPPPos77rgDP/nJTwAA+XweEydORHd3N7LZLAYHB7F7924MDg6G35yEEOjq6sI555yDSy+9FNOmTWv9qiz2Gfabr4WFhYVFK2HfM82DdboKcPbZZ+Pss8/GunXrcPfdd+NPf/oT1q9fj5GREWzduhVbt26tOKe7uxvHHnsszjrrLLznPe9BoVBo+uQtWofRowSEA9TRpn56AKUEmD20mh5A+qiKaB+jQw9w/REAAr4oA+AQgkY4ZRBEi+oJj2gly+Dh46LSWYwxZejXc1E6TS9IVMrgAoRYoD39qeE+HVzSZ4ZECVCj0FkGDvNkfD3TsI2qEwJ7XaAUsCI8zpBzhKQGhIkDQCgO8StwmKZYvKVdhwTc6/sYEvJO3exuBSDQxvJo4zlIBzWGfOi0xkKNqYLUjJJ5i3hKgBdchsTIAD6DEyQUcEGjHkTvUK1nVZ+sLPeQYZ686oLDD0kliLSNmOqJCb9WZABab9AKEB+BIIkSYOxdzBwtJWBsYAVWizRIFSVg0aJFuOqqqwAAAwMDeO6557Bt2zbs2rULpVIJEyZMQE9PD+bOnYuFCxe2ZMIWowPGWPzDpOXUAKB59IC0lICEuTS85rTrqUYPiEsmENd3HD1AwxXDcL1hFL09yDudcCKUABp1gMMJyzRQFKuYi3FEn0uiBEhKgDbMVi5F6GIMfCIEyGDvsoOcyIKDIwsOzpQArH9GZ0e94JnhEU/NsPL/iA/sLMr66W1ABgyC+XAlPwGMzIkbf2mUiPl7SWEejijMBwD8rO8x9JX7AAAb2Q68Xh7A8ZkjkA0ygeUyQLaGDE+vPCe3KWMsPMADKkCGRaIBhLQPbS5nwX0WvQaGYBy09MHwi+3/hwc2yNTcF057L+YWZhiZr1RbwIwAQKME1IoMQMu0LnpeOFdmfnLCLyXkWUbXE0cJSMJoUQIoDnR6QPxzxCItBEZXwzpWd2LDYa26u7tx0kknNXMuFuMIvk0cYGFhYWHRQtj3jEUa2DisFrFI1LDWMuGMCj2g/jGqaSX2O3pAqq2vTg8QEHD9Ejy/FMyAkzStPOjBS/DeVwbwhLUzkjgAmhwgPdmV2Z72kI4SQHenDJ3cICvU8Cx2dj6hBERjdKr2ql4IaU5XqT4HyrLOd5hO38qoh328U5c0S8s2Ga7ikQJHFmaEbUcEUISPN/3tUB75ws2iG7lAO8rhhJpDFmiHzdvBT6AEKDO/mSBAUxmSEgck3dV6PQJHdR6CDW1TAQBvlt5EgWfQxgoo8ELQRxCLlzHTbJ9QThMlIIkGkERJqFW2lICxgdWwNg9jGW5qtGAFVotYJAqsZqMWzqD59ADVX3qaQNw+pKUKNIMeQOpi6QFRVHtx+sg4BWSctkh9xKwfCrGRCAA1KQFm4gAGDodECQARXGVVICgJ2puONBANv6Xqs8giAwcZ0rcT2R9DsAv+4oyH148DYYQB+pNzXd/mCDg8EI6CF4PPQJIImNxPVXYJJaDos7C8MDcH83NzAQC/HXwS/e4u9MPFXjEAADgxNwXtXD+e47Y7iRLAK+pZECUgmCsTui2hB0hxi1AmKocMBUohOI7pmI0Fh3UCAL636QHc378Gl05/D6bnOwAAgy6XSRREJGIATRxAkwHUiBhAKQGC7AmNbVDL9B9dm+Ld+gyxfVCMBSWA4kCkB1iB1SINrMBqEQtrqrGwsLCwaCXse6Z5sFECLA5a1KVhbXnkAKCZ9ADVX+0eW0kVaD09QHnsV4eA6w0HUQMABieIyarN8z7ziVc9NdvTsPtxE6hNCWC1aAVIpiTQ+1JRAgQEMkFsAAEGh9AhKkZgLDT1V/QdzEoA8DzAC+zOe1xZ5zMgx3XbDDfPU+PRsrqC1KRN6QELctNkG+ECKEEA2OwOQF3DPHNQ4I40rUM5SZFVMZMSYEQ9iIkSEBcZQHWkkh8kkTT0epSOVLZf1jUHALC5tB1tjnQc46KADFPRYTjU9U5KHKDN/AlRAsja6kkQkFSuXE99bWWlTP0wmc+xlIAmwGpYLdLACqwWsahLYDVPaN1kmkYPqOyv8SgCZj+N0QMoqq1NvlLjEwuYfdRHFZBwxTCGy9Ks2Z6dDs5kEH7dBydjJlEC4pMFVFALjGOE3xi2ZBVlJdZG6ym1II8cHHA4JAaBYeWu2IWgD8ZCc3+WadO/CkLvQ3rpM1I/5AKZrOaI8oDnCkjvdC00aXqAT8akAfNdIc8BgHUjr+MNtw8FZwIclgMATMtMwaSMpmvUogTQveIVEQEQ7nTYUgTtmdCiJ5kfoBMhUCiBUggOD4AffDF4a/fhOKF7McqeXj2lQBQ93bcPvd9C6LX5hBJAzf9+MHX6OEpKEJBk+ncRDxH5HS1TPFe6HwP+mwlHRxcHCj3ACqwWaWAFVotYWFONhYWFhUUrYd8zzYN1urI4aJFaw3oA0gPq1742Sg+I9LGPLRhqB3HQnYngV2DW9PYAEOAsEyYI0GZ7wDAQMx+IjUAQ2J9ZtNYnGj4eqTPr64EXUAUYGEkcoOfKwIwEARVggCt8OIFOVvVAzcOAgOdr6kDJkxrXYRcQQWPBdKzUJEqAPqpN1wKmKXxRYQYwAhQBlAOT88bSjvDsNpZFG88CkFphJ4YSQIYxogSocekaPWL09mjoBHOLqlyRSkqAWhtnAr7gEBBwGA811pkEGkA9iQMUVSAxcQDiKQHRPaiWRKAeSsAUPg8Q8plhaQDNgdWwWqSBFVgtYpFaYDVPbu5kDIx3eoBCWpqAOZf4tSXQAGpSBaqNJX+XvQGUvQF05Q6Dw3NVx0lPCeDhMd1Wj03PY8Z5Tmy9ExAAACAblKOUgKQXoVq1E4SKAoA8Z2G56PmBqRtgXAfVz3LA4QFnlem+QmFLIDShc+hylBKgQOkBi3KzsSg3G/8z+BS2ersAAK+6g9jkFQEAp7TNQjeLjxgQ0gBIPSO3jyrSKALyPNVAGKKnEnaVQBiFogR4kMKoF3xxcQPP/5u2PIBXRqTZ/BNT3oM5henyOFlvOUqNMPakshzSNAyagL7W9Gtn0t2fJE6moQRs91/BwChHBqgHcZE09hdYgbV5oDkLD1RYgdUiFvuUMm9caFvT99ccbavur3GtaxpNcmOvqaTUtSVvQI/CnIDXCminGTRFwxp/3GxjOl3xcFto1isX6iFWv4aVMQZXaMexkq81pYwBTASaSKHjsJZ8IAupBQ2FHGY6XamcYWomlGWoVqZ5ppXxR+flpsrUWADKANxAfNxU3hX2U2BZtDkZqDtSaVupG1yccObRBka91rCKSJO4uLJ6PRENa7CeYzvmhHVbS9tQ4FkICBRYAbkgPisYBxOOsXazXFvDWo8DFoXVsI5P2NSsFmmwTwLr888/j0cffRRbt27FyMgI/u3f/i08ViqVsGPHDjDGMGPGjCq9WIxHcM7heVHjYgPYL7WtFPuieY3vrzGKQLU1Niayxp2bc7qQddrDMdPEXk2nYY2P2ZqkYXUEjbOqjPlaw8qNvmtrbnJEw5ohqV59oXzgpQCltbBSw+pwc+dCrSkNIAsW/inngqBv3UIJZroMLMzPxML8TADA7/euxTZvEADwatnBa64Ujt7RNhNd0Ol0jdirRKuqj7Pw1gmnqiRytY6A+0aTEQjEC3gimLcvmKFhVWs4tvNwLO1cDAC4desDeGD3/wcA+OikMzEr3xXugyBrb0zDqqGoAdF6RNrE4UDQsCrsj45YnNdPBbKoDhvWKgF9fX248sor8eijjwKQ35IYY4bAKoTA3/3d36Gvrw933303jjjiiIYn+cMf/hDXXXcdFi9ejHvvvTesL5VKuPHGG/Hb3/4W27Ztw8yZM/H3f//3OP/8840X1iOPPILbbrsNL774Inbt2oWenh4sXboUl19+ORYuXGiM9a53vQubN2+umMMnP/lJ/PM//7NRNzAwgGuvvRYPPvggRkZGcMwxx+Cqq66KXevq1auxcuVKrF+/HpMmTcJHPvIRfPrTn0YmMz6V3Pabr4WFhYVFK2HfMwcXnn32Wdx8881Yu3Ytdu7cia6uLixevBiXXXYZjjvuuJrnp5aWhoeHceGFF2LdunWYMmUKTjnlFNx3330YGRkx2uXzeXz0ox/FypUrcf/99zcssG7fvh033XQT2tvbK45dccUVeOihh/CRj3wERx55JJ5++ml885vfxMDAAD73uc+F7V5++WW0t7fj/PPPR29vL3bs2IG7774b5557Ln7+859j0aJFRr9LlizBBRdcYNRF2/i+j0svvRTr1q3DxRdfjJ6eHvz0pz/F+eefj1/96leYNWtW2Pbhhx/GZZddhhNPPBFf+9rXsG7dOtx4443o7+/H1772tYb2pdVo2oNkzOgBVHeyb9zU8UEVaOR6pJmb7L/o7Q5rOMuCs2zQkyDm+Zh+GZAUn7UZlAAawzWYHQBNCRBghMWKxO1ikBrHsjDn6sS0pZSAog/kgn4VDQCchY5M5hi1QbmXytRNTdFzspPDtmUBeELm6HrdHQjPa2MOCo4MRcYRZPiqhx6QYPSmVIbqkXYr9ZGqR2rKfwuhB2wr70AhcBzLsTyyLB+crYkN45cSICAEMIXPtZSAJsMKrM3D/hAlYNOmTfA8D+eeey6mTJmCwcFB/Pa3v8V5552HH/7whzj55JOrnp9aYL3jjjuwbt06HH300bj11lvR3d2Nhx9+uEJgBYAzzjgDK1euxOOPP552mBDXX389jjrqKAghMDCg+XVPP/00fv/73+Pyyy8PhdOPfexj6OnpwQ9+8AOsWLECU6ZMAQBceOGFuPDCC41+zz33XJxyyin42c9+hq9//evGsenTp+P9739/1Xndf//9eOqpp3DjjTdi+fLlAICzzjoLZ555JlauXIlrrrkmbHvNNdfgyCOPxK233grHka/Gjo4O3HLLLTj//PMxZ86chvamlWgaJYBiVOkBjPzdrL4pxoIqkObh3oAgDaDo9aPo9QMAJuTmgtO88Ckcrcx4qpoO0CglIEMcrTgZU9X3ODnkuPxsDbhluDF7xaC/YGSYXo807Ve2p5SADNO7pBytKAvAEQzqfUHN82pcAIlxRFU9ncGC3FQsyE0FAPxh6CVs9/YCAF4pC2woS6rAO9pnoos5ZG3BeOQPVYwKn9RBg7IaFB2CgcXebUpgdH0W7Jvsxw0ETVcFTQVwdPvhOKpd0gNoCtYyicnqQo/ZKCUg+pVUrZU+vRqlBDxbvB+7RRB7dT8SrvYXeoClBBxcOPvss3H22WcbdR/72MewfPly/PjHP64psKa+W/7nf/4HjDF89atfRXd3d9W2CxYsQCaTwauvvpp2GADAM888g9/85je46qqrKo6tWbMGAPDe977XqD/77LNRKpWwevXqqn339vaiUCgYQjBFqVTC8PBw4vmrVq3C1KlTcfrppxt9nnXWWfj973+Pcllm4Fm/fj3Wr1+PFStWhMIqAHz84x+H7/t44IEHqs5zrGC/+VpYWFhYtBL2PWPR1taG3t7eRFmMIrWGdcOGDchkMjjmmGNqtuWco7OzE4ODg2mHgRACV199NT7wgQ/E0glKpRIAoFAoGPVtbTI7zNq1ayvOGRwcRLlcxvbt23Hbbbdhz549ePvb317R7tFHH8XSpUvheR4OO+wwfPKTn8SKFSuMNi+88AKWLFlS4dxx9NFH46677sJrr72G+fPnh/M46qijjHbTpk3D9OnTY+cJAMuWLYutp2uZPn069u7dW7Vdozj88EWj+zBpqvaVYc4cRcmIc15qPRrTvtY4J/UeJbfX+6NQea2zrAv5TFfQUxYOV/FZdcSAUCPK9F+qRMePD2ultbRhSCrBjL51vRMYjtUo8ggXMqRVnjnIc9ligvBDLajS3kV3xAHAmU5yGt2pSbMmIEP222GSCsChs0c5jEEpiBzob//U0YqWKYx5JcxVVb7VPRxbXfkMLUPAC7JUiUwbWEZSpfLMQT5IrcuZnG+oXWX6NxDJhAVdphm6aPvovAGgfeYEUysppBbTh3b+8AQLzZSeEPADra3va02tL7T20xMkbJYgbVQ7IYzzqLY11JQKQTSzeoa+oEZ7YZTof7UYVS54p6DPfx0AUBYjcIWMEyH/JdMA5syZnXhstDEeNazKqsgYa9k7LA1mzZqF1157baynsU8YbaerwcHBmnLKE088EVu/Z88elEol7Nq1C7/+9a+xbt06XHbZZTXHTC2w+r6PTCZTV/w0IQSGhoZCITINfv3rX2P9+vW48cYbY4/PnTsXgNS0Ui2r2qBt2yq9OS+44AI8//zzAID29nZ89rOfxYc+9CGjzaJFi7Bs2TLMmTMH/f39+PnPf46vf/3r2L17Ny699NKw3fbt23HiiSdWjDF16tRw/Pnz52P79u0AENITKKZMmRI7z/EAxjlEsykBxgCtpgdEjX1xYknzsG8xXBWqs2Wb21+cMdRE2d+NcklyWrtys0M+qzkrM5WqWVaglABUtOVQLEyznqZgdUigKEdoCoHibea5gyxTYar8WFGC8k05GRFAmCbVgXyJOkzyKFUKUeVBL6Atwz4AEaZmjaRBFZVjJkHN1U+4FK+729EfUAIyrA1OQAN43fWw2d0DADiuMBUdXF4fTqIA0LF198y4+jToPhVY476vqrZuSAXgxtxp9AOXXIRVu/6Cra6kmpzW+TZMy/bK9mRecTQAWqZ1SSb8pLu5UUpAv/869oo+XRHH77BoGJYScHDiy1/+MlatWgUAyGaz+OhHP4pPf/rTNc9LLbBOnz4dGzduxLZt20LhLAlr1qxBqVSq8MSvhT179uD666/HpZdemjjGqaeeipkzZ+Jb3/oW8vk8jjjiCDz99NP47ne/i0wmE8up/cY3voGBgQFs2rQJ99xzD0ZGRuC6LrJZ/SK++eabjXM+9KEP4eMf/zi+//3v42Mf+xi6uqTGaWRkBLlcZYB1VafGV7/j2ubz+UTaQdI3E4Vly5Zh69at6OjoqNquUfz1hb+2Nm3eKAWM/utfX1QDonUC674mHahvjFbs2V//ui75oNDXv6fAkHO6YmbVDA6rE4qPTFCBNRPyVqWQqgRWzWdVCQMmOjnkgpffoOvGclgdgPTNQmEUQPgFXGpeZTnLgO3rpZDlBAKpPI6wjpEyFVjDetS+bLUE1g17N2NbEB83xzrgBEkEHGTDfTusnYfaVs5ERbgrY04RDSuLKSd9WqLc0cFXpDCnHKTcCoFVll/ZsQGbSvLL+ZET5yAbPA5LlNtKym5M2fWFIdwiLIuaZZeUqcYx3HtaR9q+VHxFc1gp6hRY9fNn7DAeNawK69a91LJ3WBrs79pViFF2uhJAV1dXTTklCZdddhlWrFiBrVu34t5770WpVEK5XI6VkyhSC6wnn3wyNm7ciJ/97Gf4x3/8x8R2nufhu9/9LhhjOPXUU1ONcdNNNyGbzeKiiy5KbJPP5/GDH/wAn//850NVci6Xw7/8y7/g5ptvjo0qQGkM733ve0Py7xe/+MXEcRzHwQUXXIArrrgCTz31FE455RQAkoqgaAkUUaqC+h3XtlgsVlAaxgtaTgcYlegBxoA1ju/LmLVfCfsu0IraS0jVnTB/18CIuzMsx0YPqHrNqvucV4sSQCYcCKkMlWKTg2FfJR+VgqNKHEB17XIWIiyrA3TmqmchBFywWGcsDRa7KgFztckB+KO9xV/iOVn9pb0kVPpWQMALzdcbSzq6Qzt30MZlwgeH6eQCcS5z/ZAAACAASURBVJEDqs21Pghj7obHPtNC+JK2OeEZ290dyLMMBIAcKyDL1EuKQenMjYgArHqUALpvSeU0UQLouqY4cyE8+XdJDKNkRAZooQXqIIHlsB6cOPzww3H44YcDAM455xx8+MMfxlVXXYX/+I//qHpeaoH14osvxi9/+UvccsstmDFjBj784Q9XtHnmmWdw7bXX4oknnkB3dzfOO++8uvvftm0bbrvtNvzTP/0TduzQ+bSLxSLK5TJef/11dHV1YcKECVi4cCF+97vfYf369di9ezcWLFiAQqGAb33rW5g9uzqHqLu7GyeddBJ++9vfVhVYAalVBoDdu/VLIcmcr+qUZlhRAbZv316hLd6+fTuOPfbYqmOPFVoSJSAJo5aeT72aRlsgbtZ4TZVYU/VZyEwKNaxJWlWKRqMEGMkCIpQAWlYa1ok8j5zylA/uoxwEcsHQVEgp+x4RYLSGlZNzg47Ce9I3hFqWZGMHQ0JaU5a8w9Fdi7ZTxxfmpmNhTj6DVg+txWCQUCCDPHiw9lfcfrzqyoxYp3XMQlcQNooTgZIOFAp1rDY9IC6igSdk+KxyhBJAtaouWdDiwkIsLsjQgL/o+z3+356nAQDv7T4dh2SnyfZ0HjUoAVGhu1YZTAvsnqFtrWz7TOl+7Pa3oipY+GPc0wPGc8QASwloHvbXxAHZbBann346brrpJoyMjFRV4qUWWGfOnIlrr70WX/jCF/D1r38d1113XUia/uAHP4gtW7Zg9+7dEEIgl8vh+uuvR29vb93979y5E+VyGddddx2uu+66iuOnn366EcSfMWZQDh5++GH4vh/rTBXFyMhIXQ5hmzZtAgBjHYsXL8ZTTz0VJk1QeOaZZ9De3h7GYVUOY8899xyWLFkStnvzzTexdevWfUqo0ErYb74WFhYWFq2Efc9YAFIWE0Jg7969zRVYARlf9ac//Sm+9a1v4amnngrrX3jhhbC8dOlSfOUrX8HRRx+dqu9DDz001tHqe9/7HoaGhvDlL385MW7pyMgIbrjhBixYsMCI59XX11chNL/xxhv405/+ZAiRu3btQnd3t/Gtr1gs4tZbb0VHRweWLl0a1r/nPe/BqlWrsHr16jAOa19fH+6//36cfvrpIS924cKFmDdvHu666y585CMfCUNb3XnnneCc44wzzki1P6OFUX2QjCo9oJ51NX/M6vrX8f/NmFICHJaDE5hxVcj66kuonxIgW8YlCxDgUDFHtX5tWMjwcRwscMzSUFrCUKvKWMhPFJDB4Kn5mP5W3uZ+3Z8DFmtaV2byRq5wnMJkdkYnFCj6PkpE5yjAIASwgdIDmIM2nkWGIdRX0zlFkwyk0XfJ6UUoAQlme1p/eGFWSGrY6e5EPriXsiwX0gN0QgHWFEqAWWbhJzKOEjA1SBAAAEUxhDJGIEkANkFAs2EF1maBwR/V90hjY8XJYnv27MGqVaswY8YMTJo0qer5DecFPeaYY3DnnXdi06ZNWLNmDbZv3w7f9zF58mQsXboU8+bNa6jfrq6uUACkuO222+A4jnHs8ssvx/Tp07FgwQIMDg7iV7/6FbZu3Yrbb7/diHn60Y9+FIsXL8ZRRx2FiRMnYuPGjfjlL3+JYrGIL3zhC2G7hx56CDfffDPOPPNMzJw5E7t27cI999yDDRs24Bvf+IZBDj/zzDOxdOlSXHnllWGmqzvvvBO+7+Pyyy835n7llVfiM5/5DC655BKcffbZWLduHX7yk59gxYoVYbSD8YZRpQQojCo1oGJwtDKKQNKY+4OwCgDD7g4Mu5Ki01s4AlmuOOJJjlYUzaAEaEerCaxN0wBAhMzIqALRF6KmAfhCMxCVwCLHN1my4SeAUH594mjlh/PTwp5DaAA8IhTT3al2uyfdjfNJQoGHhv4a0gMc5MAZBxiwvtyHl8vSWWx552x0c5VVSjF+CbdX1M4SRaG20/UDSoDPzXqy3UkRA14svo4trnTWWtq2FD2ZnrCNOt0l+6bOpY5WdJ5GWCs618RydUrANv/VeEerJNALOc4FsPFGD7CUgIMLn//855HP53HsscdiypQp2LJlSyi3/fu//3vN8/c5kf1hhx2Gww47bF+7aQhHHXUU7rnnHtx1111oa2vDiSeeiJUrV1YIy+eeey4efPBB/PnPf8aePXvQ09ODt7/97fj0pz+NxYsXh+0WLVqEefPm4d5770VfXx9yuRyWLFmCL33pSzjttNOMPh3HwS233IJrrrkGt99+O4rFIo4++mh85zvfqeDPnnbaaVi5ciVWrlyJq6++Gr29vfjMZz6Dz372s63bnH2E/eZrYWFhYdFK2PfMwYVzzjkH9957L26//XYMDAygq6sLS5cuxTXXXIO3vvWtNc9nIuUds3LlSnR0dFT14Kf48Y9/jIGBgTB9qkVzsGzZMsyaNQu/+tWvWtK/w/Pj72GSQgO7eLH0QEwXVqaWD3crUH+/zdTGLl4sHWBUWKs02pb2zFS0BabpKD2Ax9IDVKD/eA0rI05UTJAyqaehrNqQRQGScuMEVACGiONUDEKtIrTJX89Q/+aM4ZBF0jT15ktSE8iDenkcwdp1CCwVrN8sm+0ZIhEDamlYE44rf5+XS9vwWqCpLPoeSkFwJvlfqnkX5HowNzcB7TyDQpD4IQMZZ5YFM9ShrHS4q1qYMG8SBIBdr0iqSBibNtTYsgrHKWXOf274ZawryjBCh2ZmYEZ2mowYgLymBAhNCfCFSiqgDfJm37o+mjiAalDNemHU+ySE2xvui9jmvSL3NS0lINiIxp4/o4ux1LCq/XnxxXXw/coIOqMNFQC/0TBNY4lly5ahPDiEb3e/ZdTG/NLA08h2tY/6fqXWsK5cuRKTJ0+uW2D9r//6L2zZssUKrPsZGGNjK7COGj2AYrxQBeLQ6v2o/1oPuW9iyJUm08mFo0J6QFxkAFpf67isjacEdKMdOahMW5WhqOq5SpSPWvmy1merjE1RE7k2p+sIAmYvlTPgMCkBPmnChK5nLJneEBVeVXFhbioW5RU9YB32eHvCFir72Lrydqwrb8cZnfPDyAGqf0WFYKRnj86J7EcUbiCYln3KZAU8EiWAnkfN/QvzC7AwvwAA8Lvdf8Tjw88BAJZ3nIppGUm7ohED1JxMGoDeITP4WT3lSkrA06X7satWZIB6EEr/zNID6pnDmDznLfZX7DMlwOLAREuTBlhYWFhYHPSw75nmYVQTB4wRWi6w9vf3j9vg+BbJGHMN66gnFkhCrT0YPUexZl4NbRLdt16H3O1h2WE5ZAItno4ekLQ/8T7pPjwjSoBKyToCbTZUNAA5DsE+LMXYByFNyz40xy5J46oTyib1C0JwaB1mZXrD9Q+LMopC5vryg5W9WuoP59nGMmjjlFKhNd1pENdaKhZND3zA9PCXXvoSC/KzwnP7vD5kWRYCIqAHKI2wJFMYUQcSytH51RslYCqfG867JIZQspEBRgVWw2qRBi0TWAcHB3H33XdjeHjYcGyy2D8w5gJrEg4aqkC98xjbPik9YErhaHCuImnsOyVggt+JLHlE6Tas4j6QJm5R0TZJIE8SQeRVVRxHFisUqR7roQdQSoCuDcqK81p5mtGu4nzSRvWxMDcZi3KSV7x6aB32eMXwDAaGOdleTHU6gxphOrYHv6lXfxLUI0FRAVzfNP/TR0ZlxIDK8rzcPMzLSSfZVYN/xJqRZwEA72w/FVMDeoCmBBB+KplTUpnum5dAB1Glbf4G7Bbqy1eTBFSSgGK80wPGClZgbR7218QBaVBTYF25cmVFXNSdO3fWHfCeMYb3ve99jc3OYsxgTTUWFhYWFq2Efc9YpEFdGlaqaUujeZs6dSrOPfdcXHzxxY3NzmLMMG41rJYqMG4x5OpUxQ7LwwnTgwYe/ozqEgklwIiv6YUJAkZYUWaSAwsitWoDPBeaElBhamfUAFwNlW2UoTgkTMRQAmigfXpeHD2A1gOaHhB1GmuELpB03qxMb7iyYV/SAzYGlABAUgLag4gBnDFD1524JwnaV5H4R/rg/nNyhwVe/gL9Xh9yKqEAcsggF7Tj4c847XfSlU+MMRtEEpCUALkISQkYBiDvR0sJaB2shrV5OBju0poC6wUXXIAPfvCDAKTgunz5cvT29uIXv/hF4jmcc3R2dqKrq6t5M7UYVYxbgZVizB92cZ7mYz2nscNedwv2ulsq6qcXjkfB6UmkBNBoAJ1+BzIJNABt5tde4gyAICGaFGrduX5Ci6iXPm3nC8CJoSLINRChSUTrtQ0/5HSSsZQwxSJ1cfQAamWm49OGC3OTsSgv6QG/3yvpAS+UtuKFkvSCP6PjcHTxQtiBihiQGJg/ZqtKvvk7bj70PKPvhPoNpdex3Zdhuo50jkY3n2i0oWZ947okjE+R9DJ/qnQ/dvnVkgQ0kR4AjFtqwFhFDLACq0Ua1BRYu7q6DMHzhBNOQE9PD2bOnNnSiVmMLaypxsLCwsKilbDvGYs0SO10dcQRR4AxhjfeeAOHHHJIK+ZkMQ6wX2hYx9386p3P/qhVaHyv97hSs+ewPIki4ISmfw8Izf1FVoQQCDWmnOgiEz3ym3gbaCqA+tvsnGoH4839yWUBQCWM1uZ8FmvaTzL310MfoG1mZ2Te7r1+ESN+GQLAxlJ/qFFrY9kgoQALqRdK3xZnto+iKkMnoY9qlAAVDKLf60MWGQjIhAIZlgPI3IwIBGicEjCNz4MQAiUxnBAZoF56iUUjsBrW5sE6XcXgjjvugOM4+OIXv9iK+ViME+wXAivFuHnwHajc1n0RWDdjj7u5rraH55ajLUxEYHr7KxHCATVf0t/Nu1/9wP9fBaXX5notzDqMGeMr0z+DKUCF8xa6DWeVHMw4oVUdp/QAKuzFRQygd9iC3GQszE/G7/euw15RBgC8UH4DL5Tl9Xh3+xJ0BPQAV+j10kD/cVARALxIoyQqQT1UgdmZeZidkRED/jj0MJ4tyYQCJ+X/BpOdKWFbSV9oDiXgTf8V7BbbEo4CJlGjCdpAg8+xHz1fWwQrsFqkQWqBtbe3F6VSCZy3MqqgxVhjvxJWgcqHf6giE+NImAWaJ1Q1uiaR8Ht8oM/bEAqpWbQhxwqh7k+lfZUaWYlWXdkwTm3kvqrH6Qp1lOO0rT7iY7VGx2xE86o0rQCw13cw5MuwV6+Vd4b7nWdZ5FkWQeArKK1r9A4RAqEWvF4Na1J9UnlW5rCw/W6/HxmWQRZ5ZBGkbjW0rSy2D4qKGLpCMnenBfFXkzWs9azIolHsd++ZcQybOCAGxx13HB588EFs2bIFM2bMaMWcLMYBOOfwPK92w/GOcSWsKuzrQ3pf1jS+BdYeZxY6HOkwxIR2tDI9702Drf7f3GtNnbtk7FdZ75MWobaV1DPGYrWtqk8gXtsa9XxXiJq/w/o6HLDU4QW5yVgQxGl9cO9fMRjY3l8ovYG1pdcBAO9sOwZTnTYAQNEjjmekYycY11VOV0KPE/2oGRrWOhy6qLb1sMw8HBZoW//f8CNYW16Lt+XegUlOe9CWOsPpsqHJTSivKa4KHa3SRQA4OLSto+mAZRVfFmmQ+m65+OKL4TgOvvOd77RiPhbjBPabr4WFhYVFK2HfM82DCCwjo/F/rJBaw7p06VJcc801+OpXv4rzzjsPF154IY499lj09vZaPsoBhAPmQTJu4rY2EwfItYlBn7cxLGfRjhxrCykBTkAJGA1EU9f6AHgMX1N94/eYebweGgBIPY+0pfQAY5yE/tJgTlbTA/b4Dob9IgQENgf0AJkaNReY3zU1IJyLINzdBm7F+pyxtG5vZuZQCFdgt9+PLJOvrAyyyAT0AKr5rE4PkDFepzlzwudbMYi5mj7eqqUHNAMHzHvGYlTQUJQAhSeffBJPPvlkzXMYY1i7dm3aoSzGEAcMJYBivxVQ43BgPuh3eC9jh/cyAGBR7l0ocBlSjwlTEFGIc7qqhx6QFIeVHjdFEpOGAEjnryAzqempLkQsPcCgDZCyIwLtCHHEooIoI5boqKMVpQpQpyujHFnb/NxUzM9NBQA8sOcZDGAIAPBC6WWsLb0EAHhr9gRM4pIeQE31OS4pDGUhx1TOV3HjUNTjgEVlFzrmZncT+vydWJBZjC4+oeI8L4ESQMtrivejv2q8VYRfEeoTXA8OekCrYSkBzYPlsMagkW9E9lvU/gchbHw8CwsLC4vWwcoGFmmQWmBdvXp1K+ZhMc5wQD5HDkh6wIGLsaMHCKK5Tb5nPGgaADXPU7M9UpQVNaDSUYvFnldP9IBYkH2bk50algeZgyFvCALANm8boQfkkUMQP9dnyHAHQgh40A5PLBw/3UWpx6t/ZuYwwEVICRCQ6VprRwyQV09AYFpmLoSraADDKInh4FhcRIC05n5LD2gUVmC1SIPUAqvNcHVw4ICkBMTBCqrjFvXQAwApkJgxW5vj3SxQSTkwY8CasWFj6QGRPmj0AEHm60MJvCwcN44eoOdSGTFATa1i5VVu8fm56Zifmw4AWLXnSQwwSQ94xV2Pl911AIDD+QnoZpL3OjGTBROSCiApAaxizbWQJKPQ8+mT51BnDg515uCx4iN40ZXUsuNzJ6M3iNeLhIgBjxcfiKcB1LAe6dQEY0QPGEegcZBbAUsJaB7iUigfaLB3i0UsfEsJsLCwsLBoIayG1SINUmtYo9i5cyeef/559PX1AZCJBZYsWYJJkybt8+QsxhDC/Fbd7BiX4waWJrBfIJkewMBYI77y1RGNEqCQlLQgiR4QFw0gLjarTkBr1kXHUfQAhuZEDKAa4Dm5aRAlueK9yGDIHwIgsFts059/rw1daENJuHDA4Qk/NMNH11AfPYC6y+lCXPSAQxydTGDA6w9Tt2aRJfQAPe6MMBqAkDQAjABAEBGgVdYjSw9IAyuwNg9jGW5qtNCwwPrEE0/ghhtuwBNPPBF7fNmyZfj85z+P448/vuHJWYwdGGdo2TN9f4AVVscVkugBQCBUNtlDNgyaH4k8EJe0ADBN4pQeECd4idh6RQXQyQTiPP2j9bUiBqi10MgBScH6Xyv3oc+XQl3RH9JCndOOkeDcSawAjiwYMiFnVa1JZb9KE96wrugBwZGZzmzMdGYDAP5cfATrPJm69bjsO9AT0AP+MpJAA6BfERgQivpNtySpq5WGJBHt4uCJGGApARZp0NDdcuedd+KCCy7AE088ASEEOOeYNGkSJk2aBMeRhPzHH38cn/jEJ/Czn/2s2XO2GAXYb74WFhYWFq2Efc80BwIyrNVo/R+rq5Zaw7p27VpcffXV8H0fxx9/PD772c/ihBNOQC4nTTKlUgl/+ctf8P3vfx9r1qzB1VdfjWOOOQZHHnlk0ydv0TpEHyTVSPcHJF2gngep1cKOCQx6AGtDlrWBgYOHLlHNuC7xlIAkVAT3jzktDSUgeVbM6GNfIwZQzezsDIkYAIYhfy8EgBF/NxiX2uV+MPjowogoIsscuIGGkgGGQ9q+Qs5LxNRJzHAODdXDA34fMgE9oIdPhSvKAARKogg3SEGbTAOoZcK3Jv5WwgqsFmmQWmD9z//8T/i+j7POOgvXX399hUo/l8vhHe94B0466SRcccUVWLVqFX70ox/h2muvbdqkLVoPxljsw+SAFE4t9itQesCC3LuQ413hXRlhRDYMwYT5O/jJhP4E8Ai71A/rzSgBSkxyiPk8iSpAuZwhJy0moYCASQ+IJg6gUzP3Jjm4/uzMdMzKyIgBDw09gcEgocAu7w30e68DAKZnT0KBFZBFDhmYzwPf8K9PjzgaAK2nQv4W73X0i50AgO2l1xFnfq/08KcifQAVXiGBGpA+YkCTMU7oAfQ6NzNigM2O2TwcDLJ/akrA448/DsYYrrrqqqr8E845vvzlL4Mxhr/85S/7NEmL0Yfv2ygBFhYWFhatg33PWKRBag1rX18furu7MXXq1Jptp02bhu7u7jCCgMX+gyQNa61v1weVBrbWV1qrPWg5+gN6QI61IcsKkAk2mTacN3gJkqIEUCSZ3uuhB5hj1aYEVI5jtk5DK4hqX0NnLaa1mbMz0wAICAEMBREDBAR2+FvBwNHlZ5BnOZREOdhtmc6hFS40ao56rgLTnZmAJ6/OCB/ESBDRwDNM/0nm/Lj6ekz/jSQUsKgGq2G1SIPUAmtnZycGBwcxNDSE9vb2qm2HhoawZ88edHd3NzxBi7FBksBqtLEPZIsxxk7vZez0XsaC3LuQNyIH1I84U6+KDuAT4z4DA5jp1l4rYkC0TAPFaUGR2PYVC5e49dPDVCiNZr8Ke6DdoVJsSvLG94U+ttnrxy5RBACURAkiMJ1P5Yegh/eim08AB5DBsF4/i9Aa0HjgeWNeat7kebTZfRX9/nYAAGdZMEe+yoTnRsaOM+fTqxXUG5kXmkUPUNEC6CosKKzA2jz4B8H7OPUX4iOPPBKe5+H222+v2fbHP/4xPM/DkiVLGpqcxdjBmmosLCwsLFoJ+56xSIPUGtYVK1bg0UcfxQ033IChoSH8wz/8A7q6uow227Ztw6233orbb78djDGsWLGiaRO2GB3Uo2E96CIHpEVaFrzVNjQMRQ1gADKsDVmWh9KK7gs9oBEnriSPfa9KV+lN6azivLqTCCRRAqD1gIdlpgKBsnIPuEwiIAR2+DKJQIefQZ7lURZuoEeUcRrMLa7PhF5PC/lR0ldjhjMrOCRQRAmucCEg4LAsPFEmPUdd26IYTXrAQeAVkxJWw9o8iCbHoh6PSC2wnnHGGXj/+9+Pe++9F7fccgt+9KMfYfHixZg2bRqKxSK2bNmCDRs2wHVdCCHwwQ9+EO9+97tbMXeLFqIegdVobwVUizFEj3MYOp3JVVqY97JfQ3iIclgZEZbCL2qMhfe9I7hxNk0iYIxLPPkpnaCaBz8N1UUt19T0TyMDRCMQVPtoGvQA8vdMPh2H5GTEgD8Vn8IQKwIM2OS9itf89Rj05uGIzDFwWIbMrlIka1REo3q3vxT/F/3+jkQzvBA6XBWDA4fnAQCeXwxnUJseEBM5AGgyPSAyTlocgBEDrMBqkQYNZbr69re/jfnz5+OWW27Bnj178Mwzz1S06ezsxKc+9Slccskl+zxJi9GHNdVYWFhYWLQS9j3TPPhWwxoPxhguvfRSnHfeefjTn/6E559/PowE0NvbiyVLluDkk09GW1tbUydrMXpIq2G19IAmYLS0JgegVqPfey0sZ1ghiBigYgakowSI4J8q1wMPPniYrJRSAjQpQEBGDEirZ6udIZkZUQIaTRxgpJdlOm3rTGdquA9DQtIDMsii39+JoUDgyCOPHMuBB/9k5ynvs4pkJfLnDH4ohBAoimGUUIRMj+tDxOioBfxwQQycXD/TFax+GoA15bcSVsNqkQYNCawK7e3tWL58OZYvX96s+ViME6QVWBP7scKqxShgp/cKdnqvVNTPy52KTqcyBJ8Pv7qpvGriAGWkF6S9jijgCG6ISYp+4ECzKhkYqEIkKlZFQ/ALo6zaaFCTvElO0MeVbGAG6NeglABB2m/xd2KXkEkEyihCcAbBGSbxyShwNzw3rs80oOc9UXoUu4LEAOFx5huNWSgY01b6+gi4ukyeZfHm/JjIAUBd9ACLxmEF1ubhYPhatU8Cq8WBi2alzLOa13EIIbQ26wDX6u4yNK9toeZVCzaV8xKgern0+0O1rdQBygMVJn1AJOtBa2tVaRtWIajy8Ej9UBpWATMm60wi8O8VDobFEBxk0O/3Y8iXs8gihyzLkRi45ti1djG6zzTOakmMoIQiPLBAwDSjskZZwLqnaM6xfXW6aoYW1mpsKWxqVos0sAKrRSw45/C8el6b9cMKqBajjT7vVfR5rwIA5uZPQY53AEBgUo5GDaWIpwQIZmrqQm0r0bxyxg1ta3zKVhZqXnV8VmaMVssBi9bTNK1RB6z/n71zj5KiOtf+U91zBUYuwjhcAiOCw2VQjANCjIJC5KIehWBGiQiKjCJgJMuguEKW6xAPCcJS15kJAjHnDASQJICC50QNqANJiNFgZo4K4vDFAMGBQXAuwNy66vuju6p3dVd1d/VUd1d3Pz/XSM2uXbt27a6pevvdz35ftdzoSkWfofjXLsZk7ScVoK8vZetB+W9oxkXIAHq6eyHL1a5rRzRAzEZWPOffO/6KBuV8UB1F8IBriQAUxf8lQ5Kh93yKHlPfaEou+E33Dq1cUcL5g0PfE4FYW4Bl4sm1SooswAqVLZOQQMIarMuXL+/0SSRJwn/8x390uh0SP/jNlxBCSCzhe8Y+uOgKwK5du6LWM6rH0WBNPmLxIKE8II0JdT/FSS7wdccJbdst5SBDylY74F2cJaleMuuLrkRkQRJgJg8QF2MZxWc1m9uwewGW2cS6KAnQL8C6AvAouEzqhovKRTQrLd46yEQGMiBqSA29b/p/kC8VAIpv6h+taEebT/crITjFqllvzbbFTTN5ABdgJRIarMQKYQ3WO+64IyphdH19Pf7yl79E1SmSeGIhCRChgUrirWs97/kHzvvkAYOyvx0kDxCNU8sGa4BgU5UEmMkDJEjCOSTIkj56gLpAS61rtADLaNGV95zen6A66gy6yaIr3QIsQRIgCw3VyV+hARdxAS3o7+oGyZUJAOjQJNH+VsQJ7xrP39GIBgSiKIGL31T9qwLJ93qS1QwG8Pg7IsgAzOQBsuKXAQAuSJL6uhPKffXDpm4FuAArBlASYB/pcEeGNVjXrFljqcHz589jw4YN2Lt3r+ZhHTFiRNQdJImB33wJIYTEEr5niBVsW3TV3NyM//qv/0JlZSUuXLgARVEwZMgQPP7447jtttvsOg2JE7F+kFAeQBIpE2joOKltG8kD/HQul4+ZPCAogWtAxIAO+OUDZiNhPP8hBf3WWUmAuN3X3QeKR0Ge1BUXlQtoUloAKMhAJtzI1EJ2Bfa5j5SvNd6KVrSjHf4lUka+IX9vvPFUZZj31njbfxwAKMLtZlTfrsgAjBhgXnvBegAAIABJREFUBRqs9sHUrBHQ0tKCTZs24ZVXXkFjYyMURcHAgQOxePFi3HnnnYyzlqTEWhJgBA3VNCbOz4mvPV/ga88XAIBvZI9HpktMchKZhlUvIhC0m7qUrW5DeYBLcQtHq/IAf2zWwNEwjx7gi0wgHBNkjknmRm9EkgBh+0tPPc4rjeitXMDX8tc42u6VWIx2fxM9XDm6EfnYUy3IAFy6d4H6pUD8vywarmJnJG99vzQAMJMHKGIdyX8eb/pWnchBdyLzlf7RRQwQJR/m2BwxIAmNP0oCiBWiNljb29vx6quvYv369fjqq6+gKAr69u2Lxx57DDNnzoTb7Q7fCHEs/OZLCCEklvA9Yx+MEmCALMvYsWMH1q1bhy+//BKKoqB379545JFHUFpaiqysrFj0k8SZRDxIwnkk6IFNYRIoD2js+Je27ZaykSHlQFa8WZIURbEWfT8ADzxClAAFbt9Ev0eXRkCNH+CXBliVBKj1Ve+qf+mSv51wRCIJ6OfuA3iAy6RuaFFafJEBgHq5HoA3gUAWvO+Ay6XLtedIO9rRrnT4rtYbgVb1KoteTkXvG9Zt66f4I5EBRBFVIKL9ocqJFWiwEitYMlj37NmD8vJyHD9+HIqioHv37nj44YcxZ84c5OTkhG+AJA2JkASYQUM1DUigdKjBcxwNWkYs7zRtRmsR8rNGQnFF9kIV8gnozRhJTNnqlwdIkltLHCApLsjwBsUXkwmoZpcs3P/+JAPexgNTtgYaqDqzymCIxTStHpNtURLQV+qLgoy+uMLdC58oR+DxpUv9EqdQJ38J/dS/ZCIJcwXEPVD7Lwvb/mePx2foilP8ojxAUYxlAPpIAsJ5FL+cQPJFGDBPJsCIAZESTRIBSgKIFSIyWPfu3YuXXnoJtbW1UBQF3bp1w7x58zBv3jx069Yt1n0kCYDffAkhhMQSvmfsIx1GMqzB+t3vfheffvopFEVBbm4u7r//fjz88MPo3r17PPpHEoSTHiSBS1tICuKAxAJeFO3fC556XPS0AgAytEgCQhQBi90S5QFeArfVyXxJl0zAI0QUEKf+xfkPs4gBaouR+LGsRAyQAPR2XY6eUncoANqUNrSj3euDVNQFayYngdnfcbhpfuOpf0lyCR5SqzIAoygBsYwMYEZ6Sgyc9J4hzieswfrJJ594V71KEkaNGoVTp07h3//93y2faO3atVF1kCSGaLObEdJpEhpZRNJ+LnjO4F8tnwEA+uWMQYYvkoDRdKci6b9UqQaZSxEm6AV5gEsREgdIitcoVdR0AQpccEP2DYPbZ3iqjSiCNtUoYgAQbHpFstbdLEqAkTxAAXBW/grnFW8UABfckCSXdvXeMlES4DI0UsWpf9lkCl/Vr4odVNQyeKUE2nkUcbV/h66N0NuBX4rtiRgg9jE0NkUMSDIYRcgeFEhxXXSlGPwtx4OIJAGq4fLBBx/ofo8USZJosCYZspw+D01CCCHxh+8ZYoWwBuuMGTPi0Q/iMJzqYe3evTtGj74Wf/3rB7h06VKiu0NiQULlAYEeN++/TR2nAHijCLgl7yp4Ca6w8gBZJwOQoE7Oe3QLjBS4fAuRdFP/in+tvxuq99JPJJEExIgB4WQBZjIA1ResQIEk+T8enSQAHWhHhy+qgmLwEYqJEsROh48SEFYSYBIZwFrEgEim+xkxwG7oYbWPdDD9wxqsq1atikc/iMNwqsF67ehr8O57e3HLxMmoqtqf6O6QWOAQSYD/d6Cp419oEsJfAUDfnOuR6+4Z1IIiGmY6GYAwiS9Biwjg9skDxKl7Bf79Cly+FryGoPpickESIgn4cUn+KTtREiCabuoQi1ECxD93UQbwp9a/4qx8XjirhKvbCwEA53zlbikLLskrC5AkyTdsogzAKP9VwFS55NHqiPIACTIkSPAIRqGaI0u9IH+CALE9sTy0PEASVv0nbcQA8e/Ggc9uI2iwEivYlpqVpBacqiGEEBJL+J6xCSVxutJ4QoOVGOJUD6vKfbPv1bb37z/g88h4YSSBJMeBkgChA9pWc0edtu2WsjSpgAtuAO6gvoryAG/aAH/iAJeaOEDXDyN5gOSTB+hlALokAjLgVkORIjD+QOCRxogygAEZfaF0eLdblTa0Ku1wwSV4gBXIPg+md5mReiYDGUDI0xvLA9SpfQlubZGWqQzAJGJAZPIA9daLRcQAygaMoIeVWIEGKzHE6QZrWdnDKCt7GADQo0dvNDQ0hDmCJCVxeaGJU71iGQzK/TR1nEJzx5dB5QU51/mkAvppfpfk9k/nK1JAEgHvtLeWOEBxBUQG8CJKBcRyNXqAVse3YliS9ApNdVsy+NMWzeWqS+/jrHxOa1s1LCRfNADvhLxHMyA9Sgc8Siuy3ZfBJWX6jwtrHBvvFxMD+Kf2ZX1kAG0KPyBWgmRULqh4dTPn3iQCesmAiLXIAKEiBng/I3oURWiwEivQYCWGcKqGEEJILOF7xj7SYSRpsBJDnOZhzc3NxdixYzBbkAKo5Ofn6zysiraEJThmJuUCSUZc5AFG5xB9muZr8I2ONJMKKJDhEh65xvIAaGUQ9vu3JcAnD2iHjAzhuFAPc7/AQE2M6r+C4N8UfCOjL9Dhvb4WpQ2taNOu1/tcCHw9eo/rkFvhd2S6fFIHsY74j/nnZzSFbxYZwCsVUBdhRRslQEyGG3xdnS+3QvrIB1wSU7OSyKHBSgxxmsE6duwYvPfePsN9/fr1xeeffx62DRqrSYiDJQFmU97NHV8KUgHJ8Br6Z1+PXHcvAH55gCRJ8AhqVM2kUvQGlqbtVCR0qBICSfIfGfRnK8Et+Ys9wlW9d/FPOCt/5fvNJUzR+q9NEpIC+OUBLriRgUxXFwBAu+ciFCjIcGXDbUkSYIwuCoD25VM22fbojtS3EVxuHCUAUC1tJUgPr0otok8iYA2TaARJRLjPXbu3KAmwDSWOiQMS9SqlwUoMcYKxqnpVARh6VlVmByzAMuu7sT/MC41Zh5KEHlYVSfWUGVRqErSvGchBppQDBW64DR7JYrxVcflUB2S4Fa+/tF2WkeEy9laJsU0V3/9dvu1vZPQHfAuqgjypUOOpikaTBHUZlwxZM+5cUgZkpQMeuU3wsLoDPMfBHlazEYy/h9XqQisurrIDJ7xnSPJAg5UY4nK54PEYZyiPF6G8qiJlZQtQVrYAgPUFWDRUHU4SeliD2jG4hkbPl2j01AXVVdsblDUWXd2XA1DjrfqMs6D0rYpWx6OIMUW9HGypwnn5LMSFU/p+B6RPDagj+RY8SdrUrVrfO+GvlnvkdijwINOVK0zzitdtNlaiR1T0Lgd7M808rF5j1nhRk3+RVrg0rcb90PfbQkxWyQXGZA2Py+RLFrGOHM+POUGvzaS4WzZu3IiioiLcdddduvK2tja88MILuPXWW1FcXIwpU6Zg06ZNQd/aDhw4gIcffhg33XQTRo0ahZtvvhmPP/540DTy+fPn8ctf/hKzZ8/GuHHjUFJSgtLSUvz+978P6tPOnTtRVFRk+NPa2hpUf9++fZgxYwZGjRqFiRMnory8HB0dZitTEw+/+RJCCIklfM8QKzjew1pfX49169ahS5cuQfuWLl2Kd955B7NmzcKIESNQXV2N5557Do2NjVi8eLFW79ixY+jSpQvmzJmDXr164ezZs9ixYwfuuece/OY3v8HVV18NAPj73/+OF198ETfffDMWLlyIjIwMvPXWW3jiiSfw//7f/8OiRYsM+9C3b19dWWZmpu73qqoqLFq0COPGjcOKFStw9OhRVFRU4Pz581ixYoUdw2Q7iXyQTJhwM4DQMgAzAhdghYMyAYeTtJIALehS6BnigKbVqg2eU1pZNnKRJeUCAGRkIEN7bCvIEDyuGVrEVX+s1itcA6AoCryT/d7pfi0slhLYf5O4qRFLAhR45HZvqi0ELrpSjwu+Zn3bwXFYw0kCIpEBhJcHmNUNLfsIbi+wPNK66QkNVvtIh5F0vMG6du1aFBcXQ1EUNDY2auXV1dXYu3cvlixZohmn9913H3r27In169ejtLQUffr0AQDMmzcP8+bN07V7zz334Oabb8arr76Kn/zkJwCAIUOG4K233kL//v21erNnz8a8efOwYcMGzJ8/Hzk5Obp2JkyYgOHDh4e8htWrV2PEiBF45ZVX4HZ7H+Bdu3bFhg0bMGfOHBQWFkY1NrEkUZIAt9sdkQzAjEgXYIWDxqpDcJwkIHoZQCTnVNv+2vMvNMingo7SH+cyWbRiNOVvUKZN90cgFTBoTycJ8LRBQQeyXF3gljIMjgPCv1LFaXlhW/H4SmRhf/CirFDl6rV62zOSB/jHVRLqehMiRN7vcOXmi7jSE0oCiBUcfbfU1NRg9+7dWL58edC+Q4cOAQBuv/12Xfn06dPR1taGfftCGz29evVCTk6Ozgj+xje+oTNWAa8ebPLkyWhpacG//vWvwGYAAM3Nzabx5Gpra1FbW4vS0lLNWAW8hrAsy3j77bdD9jNR8JsvIYSQWML3DLGCYz2siqJg5cqVuPvuuw09mG1tbQAQ5PHMzfVOnX366adBxzQ1NaG9vR319fWorKxEc3Mzxo8fH7YvZ8+eBQD07NkzaN/s2bNx8eJFZGdnY+LEiXj66afRr18/bb/aj+LiYt1xV1xxBQoKCgz7CQAlJSUh+9TU1ISCggJcuHAhbP+joajo6oQ8TLKzczp1TQ8//CAGDOiP/Px8HD58xMae+UkF72th4aBEd6Hz2Op91bdVWDjQtxVKEmDWkpH3VDiPJGyb9sPMkxt4vJHPQTxS0vqjKxW8qhBiYRp7WIM9rwMHFej6Lyvt8Cjtvrizmb6aLkiSGIc14BIDUbT/QcwRpiiKT8ggCz5LWfNQep9Tal3Z751VxEVaMKyj98jqOqLVDR9aKvg5WVg4MOxip0jEBhDGIWocaBSqzx9JkmL2DrPCwIEDcfz48UR3o1PI8QxrlSAca7C+9tprqK2tRUVFheH+K6+8EoDX0yp6WT/88EMAwJkzZ4KOmTt3Lj755BMAQJcuXfDYY49h5syZIfvx9ddf47e//S3Gjh2LXr16aeW5ubmYOXMmbrjhBnTt2hXV1dWorKxEdXU1du3apdWtr68HAE2eINKnTx/DfjqBREkCMjM7d0vOmDEDM2bMQEtLC+bOfdCmXvlJBWM1qXCcJCCSe8BMEmBuxAa3GdiG0fS8Wb8Cjc3A9lwmw2omCdCXqz+aRheAR2mHAhmS5NZFFDDMAWuCfso/eNV+sCTA/5v+OANJQIDRJwnjKZ4jEEmoY9bX2GISjSBFkCgJIBZwpMHa3NyMtWvXoqysDPn5+YZ1JkyYgP79+2PVqlXIzs7G8OHDUV1djRdeeAEZGRloaWkJOubZZ59FY2MjTpw4gV27dqGlpQUdHR1Bi6RUZFnGk08+iaamJvz4xz/W7Zs2bRqmTZum/f6d73wHY8aMQVlZGSorK7F06VIA0PqRlZUV1H52djYuXbpkeG7V8DajpKQEdXV16Nq1a8h60XL48JGEpM3r3r27bdf0j398gSNHPrOlLZVUM1jtHh/bSZjB6iV4fDqjYTU7j7HBqvOCRqVbFcvNwldF0oaRhtXbo9qjXq9Um+cCFHiQ5b5M8LBKJucxRlaMDVKvhhXwCNpTXQgs4ThRc6qYthdcrp7D14phXRG9wWrynFRkHDly1HhfUBuREOXz2IEeVpWjRz+P2TvMCsnuXQVS8etMMI40WNetW4fMzEw8+KC5hyw7Oxvr16/HE088oa3ez8rKwo9+9CO8/PLLhlEFrrnmGm379ttvx/Tp0wEATz31lOE5Vq5ciT/+8Y9Ys2YNioqKwvZ7woQJGDx4MA4ePKgZrKpkQZUwiLS2tgZJGpxCorRFZl9QoiEW18CoAnHGcVECwk/kSmZN6iqE74FxodlKfgR2MwRW2zCq703jqv6NqVECZLlNUxiYJg6ICHE1vXc7kkQA1pIFiNuR1A3dP+M6JBTUsBIrOM5gPXPmDCorK/GDH/xA044CXuOuvb0dJ0+eRF5eHrp3746hQ4fijTfeQG1tLRoaGjBkyBDk5ORg1apVGDQotEbvsssuw7e+9S3s2bPH0GAtLy/H1q1bsWzZMtxxxx0R979v3766xVmqFKC+vj7IGKuvr8d1110XcdvxJFGSgH79+oavFCHxXIFKYzUO2K5ZDdWemSTALg9rPLyqYrlZNACz8xt7VfXn9mthvVECPJCVDrTLFwEA2e7ukCRxZimcpjPYqwpAS5oQSapV0ygBYbeN96sREQCvTtcoqoDptL0k6IMTmUTAwTBKgH3ENTVrgnCcwfrVV1+hvb0da9aswZo1a4L2T5o0CQsWLMCTTz4JwPtAGTp0qLa/qqoKsixHtJiqpaUFTU1NQeVbtmzBf/7nf2LevHmYP3++pf6fOHECl19+ufa7umDs448/xsiRI7Xy06dPo66uLmxIrETBb76EEEJiCd8zxAqOM1gHDBhguNDqxRdfxMWLF/HMM8+Yxi1taWnBSy+9hCFDhuDGG2/Uys+dO6dbMAUAp06dwp///GedEQkA//u//4uf/vSnuPPOO/H000+b9tOozT179uD48eO6jFxDhw7F4MGDsX37dsyaNUsLbbVt2za4XC7cdtttpudIJPF+kHQmWYAZGRnG2uRYQKlAHLBVHhDt/R1OEuANeR+JJMAxMgCxnZAyABFBEiABblcWPHKbzsPZIfsz/unTu/pOGPiR6fovTvOrSQTCT9vbLwkQcQGmXt5wGLVpdp70gQarPSiIr4Y1UZ+a4wzWvLw8TJ48Oai8srISbrdbt2/JkiUoKCjAkCFD0NTUhJ07d6Kurg6bN2/WxTy99957MWzYMBQXF6NHjx745z//id/97ndobW3FD3/4Q61eTU0Nli1bhh49emD8+PHYvXu3rg833ngjevfurbU5cuRIjBgxAt26dUNNTQ1ee+01FBYWYu7cubrjli1bhoULF2L+/PmYPn06jh49ii1btqC0tFSLduA04ikJ6GyyADM6G3Ggs9BQtZm4SgKC64f+PDuz0Mp4yt1YEmBFBiAeG8mCqoD+hRxvvSQgw5WNDFc2WjsaIfsWRLldmXC5zP4Gg195Ziv1/V8RIpjil7xGq7/c2z/jZAHitlhmPMXvvWK3r3aHSX0mEbACJQHECo4zWK1QXFyMXbt2Yfv27cjNzcW4ceNQXl6OwYMH6+rdc889+MMf/oD3338fzc3N6NmzJ8aPH49HH30Uw4YN0+rV1taivb0d586dwzPPPBN0vk2bNmkG67Rp0/Dee+/hwIEDaGlpQX5+Pr7//e9j8eLFyMvL0x13yy23oLy8HOXl5Vi5ciV69eqFhQsX4rHHHovBqNhDPL/58ls2IYSkH3z2EyskjcG6efPmoLJHHnkEjzzySNhjFyxYgAULFoStN3PmzLBxWVWWLl2qRQKIhMmTJxt6jp1KKhisgZKNeEOZgM0kVBIQWgrQ6cgAJsd6L0uGokTriQo3tR+wPwKJgRiBNXBUXFKW9jF55PYAr264iAHGU+SSKj2wNMWv3w4vFbAaDUCUB0RyL3H63wgarPaRDkOZNAYriS+SJMXtYRKraaE+fXrHpN3OQmM1SpJeEhBudb41GYAEt0lsVZMoASElCEE9Cnm9LkhaPRFZadOmy12u3AAj1TyQfyAywsVCtRIBAL6+qvG2ZPiFxL5t4TL0MVlNogfABX/SgUh0rQm0JiTdxSWuHwZYidNLCA1WYkgikgYQQghJH/iesQ85DRwhNFiJIfH0sBplAbODqVNvw8mT3pi4VVX7Y3KOaKBUIEpSQBJgWiVoR7ipfADw+OpIEdSPpD2/xyuyPPfBiJIAWe6A5BK9vvrzS5IU4XnCrbC3Y9vqcQF9UYQ6huloKQkwgh5WYgUarMSQVDBYZ8yYgfvvvx8AkJGRk5BECFagsRqGlJIEGCUJsEcG4K3j0h2rn+I3S0QQHv10eTAepcWXHhXIdOXCJYV+xURmsBrVMZuqF8Zbd4kercA4YkB4WYGYREAnUxDSwXqjCKhfIsToBb5jmUBABw1W+5DT4PsQY0oQQzhVQwghJJbwPUOsQA8rMSSeHtbAlLWxICsrC5cuXYr5eToDpQJhcKwkIMpkATGTAYhGgGRQx/w84T1eoae23VK2tluW2wM8wAHnjPgjsyIJCF/HOGJAFDIAs4gBCowdtxG3Z0bqyQroYbUPh62niwk0WIkh8TRY+/XrG/NzJIPBagaNVR+OkwREIgMwayO0JEA/9S9M90v+6f4geYCvjstANqAvs4YsTmOrs+2S21Ae4FFaIfuiBGS4cgEhSkC0ulh1Kl6chtcZv5I43W+2Yj9MxABFiBwQFDFALTBpW5KgJhSAJjfwHRc45KbP1Ei1vEZ9SV5osBIrUBJADOFUDSGEkFjC9wyxAj2sxJBYe1hdLhduuunbAIDZs++N2XlU8vPz0dDQEPPzxAJKBXw4URLgKzQ8u0Fh5JIAj7AtTusHvuDFNKRuXw0PXDpfhCugLLhjoTxdXsGD2XS5Hr0koEP4XIyjBFjD2tR/bKMEmG0HygMivc9Sb7o/EuhhtQ+GtSJpS6wN1ry8PLz33r6YtR9Iv3598fnnn8ftfLEgrYxTI5JSEhAuWQAAbVV/4Ep/sygBrqBtcco/uDyw7fBRAjziynfJox0r+6bOJUiA5IIkeY1kVR4QKAkIFyXACuIqfR3iY0qQB5hN84sRA9Q6arKD4AYjiB4gfN6KBAAuQHJ76wSOc6ckAakHDVZiBRqsxJBY61fjsdBKRPXi7t9/IGnTAYbTAKa8QZukHtbwsVfFBUBGHlbRM2k8her1zQYrvPw+20AvrcmiK5/u0iyVqd7bqj8SUJDhykGH3OI9i9KhWnCwx8NqRue9o+FTt4baNumLIgUY0xEel0Yk67PYiSTDUNbU1GDXrl14//33cerUKfTo0QPXXXcdnnjiCQwaNCjs8TRYiSEulyumcUvjsdBKpKxsAcrKFqBHj95JKw0QSXnjNBydNnYS4WE1WmgFqAujrC60ciMzhLfVpasjBaZmNbh2XYpRqQOqUetRvHu95V5vqyS5DFOYtsuXICvt3nN3wsMaLjWsiKxLtSo2Et7bqsVk9RnpgXXN066G95Qq6BA8t27f9dDDKhKrtNzEmfzyl7/EoUOHMHXqVBQVFaG+vh5btmzB3Xffjd/97ne46qqrQh5Pg5UYwm++hBBCYgnfM/aRDMvX5s2bhzVr1uiSBU2fPh133nknNm7ciJ/97Gchj6fBSgyJxYMkNzcXY8eOARCfhVZGJPPiK5G0X4jVaXlAgiQBho2oU/TWFlp50AGX7xEeKBrwCwu8dSQogmRADAll1B+9JEA/Xe5fVKS/z0RJgK8fcnuAdzlySUC4RLhSwG/mi8JCb3s9xbL5/oikAvq+6RdgqT1VwkzZUhJAUp9vfvObQWWFhYUYOnQojh07FvZ4GqzEkFhIAsaOHRPXhVZGpMLiq1CkhbEKpLwkIHg7eOrfLWUGTf17WwuQBMDlLdPUrMbT7R6IKUb9kgCoC4mgLsaSfIacorWpGnVuVzbcrmwAQGvH1+jwXAQAZLm7w+VboGVGeBmAyWIxRVgUFoE8IDA1a/ACUzHGql8q4K2jyjQE2YBJ7FdJkoRFaeo5zeQY6Wm4URJgH/FOzdrU1ISSkpKQdT788MOw7SiKgrNnz2LYsGFh6/JuIYbwmy8hhJBYwvcM2b17N06fPo1p06aFrUsPKzHErgeJE2QAImIfqqr2J7AnsSFtpAIpLwkAwvkTREkA0AEX3PCGaNLyLvnquHVl3vEJbts/ta56UIMlAf5ttQ1JVy5Oz7ulHEDxRQwIk6ZVksyiDwT0zrCKWRSDyKf5OxclINS2iiqlSFdfqjE0WJOXvLy8iDyooTh27Bj+/d//Hddffz3uuuuusPVpsBJD7JIEOEEGIKJGCwCAjIycmEZCSDQpZaAGkkKSAEmMlWogCXBJxtEAQsoAxHK4kIksn0HrLQ0nCVB0SlhZq6/4jC7vjxxQX9GZYx6lRYjJ2jVsxABzSYCRFEAK6JOPCOQBRlIGb4tqWfQxWc23/cawWVxe/1HJsHzGHigJsI9kM/3r6+vxyCOPoHv37njppZciuhdosBJD+M2XEEJILOF7Jj1pamrCggUL0NTUhG3btqFPnz4RHUeDlRjSmQeJ02QAZmRlZeHSpUuJ7kbMSOnJx5STBKgHBCcO8KZVDcYjyACAwMgAenmAR/AaSpICvSRA9er6p9NdcEOGx7ftguzro788CkmAztNsRRIgA0oI74sU+EtoeYC5xMFKZABKAuyABqs9KABkJZLnnn3ni5bW1lY8+uij+OKLL/Df//3fGDx4cMTH0mAlhnRGEuA0GYAZqW6wiqScPCClJAEuX3B/ITKASbIAvSQgw1AGAEAwyABZArKQCzcyhR4ZSQL8U+UyOgxkAPAZq5FJAjrki0ISgRyhf5LBFH9gv0LLAALLjTZFeYBosENShGvzGajCSv/IkgVY2/Zeu8sXLcBv0KZ7xABKAtILj8eDJ554An//+9/xi1/8AqNHj7Z0PA1WYgi/+RJCCIklfM/YRzIM5c9+9jO88847uOWWW/D111/j9ddf1/Z17doVkydPDnk8DVZiSDQPElUK4GQZgEiqJBGIhECvjaJ5xhQTr5XDSUlJAGAeGSC43CxKgPfUvoVHkOEC0I5WoVsu/wIsyV/XXBLg33bDDU+EkgBdEgGlA5Li0uoaSRL0v1qRAQTuiDwBgNZvye9lleAWvMp2SQJU/IkX0suXagwN1vTiyJEjAIB3330X7777rm5f//79abCS6AgOph2eZJECqKR6EgEzxKnXpDRWARskAYDesAjXXuwlAT7rUdjvz8ZkHCUgw3BbEqbT1cQB3igBBpmu4DebPNp0P9CBdq28A+1auUeQBCjogOIzZP3/ipKAFk0SkOHhgfERAAAgAElEQVTqYhIlQIyMYCYJCB57SThOVgJX1RtED5CEKAAG0//eMvXbh/olTgpKMhD9ttgzMUJBehtsobKdEWskQ2yJzZs3d+p4CkiIIbKcDLc/IYSQZIXvGWIFeliJIVY8rBMm3AzA2REBjEj1JAJmKMLimMBJyaTxuHZaEqBrLESZf1rY2VECOrRpfgmK5k31+I7tQIf2sLccJUDxb4ur6iVBgqBOdUciCfAeG85XIsaBNUCceTet4tI8v2K/jKIEiJIAeyMGhOp4BBeR4tDDSqxAg5UYEmmUALfbnVQyAJF0SiIgkhKSAJGYRAyQgv6NlSRAlQKIU/n6yAD+c4jRA1xC/eBtVSrgTRwgQYLsM4582e0BQAtXFbitlwG0acae7EsuoMDjMwb10QPE6fbIJAH+vijqsGj/qG25fAX6z8DoK4QoA1CNVQCQFY9huZEkQFGC94v9jG470v3pBQ1W+0gHOTAlAYQQQgiJO5QEECvQw0oMiTRGaVZWVhx6E3vSKSZrSkgCRGISMSDekgAXRBmAl2B/gizIAMRJc6NkAWK5KgKQAHgkCAuwxO6aRQnI0FKs6iUBLuHY4AD8ble25iT1SwKUoGP9nmfF5KOMQB5gusNpUQIoCRChh9U+0sH0p8FKDKHBmh4kpYEaSMIkAYDO+DCZ7g8vCfBO54syAF1/JEn3q2p4eY1Ov2Etlvv1mgoUSdWWqiaYDMXgWsTg+h74A9x3oFXb9vhWzctKBzxKBzy+KX/V2BOn292uLLhdgc8H9bxqv12G42MeMSA46L5i8qqWgxIbQOirol1HoJRBvIbOyQBCSwIk4R5QxMQGhvdjakKDlViBBishhBBC4g4lAfYhp4GzngYrMSTSoPr5+flx6E3sSackAiKhQpcnjfc1kZIA9TRmzajFgQ5CHUaSADFiQOBLXY0A4E8coI8vECwP0E+qC7VFR65itJJe0ckD/NPl8E3rix7hwCl0/zWbj54MCCllQ4+PNUSJg7E8QDGUMnQ+MkCkkgARfUKBdIEeVmIFGqzEkEiD6vfr1zcOvYk96ZpEQCRpDNRA4iIJAPz6SxNDxHC6Xz3O4AhdMzL8ylO1QvgV5X7jUdKmsl2SC5DUKXoFHsheHavkN8KMptNlcVW9IAnwCMHz1RX0iuKNEqD9riYOCAri76Wto1Gb9s5058ElZQZcOyAapToj3yd3kBAYJSAYOWjqX60beG36cqPIAep1+s9k3LYeK1ECAhG/oIhGrySUpxY0WO0jHb7m0GAlhkQaUzXZYq+aka4xWUWS1tsaFw+rv9z0bJ1egCUaJHqfaTgPo9cHaeR59S63MvWw6s4YOlap/1i//lTfXxMPKwCXlKVNWcpyB+BStapimlZxuVgEhPRaB/Y1tAc13KKsUO2FPmdgHyM9Trz/OomD4x0xNSuxAg1WYogYozQdSNeYrEY42jgNRdTemkg9rN7fw3tYAWMPWbgFWFLA6QwMQ2EBlte4FD2HvtqKBBnt2rGSJPkiBYS+p2WDlKWA6mFVY5TKvnN5oEAO8qyaLoBSWrW6kitHixMbNL6S2AcVl2ZM65cshV50pfOaCtcmG12P6EU2ieVq5j01O7++fjjvqJlnVrx/Us+4c7kYWZNEDg1WQgLgt35CCIk9fNbaBxddEZKGpPtDNPTyIgd7YMN9bqYeWCdJAoyTsBqXGy/MEuUB0EkCgtOxmmO8SCn8lLbxoiuvJKDN2z+5Q1jzJUoCjKUKunEJLw3W90m7J0Jfj30LrQLOr9uO9LlisyTAwaT7s5ZYgwYrIQFEmpY2VXGsQRqOTi3gCJzCtyoJCGgj6gVYgelI9dsKFMC30EmS3NrCLEVYqKMIcVYluH06Vg88mkFtfA2RLFgSp9AVyLqpdO9+478bj9yitZPhytJJI/SLqzxaub+OGmM2/KIrxUTWoEu3alDHvhSsZiv9rRhmgQutUteooyTAPtLB9ufdQkgA/NZPCCGxh89aYgV6WAkJIN0fouknCdA1YvJvcA3T04SrZFkeEEl81lDT6QEnjogo4owqgfv9uKRMkygBCoKjDZh0RztHpFiZzu+MDMBq9IDASwl3s6Tu8yjdn7V2knpBz4KhwUpIAOkuCRBxrHFqhC0xHcNJAgDROLE/YoDR9LJxfFYFsl6jKQlyAmEFvaRIunOYmQhmsUWNptZVKYA/Lmvo16WstMMfJ1aUBCjCdL2ki8sZGCUg/Fcpc0mCuVQgWBKgb8NMJhFJZIBw5ZGYGIHygNSCkgBiBRqshBBCCIk79LDag6LEN0pAoj42GqyEBJCVlYVLly4luhuOIKmSCcRFEhB5xADTs0UkCRDry8J+s6l/kehSmYZEd/7Iprz9hyqQpAzNOJEVD4w9zWZYuZ5I+me3JMDkPArCjFsk0/2pbdDRYCVWoMFKSAA0WP04ziiNlE5HDFCNmFDt2B0xwCiZgLeef/W8S982jOpLgDZ97T9/tLaB4XS/InvX7gdECTDD5crQsm8ZNBauB2ElB8ZHmUgcjKIERCADCGzdqL4eOcS+wDY6Uyd5oSSAWIEGKyGEEELiTjRfRIgxqf3VxgsNVkICyM/PR0NDQ6K74QiSShIgEsqdGLH3VTena1rD9DTqlK+ViAFhVQ0yFMUpXinJtL/hl0dF1rxlIjpttJKAcG0Y1THrXozNiySZak+SbhKHQIOVkAD69euLzz//PNHdcByONlADsTViQCjsiBgglgtHmp7aKLmAvk/+1iK5Busovml689Xy5nTIl6Beg1vK8SZA0FpViUTbatSv8JEOdOWaFCD81H/8IgOkEUn0SHE66ZCa1Slf1QkhhBCSRijpYGUR26CHlZAAZs++V9vev/8AV7L6SCp5QFwkAfZFDBDPaPxLwGESAISRB0QVbD8ywv1NhL5XMqDAu1hLVjyC1yQ23mCtbcM+G0kCvChBiRAijAyg/WvicU8DtWE4SYi6X7JlJoQA6SGvoMFKSABlZQtQVrYAANCjR2/qWQ1wnIEaSNwkAf661iIGBJSHtC6lgBe78Qp1XaB9IRGBErZ/kaOtqkdwwP3I2+iA2m9JyjAZk8jlAZH0wSyhALQoAdakBKEjA4TanwZWhRUc/hghzoIGKyGEEELijixT02sX6TCSNFgJCQEjBhjjeHmAkyQBsBYxQDy78S8BhwVdjsVIAqGyz4ZDETcjO0iCS6vr9WxKur124u+T+XS+V95gNSGCgQwgRH0luGIILHphxXs9yabYKQkgVqDBSkgIGDHAGEcYpZHS6SQCgD0RAwLaC5oKDx85IJDwkQTCteYy7Ks/UYEx6v5w9YyPbRd64w7omXEvOz+RHj6JgP9c0coArJ/fmPSRDdBgJVagwUoIIYSQuENJgH2kQ8AFGqyEhECMGPDXv37AlK0+HC8JELFNHhCKOMoDIuxWZJdmJh8ItZpdlEpYf0tKcOs9tEFT6sJvNt1K5reA0XV2Qh6QaJJsqTg9rMQKNFiJIRs2bMTWra+GrTd79r3aivpURIwYMHHiJFRV7U9wj5yH4wzUQGx7KRpN24eqC1iXB4RLLBDYnrGBEvklK+jcco0oDFbJBck0BHisDK7Q12hdBqA/OqGoH3aSGasADVY7Sb5P3zo0WIkhW7e+GrFxlsoGqwjjsxrjeG+rLR5WrbEI6iTI2yq0Z+XWTKTREPg3FGlf7PzbC/cJGY64AuPygCqRp6hN/mdJNOl4+QwlVqDBSkiEMD6rMY4wSiOl08aZ1eD2kcY/9Xlvo0zjGqnn1ei4ROKNyapGis2w0J/oDZ3wcVvtWkQVLspEYN30w+Visk27SAcNa1LcLRs3bkRRURHuuusuXXlbWxteeOEF3HrrrSguLsaUKVOwadOmoG9tBw4cwMMPP4ybbroJo0aNws0334zHH3/cdPX3vn37MGPGDIwaNQoTJ05EeXk5Ojo6guo1NjZixYoVGDduHEaPHo0HHngAhw8f7lSbTuHLL7+0tR4hhBAiQg8rsYLjPaz19fVYt24dunTpErRv6dKleOeddzBr1iyMGDEC1dXVeO6559DY2IjFixdr9Y4dO4YuXbpgzpw56NWrF86ePYsdO3bgnnvuwW9+8xtcffXVWt2qqiosWrQI48aNw4oVK3D06FFUVFTg/PnzWLFihVZPlmWUlZXh6NGjeOihh9CzZ09s3boVc+bMwc6dOzFw4EDLbTqJ06fP2Fov1WB8Vj+OlwSIdFoeEAtJgNC2lbVdusLwE7LGn4U1+YD/MDWOamcNDhcgZs0KsQArUqKZmhaPDr0rvAzA24NI+mCTsZbERh8NVvtIh6F0vMG6du1aFBcXQ1EUNDY2auXV1dXYu3cvlixZohmn9913H3r27In169ejtLQUffr0AQDMmzcP8+bN07V7zz334Oabb8arr76Kn/zkJ1r56tWrMWLECLzyyitwu90AgK5du2LDhg2YM2cOCgsLAQBvvvkmPvroI1RUVGDy5MkAgGnTpmHKlCkoLy/H6tWrLbdJkgfGZzXGcQZqILboNa3EZtXXDz8+oeK0BmIlbmuo80ZlsXbiWLEZvyQAyAjoZhSaSMsLyKzUZ7xVu6EkgFjB0XdLTU0Ndu/ejeXLlwftO3ToEADg9ttv15VPnz4dbW1t2LdvX8i2e/XqhZycHJ0RXFtbi9raWpSWlmqGJQDMnj0bsizj7bff1sreeust5OfnY9KkSbo2p02bhr1796K9vd1ym4QQQki6QA8rsYJjPayKomDlypW4++67MXz48KD9bW1tAICcnBxdeW5uLgDg008/DTqmqakJ7e3tqK+vR2VlJZqbmzF+/Hhtv3pMcXGx7rgrrrgCBQUFujYPHz6MkSNHBq1qHTVqFLZv347jx4/jqquustSmSElJiWG5eC0FBQW4cOFCyHrRMnToEDQ3N4et161bt5j1oTO0tLTEtP2HH34QAwb0BwAcOvRR0j14E+HVTybva2HhoEgPinKfUe3A+iGO1/pqbQGYXQwq/AaAzk6/wzePqXolAz3GAf2NqPtW+2MWAcBoX6gsXPp9kd0/NgXNd8izx8q9oD5/JElyxPtj4MCBOH78eKK70SnSIQWDYw3W1157DbW1taioqDDcf+WVVwLwelpFL+uHH34IADhzJlhbOXfuXHzyyScAgC5duuCxxx7DzJkztf319fUAoEkJRPr06aNrs76+HuPGjQuql5+fr53/qquustQmSR5mzJiBGTNmAPDGZ43EuE8HHG+UiiREHiCcPmp5gFEdfcuR140WmyQBEmA+0ReL/kaC1Ve/MwzGZISSAGIFRxqszc3NWLt2LcrKyjQDMJAJEyagf//+WLVqFbKzszF8+HBUV1fjhRdeQEZGhqGH7dlnn0VjYyNOnDiBXbt2oaWlBR0dHcjMzATg98plZWUFHZudna3LctTS0mJYTy1T27LSpohqeJtRUlKCuro6dO3aNWS9aPn889qIFhV17949Zn2wg3j0LdKxciJHjnxma3upZrBGPj6xCnfla9uScW3deI6WI0eSRcdtwQhVrBmsoXSzoe+f9PWwqhw9+rkj3h/J7l1VAMhxvA8Sdcc50mBdt24dMjMz8eCDD5rWyc7Oxvr16/HEE09g0aJFALxG4Y9+9CO8/PLLhlEFrrnmGm379ttvx/Tp0wEATz31FAC/vECVG4i0trbq5Ac5OTmG9QKlClbadBKRroI3+0KRTjBigJ+UiRhgvbEw+wOv3cboAUHGrNVIBg4h8POwLW1uFOcOe8Zoz5lakQE6KwlJNikVSSyO88efOXMGlZWVmD17Ns6ePYuTJ0/i5MmTaG1tRXt7O06ePKkZB0OHDsUbb7yBN954A1u2bMGBAwfwve99D+fPn8egQaE1RJdddhm+9a1vYc+ePVqZOm2vTuOL1NfX64wzs+l8tUyta6VNJ9GvX19b66UyHANjpID/HI0k6X+sNxDmxwh/YPnwYyUEoY+or0qIH6fiEX6sEOpaI71mq+MT7Xgmw+cQPygJsI9I/grs+kkUjvOwfvXVV2hvb8eaNWuwZs2aoP2TJk3CggUL8OSTTwLwiraHDh2q7a+qqoIsy7rFVGa0tLSgqalJ+11d3PXxxx9j5MiRWvnp06dRV1enW/w1bNgwfPSRd7GNuPCqpqYGXbp00eKwWmmTEEIISRfoYSVWcJzBOmDAAMOFVi+++CIuXryIZ555xnSFc0tLC1566SUMGTIEN954o1Z+7tw59OrVS1f31KlT+POf/6wzIocOHYrBgwdj+/btmDVrlhaGatu2bXC5XLjtttu0ulOnTsVbb72Fffv2aXFYz507hzfffBOTJk3SdLFW2nQSs2ffa2u9VEYdg7/+9QNTTXI6ktTyAPV3RbEpoUDoOKixkwcYn88+7GxLEtqTASWE960zt0+URlLMEhKkMTRY7SMdUrM6zmDNy8vTDECRyspKuN1u3b4lS5agoKAAQ4YMQVNTE3bu3Im6ujps3rxZF/P03nvvxbBhw1BcXIwePXrgn//8J373u9+htbUVP/zhD3XnWbZsGRYuXIj58+dj+vTpOHr0KLZs2YLS0lItMgEATJkyBaNHj8ayZcu0TFfbtm2DLMtYsmRJVG06ibKyBSgrW5DobiQF6lhNnDgJVVX7E90dR+I4AzWQQENP/d2SPCD6iAHeYyOVTphEBoiqr9FiU5QAwzZ9SLF6AydCf5oG1kQUUBJArOA4g9UKxcXF2LVrF7Zv347c3FyMGzcO5eXlGDx4sK7ePffcgz/84Q94//330dzcjJ49e2L8+PF49NFHMWzYMF3dW265BeXl5SgvL8fKlSvRq1cvLFy4EI899piuntvtxoYNG7B69Wps3rwZra2tGDVqFH7+858H6WcjbZMQQghJF+hhJVaQFN4xSUlJSQkGDhyInTt3JrorjkQNRh3PkCkbNmzE1q2vAnC+PGDYsCIA9oe1igYnel914xP1Iiy794Ubq0gSDdjDsGFXAwCOHDlqX6NK4JKOKK4notdZ6DrmU/+Rvyq9948i/H3FP5JBPIhWJqH+fX322VHIcnAEnXijJuoJF07SiZSUlOBCwyUMP3Nr3M55OP8ddO2eG/fxoj+eEJsoK1uA997bh/fe24exY8ckujuOInAVvKOjB3Q6YgCgX08bScSA4OOsj5XJel6bjdWYIUmA5BJ+JPMfU+yOGNCZtdFOWFftbAIzRRISiqSWBBBCCCEkOZHldEgoGh+46IoQEhVi9ASnywPiQdJFDBCjBIhY9ghFGz3ASuSAMOfvdFSB+BOoVJMkKaZT4p0NgC+2pP+3s805zwqxb6zoYSXWoCSAkBhAeYAxSSkJcKA8ILrzB8gEHG0sGCURiGVIc7um7ykDsAINVvuQ4/iTKGiwEkIIISTuUBJArEBJACExRpQH7N9/IK1DuYSbTnSEx9VWSYCu4TD7Yy0PEPoRyS0YK+9XRPe/PomAEiKJgPWrt/vvL33/njsLPaz2kQ7vFRqshMQYMQlDjx690dDQkOAeJQ5HGKRWsP2FGm1yAeNkAdGPZ2cyc3UW66GnJMdm54pFe+kDDVZiBUoCCCGEEBJ3KAkgVqCHlZA4kp+fn9Ye1qSQBIiEmmZLiDxA34a9UgF92yEbN5NM2IYoCYjuOu2f+te3HrumneexjdVY0sNqH+lg+tPDSkgc6devb6K74BiSImKAiC0RA0SijR5g3Ib9YxnJqvxofsLjvQKX8BNN4gm7IwmYtU2ihQYrsQI9rITEEcZn9ZNUsVmBNPa2JhbxyoyuI7aeVP2ZYtd0ehq+6bBQKF6kw1jSw0pIHGF8VmOSwtNqe3xWreEwP5ESS29rIgnnyYylJ9XsPMQOXC6aICRy6GElhBBCSNxJB69gvEgHDSsNVkISBOUBfpJCHuBoSYC+vdSUB8Rr8j9ORhSNNRqsxBI0WAlJEGJ81okTJ6Gqan+Ce5Q4ksqIislCEQXWJQDh2gM6F6vVicTDwKERFS8oCbAHBYAcR+M/UX8hvFsIIYQQEnfoYSVWoIeVEAeQ7vKApJAEqIR7yUbtgY00Zam1NpNFHhC/1f7GZ4/PaZLLQIv1Z0KDlViBHlZCHACjB/hJqhXutkcMCBWbtTOGsH6FuzPHNl6r/cOdmxgRi3uGkgD7UOL4X6Lg3UIIIYSQuEMPK7ECJQGEOAxRHpCOC7FSRh7gqMgB+rbjLRNI7HR/IE7qi/Mw+6xi8RnSYLUPhrUihMQdMXpARkYOPB5PgnuUOBxnoIbC9ugBgdKA2LQdnzF2kmHipL4kD+p9YqfhSkkAsQINVkIIIYTEHXpY7UNOgy9iNFgJcTBZWVlpFzFAhPIAIJHygHBHOWuqPxQJ7qfDDbNIPkdKAkiiocFKiINJd4PVcUZpKGKSUEAlHvKAeB8bT5Kln8mBXfIAKaZ/M+mEEtfEAYn6e6KAhBBCCCFxR5bTYakQsQsarIQ4mPz8/ER3IaE4MRagKYpi/mPfScL8pDsOGpeYfP7OwK6/QXpYiRVosBLiYPr165voLjiGpE4oYCuhkgukOw4yWElYaLDaBxMHEEIIIYTEAEoCiBW46IoQB6MmEfjrXz9I68VXACMGGJwkzH6HjYmtOMhravRZJ4EMwAmyGnpY7SMdwlrRw0qIgykrW4D33tuHsWPHJLorjoLyAJV0lQdw6j8VoMFKrEAPKyGEEELiDiUB9pEOHlYarIQkAao0AKA8AKA8wOAkYfY7bEyiwkEv5CSY8jfCCTIAEXpYiRUoCSAkCVClAZQHeAmUBFAeAKS+PIBT/6kGDVb7SIcoAfSwEpJkiN7WU6e+xJkzZwAAjY2NaZPqMKk8rCL0tkaIA+/jNPnbiifp8rwi9kCDlZAko6xsAcrKFgSVT5w4CVVV+xPQo8TiaAM1FEmbyjUe0JBJB1wuTvKmG2fOnMGmTZtQXV2Njz/+GBcvXsSmTZtwww03hD2WdwshhBBC4g49rPagwLvoKl4/nfnU/vGPf2Djxo04ffo0ioqKLB1LDyshKYIoFdi//0DavAwoDwh5kjD7EzE+SXRfpsDfkNMWWomkyzOK+Bk5ciT+8pe/oGfPnti7dy8WLVoU8bE0WAlJEUSpQI8evdHQ0JDgHsUXRxunRsRtwUmgUZBomQCNFOKFkgD7kKXkCBHWrVu3qI+lwUoIIYSQuEMPa/LS1NSEkpKSkHU+/PBDW89Jg5WQFCQ/Pz/tPKzhpj4d54GNiyTA8MQR1oumDylggKSAEeVkGYAIDVb7YOIAQkhS0q9fX3z++eeJ7kbCcJxxGo64x6OMlbY19V+axD4oCUhe8vLybPeghoMGKyGEEELiDj2s9qEgOTSsnYEGKyEpiBgxIB1jsyZd5ICEyQPMCGdIKAH/JikpZDAliwxAhAYrsQINVkJSEDFiQEZGDjweT4J7lDgcaaCa4ahUlaGMiRQxWElCoSSAWIEGKyGEEELiDj2s9sFFV4SQpCcrKwuXLl1KdDcSRlLJA8K9wB3lgU1SUsxISkYpgAoN1vTkF7/4BQDg2LFjAIDXX38df/vb33DZZZfh/vvvNz2OBishKU66G6yOM0qjgYYqSUEk3te2kSyJAwDgpZde0v2+Y8cOAED//v1psBJCCCHEWchy8hhZxD4+++yzqI6jwUpIipOOSQREkkoSYIbjoggkAZxudjz0sNqHnAZhrbhEj5AUp1+/vonugmOQAv5LSiRJ/0NIkkKDlViBHlZCCCGExB1KAuxCibOHNTGzFzRYCUlxxCQC+/cfSOuVuZQHpCBpeD8nc2QAEXpYiRVosBKS4ohJBHr06J3WelaRpDFQQ8EXPkliaLASK9BgJYQQQkjcoSTAPhQuuiKEpBL5+fmJ7oJjUEL8lzQoivlPqpEu12lCUt6fYaCHlViBHlZC0oh+/fri888/T3Q3HEdKyANEaAiQJIAGq30kU+KAaKHBSkgaoS7AGjCgP/72t0MJ7o1zCPRaqb8rUJLTmE32hVlp5DkNRSp5U41I5wWgxDo0WAlJI9QFWBcuXMANN3wr0d1xJGKM1qQ0Vs1IBkOVpBUuF1WJdqAgvhrWRD1JksJg3bhxI9asWYNhw4bh9ddf18rb2tpQUVGBPXv24MyZM+jfvz++//3vY86cObqphoMHD2L37t04dOgQ6urq0KdPH4wfPx6PP/44+vTpo9V7//338cADD5j244knnsDChQsBADt37sTy5csN69XU1CA7O1tXtm/fPpSXl6O2thaXX345Zs2ahUcffRQZGUnxEZAUYcOGjdi69VUMGNAfHo8n0d0hhKQx9LASKzjeWqqvr8e6devQpUuXoH1Lly7FO++8g1mzZmHEiBGorq7Gc889h8bGRixevFir9/zzz6OhoQFTp05FYWEhTpw4gV//+td499138frrr+Pyyy8HAFx11VVYvXp10Hl2796NP/7xj7jxxhsN+9C3rz6TUGZmpu73qqoqLFq0COPGjcOKFStw9OhRVFRU4Pz581ixYkVU40JINGzd+iqqqvZj2LCiRHfFsYgLWwKnZJPa49oZ4yAa7yyNkahIdRmACA1W+1AQPwcEPawmrF27FsXFxVAUBY2NjVp5dXU19u7diyVLlmjG6X333YeePXti/fr1KC0t1byny5cvx/XXX6+bfrjppptw//33Y+vWrViyZAkAoHfv3rjrrruC+lBRUYHCwkJcc801QfsmTJiA4cOHh7yG1atXY8SIEXjllVfgdrsBAF27dsWGDRswZ84cFBYWWhsUQkhcSGoDlRCHQ0kAsYKj75aamhrs3r3bcOr90CHvgpHbb79dVz59+nS0tbVh3759WtmYMWOC/jDGjBmDHj164NixY2H78M9//hN33nmnaZ3m5mbTeHK1tbWora1FaWmpZqwCwOzZsyHLMt5+++2Q5yfETr788stEd4EQQgDQw0qs4VgPq6IoWLlyJe6++25DD2ZbWxsAICcnR1eem5sLAPj0009Dtn/hwgVcuHABPXv2DOSjOJMAACAASURBVFlv9+7dAGBqsM6ePRsXL15EdnY2Jk6ciKeffhr9+vXT9qv9KC4u1h13xRVXoKCgwLSfJSUlIfvV1NSEgoICXLhwIWS9dKWlpSXRXXAkl112GYYNK6JXPwyRjE86e18LBw30btDgMKSwcJCl+ukkAwD8f1+SJDniHTZw4EAcP3480d3oFHIcF10lytPpWIP1tddeQ21tLSoqKgz3X3nllQC8nlbRy/rhhx8CAM6cOROy/crKSrS3t2PatGmmdTweD37/+9/jmmuuwaBB+gdQbm4uZs6ciRtuuAFdu3ZFdXU1KisrUV1djV27dqFXr14AvBpcALrFXSp9+vQJ209CiDNIZwOVkFhASQCxgiMN1ubmZqxduxZlZWWmmXkmTJiA/v37Y9WqVcjOzsbw4cNRXV2NF154ARkZGSE9bB988AEqKipwxx13YOzYsab1Dh48iLNnz+KRRx4J2jdt2jSdsfud73wHY8aMQVlZGSorK7F06VIAfk9fVlZWUBvZ2dm4dOmS4blVw9uMkpIS1NXVoWvXriHrpTscH39kAAA4dOgjnXzlyJHPEtWtpEAcHxqswfD+CU2k45NuHlaVo0c/d8QzOtm9q0B8PayJwpFfb9atW4fMzEw8+OCDpnWys7Oxfv16dO/eHYsWLcKtt96Kp556CosWLUL37t0NowoAwLFjx7B48WIUFRVh5cqVIfuxZ88euN1uTJ8+PaJ+T5gwAYMHD8bBgwe1MlWyoEoYRFpbW4MkDYTYjRoZoKpqP3N3d4KUSOVKEgrvHz3UsBIrOM7DeubMGVRWVuIHP/gBzp49q5W3traivb0dJ0+eRF5eHrp3746hQ4fijTfeQG1tLRoaGjBkyBDk5ORg1apVQVP4gHfByfz585GXl4cNGzaYGrWA1zP6hz/8AePHj0fv3r0j7n/fvn3xr3/9S/tdlQLU19cHeYvr6+tx3XXXRdw2ISTx0NNKiD1QEmAXSlzDWiFBX7IcZ7B+9dVXaG9vx5o1a7BmzZqg/ZMmTcKCBQvw5JNPAvCKtocOHartr6qqgizLGD9+vO648+fP46GHHkJbWxsqKyvDGqHvvPMOLly4EDI6gBEnTpzQ4roC0BaMffzxxxg5cqRWfvr0adTV1YUNiUVIZ2FkAEKIE6GHlVjBcQbrgAEDDBdavfjii7h48SKeeeYZ0xW8LS0teOmllzBkyBBdkP+LFy+irKwMp0+fxqZNmwy9r4Hs2bMHubm5+M53vmO4/9y5c9rCKvGY48eP62K5Dh06FIMHD8b27dsxa9YsLbTVtm3b4HK5cNttt4XtCyGd4fRpLuyzk3BTuPTAkkDSedo/FDRY7SMdNKyOM1jz8vIwefLkoPLKykq43W7dviVLlqCgoABDhgxBU1MTdu7cibq6OmzevFkX8/TJJ59ETU0Nvvvd7+LYsWO62Ku9e/cOymD19ddf48CBA7jttttMBeH33nsvRo4ciREjRqBbt26oqanBa6+9hsLCQsydO1dXd9myZVi4cCHmz5+P6dOn4+jRo9iyZQtKS0u1aAeEkOSDxikh0UNJALGC4wxWKxQXF2PXrl3Yvn07cnNzMW7cOJSXl2Pw4MG6ekeOHAEA7NixAzt27NDtGzt2bJDB+uabb6K9vR133HGH6bmnTZuG9957DwcOHEBLSwvy8/Px/e9/H4sXL0ZeXp6u7i233ILy8nKUl5dj5cqV6NWrFxYuXIjHHnusM5dPiCliZICmpqYE94YQQoKhh5VYQVJ4xyQlJSUlGDhwIHbu3JnorjgSNRi1E0KmJIKJEyehqmq/6f5hw4oAMCyRGXaMTyp7X3n/hGbYsCIoUDg+Jqj3z2efHYUsB0fQiTdqop5w4SSdSElJCRobmnGxrl/4yjbRpeAULuveLe7jRX88ISkIF1olllQ2VgmxC0ni3wmJnKSWBBBCjOFCK0KI02FcaPuQ4xrWKjHQYCWEEJsJtSqc3tfUwuizZlSAyKCHlViBBishKYhRZjWSGGigEmIMDVb7UNIgrBU1rISkIDRYCSFOh5IAYgV6WAkhJIZQHpB6cMrfHuhhtQ9ZSX0NKz2shKQgjFbnfGisknSHBiuxAg1WQlIQTrURQpwOn1PECpQEEJKCSJJEL6vDoVTA+XDqP7bQw2oPCuK76CpRfxX0sBKSgjBHd3IhBfxHSDpAg5VYgR5WQlKQrKwsXLp0KdHdIBFCb2tiCRx/jnl84CyQXShQ4po4IDGfG90whKQgWVlZie4C6ST0tpJUhzNBxAr0sBJCCCGEJDGykvoL2Pj1hpAUJD8/P9FdIJ1ECfEfiZ5IxpPjHB84E0SsQIOVkBSkX7++ie4CiRGUCZBUgQarfSiQ4/aTKGiwEkIIIYQQR0MNKyEpyOzZ92rbp059iTNnzgAAGhsbuTI3yYlkqjpdvbCcxk8uKF0iVqDBSkgKUla2AGVlC4LKJ06chKqq/QnoESGE6KF0yT4UJZ5hrRIDJQGEEEIIIcTR0MNKSBqhSgUGDOiP+vqz+PLLOgBAW1sb2traIMsyFEWBy+WCoiim25IkQZIkyLIc8Xao9pzWttvthizLcLlcSXcNiqwAEuCSXL5yQFFga79dbjcUh44PJPD+cVDbgHdxlbrA6oor8nH99d8EANx8800JeAqmJnICF0PFCxqshKQRqlTgwoULAICuXbsmuEfOhOMTGo5PaDg+oeH4kGigwUoIIYQQksQoTBxACCGEEEJIYqGHlRBCCCEkiVHAKAGEEEIIIYQkFBqshBBCCCHE0VASQAghhBCStChxzmCYmEx69LASQgghhBBHQw8rIYQQQkgSo8Q1cYA7jufyQw8rIYQQQghxNPSwEkIIIYQkMYoSz7BW9LASQgghhBASBD2shBBCCCHJihLn1KzxDEggQA8rIYQQQghxNDRYCSGEEEKIo6EkgBBCCCEkiYlvWKvEQA8rIYQQQghxNPSwEkIIIYQkMXFddJUg6GElhBBCCCGOhh5WQgghhJAkRUF8NawJimpFDyshhBBCCHE29LASQgghhCQtSpxTsybGx0oPKyGEEEIIcTQ0WAkhhBBCiKOhJIAQQgghJKlhWCtCCCGEEEISCj2shBBCCCFJDBMHEEIIIYQQkmDoYSWEEEIISWLimTggUdDDSgghhBBCHA09rIQQQgghSQ09rIQQQgghhCQUGqyEEEIIIcTRUBJACCGEEJLMMKwVIYQQQgghiYUeVkIIIYSQJIZhrQghhBBCCEkw9LASQgghhCQ19LA6go0bN6KoqAh33XWXrrytrQ0vvPACbr31VhQXF2PKlCnYtGkTFEXR1Tt48CCWL1+OKVOm4Nprr8XkyZOxYsUK1NfXB53r1ltvRVFRUdDPmjVrguo2NjZixYoVGDduHEaPHo0HHngAhw8fNryGffv2YcaMGRg1ahQmTpyI8vJydHR0dGJUCCGEEEKSh7a2Njz//PP49re/jWuuuQbf+973cPDgwYiOdbyHtb6+HuvWrUOXLl2C9i1duhTvvPMOZs2ahREjRqC6uhrPPfccGhsbsXjxYq3e888/j4aGBkydOhWFhYU4ceIEfv3rX+Pdd9/F66+/jssvv1zX7siRIzF37lxd2dVXX637XZZllJWV4ejRo3jooYfQs2dPbN26FXPmzMHOnTsxcOBArW5VVRUWLVqEcePGYcWKFTh69CgqKipw/vx5rFixwo5hIoQQQkhaogABjrqYny9Knn76abz99tt44IEHMGjQIOzatQsLFizA5s2bcd1114U81vEG69q1a1FcXAxFUdDY2KiVV1dXY+/evViyZIlmnN53333o2bMn1q9fj9LSUvTp0wcAsHz5clx//fVwufwO5Ztuugn3338/tm7diiVLlujOWVBQEOTNDeTNN9/ERx99hIqKCkyePBkAMG3aNEyZMgXl5eVYvXq1Vnf16tUYMWIEXnnlFbjdbgBA165dsWHDBsyZMweFhYXRDxAhhBBCiMOpqanB//zP/2D58uWYN28eAODuu+/GHXfcgTVr1mDLli0hj3e0JKCmpga7d+/G8uXLg/YdOnQIAHD77bfryqdPn462tjbs27dPKxszZozOWFXLevTogWPHjhmeu62tDZcuXTLt21tvvYX8/HxMmjRJK+vVqxemTZuGvXv3or29HQBQW1uL2tpalJaWasYqAMyePRuyLOPtt982PQchhBBCSCrw5ptvIjMzE/fcc49Wlp2djVmzZuFvf/sbzpw5E/J4x3pYFUXBypUrcffdd2P48OFB+9va2gAAOTk5uvLc3FwAwKeffhqy/QsXLuDChQvo2bNn0L4//elPGD16NDweD77xjW9gwYIFKC0t1dU5fPgwRo4cCUmSdOWjRo3C9u3bcfz4cVx11VVaP4qLi3X1rrjiChQUFJj2s6SkJGT/m5qa0KNHD8ycOTNkvXSloKAAAFBXV5fgnjgTjk9oOD6h4fiEhuMTGqeNT+/evfHFF18kuhtR43a7MfiqgeEr2ni+pqamsHbKhx9+qPv98OHDuPLKK9G1a1dd+TXXXANFUXD48GHk5+ebtudYg/W1115DbW0tKioqDPdfeeWVALyeVtHLqg5QOEu9srIS7e3tmDZtmq786quvRklJCQoLC3H+/Hn85je/wU9+8hM0NDSgrKxMq1dfX49x48YFtasO9pkzZ3DVVVdpC7tUeYJInz59wvYzFH/605+Ql5cX9fGpzCeffAIAHB8TOD6h4fiEhuMTGo5PaJw2Ps3NzUGzsMlCosawubnZ8jH19fW44oorgspV+ygpPazNzc1Yu3YtysrKTK3tCRMmoH///li1ahWys7MxfPhwVFdX44UXXkBGRgZaWlpM2//ggw9QUVGBO+64A2PHjtXte/nll3W/z5w5E7Nnz8YvfvEL3HfffdrN0dLSgqysrKC21TL1/Oq/RnWzs7NNZQeB30wCUb/ZhKuXrnB8QsPxCQ3HJzQcn9BwfELD8bGPd999N9FdiJiWlhZkZmYGlWdnZwMAWltbQx7vyK8U69atQ2ZmJh588EHTOtnZ2Vi/fj26d++ORYsW4dZbb8VTTz2FRYsWoXv37oZRBQDg2LFjWLx4MYqKirBy5cqwfXG73Zg7dy4uXbqEjz76SCvPycnRZAkigVIF9V+juq2trUGSBkIIIYSQVCMnJ0db3yOiGqqq4WqG4zysZ86cQWVlJX7wgx/g7NmzWnlrayva29tx8uRJ5OXloXv37hg6dCjeeOMN1NbWoqGhAUOGDEFOTg5WrVqFQYMGBbX95ZdfYv78+cjLy8OGDRtMjdpAVL1NQ0ODVmY2na+WqZ5h1dVdX18f5C2ur68PG8aBEEIIISTZMbObVOlkKP0q4EAP61dffYX29nasWbMGkyZN0n6qq6tx7NgxTJo0CRs3btTqS5KEoUOHoqSkBD169MD7778PWZYxfvx4Xbvnz5/HQw89hLa2Nrzyyivo3bt3xH06ceIEAG8UAJVhw4bhk08+CUpSUFNTgy5dumhxWNUFYx9//LGu3unTp1FXV2e4oIwQQgghJJUYNmwY/vGPf+DChQu68urqam1/KBznYR0wYIDhQqsXX3wRFy9exDPPPGMat7SlpQUvvfQShgwZghtvvFErv3jxIsrKynD69Gls2rTJ0PsKAF9//TUuu+wynfi6tbUVr7zyCrp27YrRo0dr5VOnTsVbb72Fffv2aXFYz507hzfffBOTJk3SdBpDhw7F4MGDsX37dsyaNUsLbbVt2za4XC7cdttt1gaIEEIIISTJmDp1Kn71q1/ht7/9rRaHta2tDTt37sQ3v/lNwwVZIo4zWPPy8jQDUKSyshJut1u3b8mSJSgoKMCQIUPQ1NSEnTt3oq6uDps3b9bFPH3yySdRU1OD7373uzh27Jgu9mrv3r014/add97Byy+/jClTpqB///74+uuvsWvXLnzxxRd49tlndaEYpkyZgtGjR2PZsmVapqtt27ZBluWgRATLli3DwoULMX/+fEyfPh1Hjx7Fli1bUFpaqkU7IIQQQghJVa699lpMnToVa9asQX19PQYOHIhdu3bh1KlTWLVqVdjjHWewWqG4uBi7du3C9u3bkZubi3HjxqG8vByDBw/W1Tty5AgAYMeOHdixY4du39ixYzWD9eqrr8bgwYPx+uuv49y5c8jKysLIkSPx9NNP45ZbbtEd53a7sWHDBqxevRqbN29Ga2srRo0ahZ///OdBHtxbbrkF5eXlKC8vx8qVK9GrVy8sXLgQjz32mN1DQgghhBDiSFavXo0XX3wRr7/+OhoaGlBUVIQNGzbg+uuvD3uspASKMElSwLAgoeH4hIbjExqOT2g4PqHh+ISG40OigQYrIYQQQghxNI6LEkAIIYQQQogIDVZCCCGEEOJoaLASQgghhBBHQ4OVEEIIIYQ4GhqshBBCCCHE0dBgjQEbN25EUVER7rrrLtM6zc3NuPHGG1FUVIS9e/dG3d6cOXNQVFQU9LN06dKgum1tbXj++efx7W9/G9dccw2+973v4eDBg4bnPHToEO677z5ce+21uPHGG/HTn/4Uly5dCnPlkRGv8Tl58qTh2Kg/P/7xj7W677//vmk9MdGEipPHJ1bXkir3T6Tjc+nSJWzZsgUPPvggvv3tb+O6667DjBkzsG3bNng8nqjaVEmF8QHS8/kT6fik6/NHpaamBmVlZRgzZgyuu+46/Nu//Rt27twZVG/fvn2YMWMGRo0ahYkTJ6K8vBwdHR1B9RobG7FixQqMGzcOo0ePxgMPPIDDhw8bnjvSNklykdSJA5xIfX091q1bhy5duoSsV1FRgYsXL9rSXr9+/fDEE0/oyvr37x9U7+mnn8bbb7+NBx54AIMGDcKuXbuwYMECbN68Gdddd51W7/Dhw5g3bx6GDBmCp59+GnV1dfjVr36FkydP4uWXXw7b585eD2DP+PTq1QurV68OKj9w4AD27NmjS9+rMnfuXIwcOVJXFpguLlnGx+5rSbX7J9z4nDhxAitXrsT48eMxb948dOvWDX/84x/x7LPP4v/+7//w/9u7/6iqyzuA429AQAkoCBVLSewIJP4A/IkLXYEIDpds+ONgLJZGskYqBrJlOytctIaViZa5IuecQzsGYjPMzmRHSRI1EUoIcyoqCmggcPh5v/uDc7/jygXuVcALfF7ncI4893Of7/P9+PDw8L3P9/m+/vrrRtcJ/Sc/WgN1/OkqPwN5/MnOzuaFF15g2rRprFy5kkGDBvHf//6Xq1ev6o2bMWMGr7zyCsXFxWzevJmbN2/yyiuvqHEajYaoqCiKi4vVJ0v+4x//ICIigr179+Li4mJ0naIPUkS3Wrt2rRIREaE8/fTTys9//nO9MT/88IPi6empbNq0SXFzc1O++OKLO66vs+O0dfr0acXNzU1JTU1Vy+rr65WAgAAlPDxcJ3b58uWKn5+fUlNTo5bt3r1bcXNzU3Jycro8Vmd6Oz/6PPPMM4qPj49SX1+vlh07dqzLY2mZen564lz6U/8xND+VlZVKcXFxu/KEhATFzc1NuXjxotF1Kkr/yY+iDMzxx5j86NPfx5/q6mrF19dXSUxM7PJ48+bNU0JDQ5Xm5ma17K233lI8PDyU8+fPq2WfffZZu2NVVlYqU6ZMUeLi4u6oTtH3yJKAbpSfn8++ffv43e9+12lcUlISTzzxBFOnTu2W+gCam5upra3t8PXPP/8cS0tLFi5cqJZZW1sTFhbGiRMnuH79OtD6UU9OTg4LFizgvvvuU2OfeuopbGxsOHDgQJdtudvz6Yn8aF2/fp3c3FwCAwOxtrbWG1NTU9Phx0d9KT/a9nbHufTH/qNtb0f5cXR0ZOzYse3K58yZA8APP/xgdJ39KT9tDcTxR9teYz5qHgjjT2ZmJtXV1axcuVJts6Ln+UQlJSWUlJSwePFiLCws1PLw8HA0Gg0HDx5Uy7Kyshg2bBj+/v5qmaOjI8HBwRw6dIimpiaj6xR9j0xYu4miKCQmJrJgwQIee+yxDuOys7PJyckhLi6uW+oDOHfuHF5eXvj4+PD444/z/vvvo9FodGK+++47XF1ddQY5gIkTJ6IoiroWqKioiObmZsaPH68TZ2VlxWOPPdbhmqGu3Mv8tPWvf/0LjUbD/Pnz9b4eFxfH5MmTmTRpEs8++yxFRUU6r/eV/HT3ufS3/gNd56cjFRUVADg4OBhdZ3/Mz0Acf+DO+s9AGH+++uorxowZQ3Z2NrNnz2by5MlMmzaN5ORknbXf3377LUC7cxk+fDjOzs7q69Dafzw9PTEzM9OJnTBhArW1tVy8eNHoOkXfI2tYu0l6ejolJSVs3ry5w5impiZef/11IiIicHFxabeex9j6AEaNGsX06dNxd3enpqaG/fv38/bbb3PlyhVee+01Na68vFzv+rOhQ4cCqFc4ysvLdcpvj/3mm286bc/dnE9P5Od2+/btY+jQocyYMUOn3NLSkrlz5zJr1iwcHBwoKirio48+Ijw8nE8++QRXV1egb+SnJ86lP/UfQ/OjT2NjI9u3b8fFxUXnl+JA7D8wMMefu+k/A2H8uXDhAmVlZSQkJLB8+XLGjRvHv//9b7Zt20ZDQwMvv/yyQeei7RPa2NtzBjBs2DCgtf88+uijRtUp+h6ZsHaDmpoaNmzYQFRUlPoDpM/f/vY3qqqqiI6O7pb6gHY3foSGhrJy5Up2795NZGQkY8aMAaC+vh5LS8t279d+LNXQ0KDGQetf7Ppita8b417mp63z589TWFhIZGQk5ua6Hy74+Pjg4+Ojfu/v78+TTz7JL3/5S1JSUtiwYQPQN/LTE+fSn/qPofnRJzExkXPnzrFt2zadPjQQ+w8MzPHnTvvPQBl/6urqqKqqYs2aNURFRQEQGBhIXV0du3btIjo6GkdHxy7Ppe2uB/X19XrjtGXauoypU/Q9siSgG7z33ntYWlry61//usOYiooKtmzZQkxMDPb29nddX2eeffZZFEUhNzdXLRs8eLC6zqct7S8K7S+OwYMHA61XkvTFal83hqnkJzMzE6DDj+Nu5+Hhga+vL8eOHVPL+kJ+9Lnbc+lP/Ucfffm53V//+ld2795NbGwsfn5+d1Rnf86PVn8ff/QxJD8DZfzRtiEkJESnfP78+TQ1NXHmzBmdOEPHH31x2jJtbE/kR5gOmbDepevXr7N9+3bCw8OpqKigtLSU0tJSGhoaaGpqorS0lKqqKt5//33s7Ox4/PHH1RjtWrjKykpKS0tRFMXg+jrj7OwMoBPX0cch2o9QtH9Zaz9K0ZbfHmvMFU1Ty8/+/ftxdXVtt76pMyNGjGiXR20ubmcK+empc+kv/aczt+enrb1795KcnMzSpUvVq0aG6M/9pyP9efzpTFf5GSjjj7aNTk5OOsfSfq89n+4Yf7RlPdV/hGmRJQF3qbKykqamJpKTk0lOTm73ur+/P8899xxXrlzh6tWrBAYGtov5wx/+ALTepWlofS+99FKHbbp06RLQehelloeHBzt27KC2tlbnxofTp0+rrwO4ubkxaNAgCgoKdNra2NjId999Z/DVAS1Tyc/p06e5cOECL774olHtv3Tpks7NNaaen47uPL7bc+kv/ceY/GgdOnSIdevWERgYqLPZuyH6c//pLA765/hzp/kZSOOPp6cnOTk5XLt2jVGjRqlxZWVlwP/7hfbmroKCAp29Z69du0ZZWZnOzV8eHh6cOnUKRVF0brzKz8/HxsZG3YfVmDpF3yMT1rs0cuRIvQvV33nnHerq6vj973/P6NGjqa2t5Re/+IVOTHFxMRs3biQqKopJkyZhaWlpcH3QuvbIyspKZ71OS0sLW7duxdzcHF9fX7U8KCiIjz76iD179hAZGQm0DnJ79+7Fx8dHvSHCzs4OX19fMjIyeP7559VfLhkZGdTV1REUFNRn8tNWVx/H3bhxQ+cXLEBeXh65ubksWLBALTP1/PTUufSX/mNMfgCOHz9ObGwsU6ZMITk5ud3aQ62B2H8G4vhjTH7aGkjjT1BQENu2beOTTz5Rn3imKAp79uzBxsYGLy8vAMaOHcuYMWNIS0sjLCxM3YZq165dmJub60yOg4KCyMrK4ssvvyQgIEDN2eeff46/v796bGPqFH2PTFjvkp2dnfoD1Nb27duxsLDQ+1rb9wJMmjRJjTOmvsLCQtasWUNISAguLi7U1dVx4MABCgoKeO6553T+up00aRJBQUEkJydTXl6Oi4sLn376KVeuXCEpKUnnWKtXr2bJkiVERESwcOFCysrKSE1NZdasWcycObPP5EerpaWFAwcO4OXlpfNElLZWrVrFkCFD8Pb2xsHBge+//560tDQcHByIiYnRiTXl/PTUufSX/mNMfi5fvkx0dDRmZmbMnTu33R6XPj4+6s/YQOw/A3H8MSY/WgNt/Bk/fjwLFixg69atVFZWMm7cOLKzszly5AhxcXHY2tqqsfHx8URHR7Ns2TLmzZtHcXExO3fuZPHixTq7LcydOxcvLy/i4+PVJ13t2rULjUbTLj+G1in6Hpmw9mEPPfQQPj4+HDx4kIqKCszNzRk7dixvvPEGoaGh7eLffPNN3nnnHTIyMqiqqsLd3Z0PPviAyZMn68R5enqSmppKcnIySUlJ2NrasmjRImJjY3vr1LpVTk4OFRUVrFixosOYgIAAMjMzSU1NpaamBkdHR0JCQoiJieGhhx7SiTX1/PTUufSX/mNofkpLS7l16xaAzhZNWklJSeqkbCD2n4E6/hjzfw0Db/yB1t00RowYQXp6Ounp6YwcOZJXX32VJUuW6MQ98cQTpKSkkJKSQmJiIo6OjkRHR/Ob3/xGJ87CwoIPPviAN998kx07dtDQ0MCECRP485//zCOPPHJHdYq+x0zpaiW5EEIIIYQQ95DsEiCEEEIIIUyaTFiFEEIIIYRJkwmrEEIIIYQwaTJhFUIIIYQQJk0mrEIIIYQQwqTJhFUIIYQQQpg0mbAKIYQQeh3vcQAACOZJREFUQgiTJhNWIYQwMUePHsXd3Z21a9f22jE1Gg1BQUF4e3tTUVHRa8cVQghDyIRVCGGyEhIScHd3N+jr448/vqtjVVdXs2nTJjZt2tQ9jb9DiqKwYcMGzM3Nef7553vtuNrj1dXVsWXLll47rhBCGEImrEIIk2dpaYmTk1OnXzY2Nnd1jOrqavWRjvfSgQMHKCwsJCgoiDFjxvTqsefPn8/IkSPZvXs3ly5d6tVjCyFEZwbd6wYIIURXvL292bFjx71uRq9ITU0FYNGiRb1+7EGDBhEaGsqmTZvYuXMnCQkJvd4GIYTQR66wCiGEiSgqKiI/P5+hQ4cyffr0e9KGn/3sZwBkZGTQ1NR0T9oghBC3kyusQoh+SaPRkJ6ezqeffkpxcTE1NTXY2dnx4IMPMnHiRIKDg5k1axYAERERfP311+p73d3dder67W9/S0xMjE5ZaWkpqampHDlyhLKyMszNzXF1dSUoKIinn376jpYo7N27F4DAwEDMzdtfTygtLcXf3x/4/+T2vffe49SpUzQ0NODu7k50dDSzZ88GoLGxkY8//ph9+/Zx6dIl7rvvPgICAoiNjeWBBx7Q2wZXV1c8PDw4e/Yshw8fZs6cOUafhxBCdDeZsAoh+qW4uDj279+vfm9nZ0dNTQ03b96kpKSEc+fOqRPW+++/HwcHB27evAmAk5OTTl23Tz4PHjzISy+9RENDAwBDhgyhqamJwsJCCgsLyczMJDU1tV09XTl69CgAPj4+XcYeOnSIVatW0dzcjK2tLXV1dZw6dYoVK1bw1ltv8eSTT7J8+XK+/vprrK2tMTMzo7KykrS0NM6cOUNaWhpWVlZ66/bx8eHs2bMcOXJEJqxCCJMgE1YhRL9z/Phx9u/fj4WFBfHx8YSFhWFra4uiKJSXl3P06FGKi4vV+JSUFJ2rl9qJoz75+fnExsaiKAorVqwgPDyc4cOH09LSQn5+PuvXr6egoIC1a9fy4YcfGtzmqqoqSkpKAPD09OwyPiEhgaeeeorVq1fj5OTEjRs3WLduHV9++SVJSUkcP36c8+fPs3XrVvz8/AA4fPgwcXFxfPvtt+zZs4elS5fqrXv8+PEAnDhxwuD2CyFET5IJqxDC5J06dYqf/OQnncZkZWVha2sLwDfffAPAzJkziYyMVGPMzMwYNmwYoaGhd9yWpKQkmpqaePXVV1myZIlabmFhgbe3Nx9++CEhISEcOXKEM2fOMGHCBIPqLSgoQFEUrK2tGT16dJfx48aN409/+pP6vaOjI8nJyfj5+XHt2jV27tzJ3//+d6ZOnarG+Pv7s2zZMt59912ysrI6nLB6eHgAUFJSQk1NjZpXIYS4V+SmKyGEyWtqaqKioqLTL41Go8ZrJ1g3btzQKb9bFy9e5OTJk9jb2xMWFqY35oEHHlCXGuTk5Bhcd3l5ufp+MzOzLuOjoqLaldnY2ODl5QW07qzQdrKq5evrC8D333/fYd0ODg5A656wlZWVXTdeCCF6mFxhFUKYvGnTphm1rZWvry+WlpYUFhYSERHBokWLmDFjBsOHD7+rdpw8eRKAuro69cYmferq6gC4evWqwXVr18/ef//9BsW7ubnpLXd0dOz0de262urq6g7rtre312nXI488YlCbhBCip8iEVQjR74wePZo//vGPJCYmkpeXR15eHgAPP/wwfn5+LF68mHHjxhldr/YqaHNzs0GPL62vrze47sbGRqD1IQmGGDZsmN5yCwsLAIYOHar3de3uA83NzR3WbW1trf7bmHMQQoieIhNWIUS/FBYWxk9/+lM+++wzcnNzOXHiBJcvX+af//wnaWlprFq1ihUrVhhVp6IoQOsaz4yMjG5tr/bKamdXPntL2zZ0tP2VEEL0JlnDKoTot5ycnHjmmWfYsmULx44dY8+ePcyZMwdFUdi4cSNnz541qr4HH3wQgLKysm5vq3bdqClMWKuqqtR/a9slhBD3kkxYhRADgpmZGRMnTmTjxo04Ozuj0Wh0tm1qu1G/9krq7bQ3NP3444+cPn26W9vn6uoKtE5Y7/Wk9fLly0Dr3rUdLS0QQojeJBNWIUS/o10Pqo+FhQWDBrWuhmr76NG2Wzd1NGF89NFH1UnrX/7yl04fXVpfX99pO243duxY7O3tURSFwsJCg9/XE86cOQO07jSg74lbQgjR22QkEkL0O2+//TYvvvgihw4d4scff1TLKyoqWL9+PaWlpZiZmTFz5kz1NXt7e/VGJu0jUvV5+eWXsbKy4vjx40RGRpKXl6dundXS0kJRUREpKSkEBARw/fp1g9tsZmaGt7c38P8J472iPb6+bbGEEOJekJuuhBAmz5AHBwQHB7Nu3Tqg9Q74rKwssrKyANSnXNXW1qrxq1atarf108KFC9m8eTNvvPEG7777rrp+81e/+pX6AIKJEyeSkpLCmjVryMvLY+nSpVhZWWFjY0Ntba3OVVdD9lNta968eWRnZ3P48GG9+6z2hvr6enJzczEzMyM4OPietEEIIW4nE1YhhMnTPjigMzU1Neq/IyMjcXFx4auvvuLcuXOUl5fT2NjIiBEj8Pb2ZunSpUyZMqVdHS+88AJDhgwhMzOTixcvqms5b926pRM3e/ZssrKy2LFjB//5z3+4cOECt27dws7ODldXV6ZOnUpQUBAPP/ywUec5d+5c1q9fz8mTJykrK8PZ2dmo93eHw4cPU1tby/Tp0xk1alSvH18IIfQxUzq6u0AIIUSve+2119i5cyfx8fEsW7as148fExPDwYMH2bBhAyEhIb1+fCGE0EcmrEIIYULKysoIDAzE0dGRL774wuAHCXSHCxcuEBwcjKurK5mZmXLDlRDCZMhoJIQQJsTZ2ZmIiAiuXr1Kenp6rx5769attLS0sHr1apmsCiFMiqxhFUIIExMVFcXgwYPVx6z2Bo1Gg4uLC/Hx8QQEBPTacYUQwhCyJEAIIYQQQpg0+cxHCCGEEEKYNJmwCiGEEEIIkyYTViGEEEIIYdJkwiqEEEIIIUyaTFiFEEIIIYRJkwmrEEIIIYQwaf8DFmfPzMc+ClUAAAAASUVORK5CYII=\n",
        "metadata": {
         "tags": []
        },
        "output_type": "display_data",
        "text/plain": "<Figure size 1080x720 with 2 Axes>"
       }
      ]
     }
    },
    "3a44a2edf23e4cec9aef557aeacd598a": {
     "model_module": "@jupyter-widgets/base",
     "model_name": "LayoutModel",
     "state": {
      "_model_module": "@jupyter-widgets/base",
      "_model_module_version": "1.2.0",
      "_model_name": "LayoutModel",
      "_view_count": null,
      "_view_module": "@jupyter-widgets/base",
      "_view_module_version": "1.2.0",
      "_view_name": "LayoutView",
      "align_content": null,
      "align_items": null,
      "align_self": null,
      "border": null,
      "bottom": null,
      "display": null,
      "flex": null,
      "flex_flow": null,
      "grid_area": null,
      "grid_auto_columns": null,
      "grid_auto_flow": null,
      "grid_auto_rows": null,
      "grid_column": null,
      "grid_gap": null,
      "grid_row": null,
      "grid_template_areas": null,
      "grid_template_columns": null,
      "grid_template_rows": null,
      "height": null,
      "justify_content": null,
      "justify_items": null,
      "left": null,
      "margin": null,
      "max_height": null,
      "max_width": null,
      "min_height": null,
      "min_width": null,
      "object_fit": null,
      "object_position": null,
      "order": null,
      "overflow": null,
      "overflow_x": null,
      "overflow_y": null,
      "padding": null,
      "right": null,
      "top": null,
      "visibility": null,
      "width": null
     }
    },
    "3ee5e2a9c01645e8bb5ceea05bfc4381": {
     "model_module": "@jupyter-widgets/base",
     "model_name": "LayoutModel",
     "state": {
      "_model_module": "@jupyter-widgets/base",
      "_model_module_version": "1.2.0",
      "_model_name": "LayoutModel",
      "_view_count": null,
      "_view_module": "@jupyter-widgets/base",
      "_view_module_version": "1.2.0",
      "_view_name": "LayoutView",
      "align_content": null,
      "align_items": null,
      "align_self": null,
      "border": null,
      "bottom": null,
      "display": null,
      "flex": null,
      "flex_flow": null,
      "grid_area": null,
      "grid_auto_columns": null,
      "grid_auto_flow": null,
      "grid_auto_rows": null,
      "grid_column": null,
      "grid_gap": null,
      "grid_row": null,
      "grid_template_areas": null,
      "grid_template_columns": null,
      "grid_template_rows": null,
      "height": null,
      "justify_content": null,
      "justify_items": null,
      "left": null,
      "margin": null,
      "max_height": null,
      "max_width": null,
      "min_height": null,
      "min_width": null,
      "object_fit": null,
      "object_position": null,
      "order": null,
      "overflow": null,
      "overflow_x": null,
      "overflow_y": null,
      "padding": null,
      "right": null,
      "top": null,
      "visibility": null,
      "width": null
     }
    },
    "40fb129206cf4ed3ad61b8a079a35143": {
     "model_module": "@jupyter-widgets/base",
     "model_name": "LayoutModel",
     "state": {
      "_model_module": "@jupyter-widgets/base",
      "_model_module_version": "1.2.0",
      "_model_name": "LayoutModel",
      "_view_count": null,
      "_view_module": "@jupyter-widgets/base",
      "_view_module_version": "1.2.0",
      "_view_name": "LayoutView",
      "align_content": null,
      "align_items": null,
      "align_self": null,
      "border": null,
      "bottom": null,
      "display": null,
      "flex": null,
      "flex_flow": null,
      "grid_area": null,
      "grid_auto_columns": null,
      "grid_auto_flow": null,
      "grid_auto_rows": null,
      "grid_column": null,
      "grid_gap": null,
      "grid_row": null,
      "grid_template_areas": null,
      "grid_template_columns": null,
      "grid_template_rows": null,
      "height": null,
      "justify_content": null,
      "justify_items": null,
      "left": null,
      "margin": null,
      "max_height": null,
      "max_width": null,
      "min_height": null,
      "min_width": null,
      "object_fit": null,
      "object_position": null,
      "order": null,
      "overflow": null,
      "overflow_x": null,
      "overflow_y": null,
      "padding": null,
      "right": null,
      "top": null,
      "visibility": null,
      "width": null
     }
    },
    "46eb276e624b4cd9bf98d0f67020b624": {
     "model_module": "@jupyter-widgets/controls",
     "model_name": "VBoxModel",
     "state": {
      "_dom_classes": [
       "widget-interact"
      ],
      "_model_module": "@jupyter-widgets/controls",
      "_model_module_version": "1.5.0",
      "_model_name": "VBoxModel",
      "_view_count": null,
      "_view_module": "@jupyter-widgets/controls",
      "_view_module_version": "1.5.0",
      "_view_name": "VBoxView",
      "box_style": "",
      "children": [
       "IPY_MODEL_de7d075e1e6a4405bdc65f217419c804",
       "IPY_MODEL_db6040ef395d4b96adb7d232fc51bcd9",
       "IPY_MODEL_9f69d78920e4442f91be4bc9e8552baf"
      ],
      "layout": "IPY_MODEL_6f309854d02e428b88cd6a293d365cb3"
     }
    },
    "561fe2689a174f84a560fc3ed320d8b8": {
     "model_module": "@jupyter-widgets/base",
     "model_name": "LayoutModel",
     "state": {
      "_model_module": "@jupyter-widgets/base",
      "_model_module_version": "1.2.0",
      "_model_name": "LayoutModel",
      "_view_count": null,
      "_view_module": "@jupyter-widgets/base",
      "_view_module_version": "1.2.0",
      "_view_name": "LayoutView",
      "align_content": null,
      "align_items": null,
      "align_self": null,
      "border": null,
      "bottom": null,
      "display": null,
      "flex": null,
      "flex_flow": null,
      "grid_area": null,
      "grid_auto_columns": null,
      "grid_auto_flow": null,
      "grid_auto_rows": null,
      "grid_column": null,
      "grid_gap": null,
      "grid_row": null,
      "grid_template_areas": null,
      "grid_template_columns": null,
      "grid_template_rows": null,
      "height": null,
      "justify_content": null,
      "justify_items": null,
      "left": null,
      "margin": null,
      "max_height": null,
      "max_width": null,
      "min_height": null,
      "min_width": null,
      "object_fit": null,
      "object_position": null,
      "order": null,
      "overflow": null,
      "overflow_x": null,
      "overflow_y": null,
      "padding": null,
      "right": null,
      "top": null,
      "visibility": null,
      "width": null
     }
    },
    "6f309854d02e428b88cd6a293d365cb3": {
     "model_module": "@jupyter-widgets/base",
     "model_name": "LayoutModel",
     "state": {
      "_model_module": "@jupyter-widgets/base",
      "_model_module_version": "1.2.0",
      "_model_name": "LayoutModel",
      "_view_count": null,
      "_view_module": "@jupyter-widgets/base",
      "_view_module_version": "1.2.0",
      "_view_name": "LayoutView",
      "align_content": null,
      "align_items": null,
      "align_self": null,
      "border": null,
      "bottom": null,
      "display": null,
      "flex": null,
      "flex_flow": null,
      "grid_area": null,
      "grid_auto_columns": null,
      "grid_auto_flow": null,
      "grid_auto_rows": null,
      "grid_column": null,
      "grid_gap": null,
      "grid_row": null,
      "grid_template_areas": null,
      "grid_template_columns": null,
      "grid_template_rows": null,
      "height": null,
      "justify_content": null,
      "justify_items": null,
      "left": null,
      "margin": null,
      "max_height": null,
      "max_width": null,
      "min_height": null,
      "min_width": null,
      "object_fit": null,
      "object_position": null,
      "order": null,
      "overflow": null,
      "overflow_x": null,
      "overflow_y": null,
      "padding": null,
      "right": null,
      "top": null,
      "visibility": null,
      "width": null
     }
    },
    "92bc210b18ee4835bf952c5b17ed1643": {
     "model_module": "@jupyter-widgets/base",
     "model_name": "LayoutModel",
     "state": {
      "_model_module": "@jupyter-widgets/base",
      "_model_module_version": "1.2.0",
      "_model_name": "LayoutModel",
      "_view_count": null,
      "_view_module": "@jupyter-widgets/base",
      "_view_module_version": "1.2.0",
      "_view_name": "LayoutView",
      "align_content": null,
      "align_items": null,
      "align_self": null,
      "border": null,
      "bottom": null,
      "display": null,
      "flex": null,
      "flex_flow": null,
      "grid_area": null,
      "grid_auto_columns": null,
      "grid_auto_flow": null,
      "grid_auto_rows": null,
      "grid_column": null,
      "grid_gap": null,
      "grid_row": null,
      "grid_template_areas": null,
      "grid_template_columns": null,
      "grid_template_rows": null,
      "height": null,
      "justify_content": null,
      "justify_items": null,
      "left": null,
      "margin": null,
      "max_height": null,
      "max_width": null,
      "min_height": null,
      "min_width": null,
      "object_fit": null,
      "object_position": null,
      "order": null,
      "overflow": null,
      "overflow_x": null,
      "overflow_y": null,
      "padding": null,
      "right": null,
      "top": null,
      "visibility": null,
      "width": null
     }
    },
    "9f69d78920e4442f91be4bc9e8552baf": {
     "model_module": "@jupyter-widgets/output",
     "model_name": "OutputModel",
     "state": {
      "_dom_classes": [],
      "_model_module": "@jupyter-widgets/output",
      "_model_module_version": "1.0.0",
      "_model_name": "OutputModel",
      "_view_count": null,
      "_view_module": "@jupyter-widgets/output",
      "_view_module_version": "1.0.0",
      "_view_name": "OutputView",
      "layout": "IPY_MODEL_3ee5e2a9c01645e8bb5ceea05bfc4381",
      "msg_id": "",
      "outputs": [
       {
        "image/png": "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\n",
        "metadata": {
         "tags": []
        },
        "output_type": "display_data",
        "text/plain": "<Figure size 1080x720 with 2 Axes>"
       }
      ]
     }
    },
    "a76111532046428c883e09077f7aea2b": {
     "model_module": "@jupyter-widgets/base",
     "model_name": "LayoutModel",
     "state": {
      "_model_module": "@jupyter-widgets/base",
      "_model_module_version": "1.2.0",
      "_model_name": "LayoutModel",
      "_view_count": null,
      "_view_module": "@jupyter-widgets/base",
      "_view_module_version": "1.2.0",
      "_view_name": "LayoutView",
      "align_content": null,
      "align_items": null,
      "align_self": null,
      "border": null,
      "bottom": null,
      "display": null,
      "flex": null,
      "flex_flow": null,
      "grid_area": null,
      "grid_auto_columns": null,
      "grid_auto_flow": null,
      "grid_auto_rows": null,
      "grid_column": null,
      "grid_gap": null,
      "grid_row": null,
      "grid_template_areas": null,
      "grid_template_columns": null,
      "grid_template_rows": null,
      "height": null,
      "justify_content": null,
      "justify_items": null,
      "left": null,
      "margin": null,
      "max_height": null,
      "max_width": null,
      "min_height": null,
      "min_width": null,
      "object_fit": null,
      "object_position": null,
      "order": null,
      "overflow": null,
      "overflow_x": null,
      "overflow_y": null,
      "padding": null,
      "right": null,
      "top": null,
      "visibility": null,
      "width": null
     }
    },
    "beca83ef666d4ad4846570dd41d30e90": {
     "model_module": "@jupyter-widgets/controls",
     "model_name": "DescriptionStyleModel",
     "state": {
      "_model_module": "@jupyter-widgets/controls",
      "_model_module_version": "1.5.0",
      "_model_name": "DescriptionStyleModel",
      "_view_count": null,
      "_view_module": "@jupyter-widgets/base",
      "_view_module_version": "1.2.0",
      "_view_name": "StyleView",
      "description_width": ""
     }
    },
    "c9ecc80d774849b18775c0ed1dae4c68": {
     "model_module": "@jupyter-widgets/controls",
     "model_name": "IntSliderModel",
     "state": {
      "_dom_classes": [],
      "_model_module": "@jupyter-widgets/controls",
      "_model_module_version": "1.5.0",
      "_model_name": "IntSliderModel",
      "_view_count": null,
      "_view_module": "@jupyter-widgets/controls",
      "_view_module_version": "1.5.0",
      "_view_name": "IntSliderView",
      "continuous_update": true,
      "description": "n",
      "description_tooltip": null,
      "disabled": false,
      "layout": "IPY_MODEL_40fb129206cf4ed3ad61b8a079a35143",
      "max": 105,
      "min": 10,
      "orientation": "horizontal",
      "readout": true,
      "readout_format": "d",
      "step": 10,
      "style": "IPY_MODEL_34fb6982fca343a8b773c64cc9a76fe8",
      "value": 50
     }
    },
    "d128100f8c85496da946ff937d77991c": {
     "model_module": "@jupyter-widgets/controls",
     "model_name": "SliderStyleModel",
     "state": {
      "_model_module": "@jupyter-widgets/controls",
      "_model_module_version": "1.5.0",
      "_model_name": "SliderStyleModel",
      "_view_count": null,
      "_view_module": "@jupyter-widgets/base",
      "_view_module_version": "1.2.0",
      "_view_name": "StyleView",
      "description_width": "",
      "handle_color": null
     }
    },
    "d3a0baa016ba4678870f0560c3848986": {
     "model_module": "@jupyter-widgets/base",
     "model_name": "LayoutModel",
     "state": {
      "_model_module": "@jupyter-widgets/base",
      "_model_module_version": "1.2.0",
      "_model_name": "LayoutModel",
      "_view_count": null,
      "_view_module": "@jupyter-widgets/base",
      "_view_module_version": "1.2.0",
      "_view_name": "LayoutView",
      "align_content": null,
      "align_items": null,
      "align_self": null,
      "border": null,
      "bottom": null,
      "display": null,
      "flex": null,
      "flex_flow": null,
      "grid_area": null,
      "grid_auto_columns": null,
      "grid_auto_flow": null,
      "grid_auto_rows": null,
      "grid_column": null,
      "grid_gap": null,
      "grid_row": null,
      "grid_template_areas": null,
      "grid_template_columns": null,
      "grid_template_rows": null,
      "height": null,
      "justify_content": null,
      "justify_items": null,
      "left": null,
      "margin": null,
      "max_height": null,
      "max_width": null,
      "min_height": null,
      "min_width": null,
      "object_fit": null,
      "object_position": null,
      "order": null,
      "overflow": null,
      "overflow_x": null,
      "overflow_y": null,
      "padding": null,
      "right": null,
      "top": null,
      "visibility": null,
      "width": null
     }
    },
    "db6040ef395d4b96adb7d232fc51bcd9": {
     "model_module": "@jupyter-widgets/controls",
     "model_name": "DropdownModel",
     "state": {
      "_dom_classes": [],
      "_model_module": "@jupyter-widgets/controls",
      "_model_module_version": "1.5.0",
      "_model_name": "DropdownModel",
      "_options_labels": [
       "CU_pct",
       "MO_ppm",
       "LITO"
      ],
      "_view_count": null,
      "_view_module": "@jupyter-widgets/controls",
      "_view_module_version": "1.5.0",
      "_view_name": "DropdownView",
      "description": "col",
      "description_tooltip": null,
      "disabled": false,
      "index": 0,
      "layout": "IPY_MODEL_a76111532046428c883e09077f7aea2b",
      "style": "IPY_MODEL_31c02ed1be0f404abc172e29cc780ab4"
     }
    },
    "de7d075e1e6a4405bdc65f217419c804": {
     "model_module": "@jupyter-widgets/controls",
     "model_name": "IntSliderModel",
     "state": {
      "_dom_classes": [],
      "_model_module": "@jupyter-widgets/controls",
      "_model_module_version": "1.5.0",
      "_model_name": "IntSliderModel",
      "_view_count": null,
      "_view_module": "@jupyter-widgets/controls",
      "_view_module_version": "1.5.0",
      "_view_name": "IntSliderView",
      "continuous_update": true,
      "description": "n",
      "description_tooltip": null,
      "disabled": false,
      "layout": "IPY_MODEL_561fe2689a174f84a560fc3ed320d8b8",
      "max": 168,
      "min": 10,
      "orientation": "horizontal",
      "readout": true,
      "readout_format": "d",
      "step": 10,
      "style": "IPY_MODEL_d128100f8c85496da946ff937d77991c",
      "value": 80
     }
    }
   }
  }
 },
 "nbformat": 4,
 "nbformat_minor": 4
}
