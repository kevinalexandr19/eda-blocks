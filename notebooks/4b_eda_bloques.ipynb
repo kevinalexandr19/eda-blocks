{
 "cells": [
  {
   "cell_type": "markdown",
   "id": "efeb6d55-0b9c-4707-a696-c2bd8f2bea66",
   "metadata": {
    "tags": []
   },
   "source": [
    "# <span style=\"color:gold\">**Análisis exploratorio de datos en un Modelo de Bloques (Parte 2)**</span>\n",
    "***\n",
    "\n",
    "### **Editado por: Kevin Alexander Gómez**\n",
    "#### Contacto: kevinalexandr19@gmail.com | [Linkedin](https://www.linkedin.com/in/kevin-alexander-g%C3%B3mez-2b0263111/) | [Github](https://github.com/kevinalexandr19)\n",
    "***"
   ]
  },
  {
   "cell_type": "markdown",
   "id": "bd24615b-db1b-49d5-8e8e-9be4d9d18a72",
   "metadata": {
    "tags": []
   },
   "source": [
    "### **Descripción**\n",
    "\n",
    "En este notebook, desarrollaremos un flujo de trabajo para el análisis exploratorio de datos usando un <span style=\"color:gold\">modelo de bloques</span> dentro de Python.\n",
    "\n",
    "Este Notebook es parte del proyecto [**Python para Geólogos**](https://github.com/kevinalexandr19/manual-python-geologia), y ha sido creado con la finalidad de facilitar el aprendizaje en Python para estudiantes y profesionales en el campo de la Geología.\n",
    "***"
   ]
  },
  {
   "cell_type": "code",
   "execution_count": null,
   "id": "f4ddefbe-baef-4b5a-820b-0bd1c93fdd7b",
   "metadata": {},
   "outputs": [],
   "source": [
    "import numpy as np\n",
    "import pandas as pd\n",
    "import matplotlib.pyplot as plt\n",
    "import seaborn as sns\n",
    "import ipywidgets as widgets  # Widgets de Jupyter\n",
    "from tqdm import tqdm         # Barra de progreso en bucles\n",
    "\n",
    "# Estilo de visualización\n",
    "sns.set(style=\"ticks\", context=\"talk\")\n",
    "\n",
    "# Número de decimales a mostrar en un DataFrame\n",
    "pd.set_option(\"display.float_format\", lambda x: f\"{x:.5f}\")"
   ]
  },
  {
   "cell_type": "markdown",
   "id": "5017cfbd-2391-4465-be8a-2e03ca861b45",
   "metadata": {},
   "source": [
    "Cargaremos el archivo que generamos en la primera parte, llamado `modelo.csv`:"
   ]
  },
  {
   "cell_type": "code",
   "execution_count": null,
   "id": "f67f15c9-1975-4e56-9998-d898a3998f8a",
   "metadata": {},
   "outputs": [],
   "source": [
    "modelo = pd.read_csv(\"modelo.csv\")"
   ]
  },
  {
   "cell_type": "code",
   "execution_count": null,
   "id": "92229285-fdb5-45a2-bb8c-06f57babd97a",
   "metadata": {},
   "outputs": [],
   "source": [
    "modelo.head()"
   ]
  },
  {
   "cell_type": "markdown",
   "id": "29488f9b-61d1-451f-a342-3001182bade9",
   "metadata": {},
   "source": [
    "Ahora que ya tenemos cargada la información dentro de Python, crearemos herramientas de visualización interactiva 2D y 3D para entender mejor el modelo."
   ]
  },
  {
   "cell_type": "markdown",
   "id": "e5e257e2-9a5d-46c8-bf91-4bff7b2a1521",
   "metadata": {
    "id": "a5PAL5iIZkD3",
    "tags": []
   },
   "source": [
    "# **4. Visualización de datos**\n",
    "\n",
    "Antes de crear los gráficos, crearemos columnas que contengan los colores específicos de cada categoría en Cu, Mo y litología.\\\n",
    "Para realizar esta tarea, usaremos el método `map` que evalúa cada fila del DataFrame en base a los valores de un diccionario:"
   ]
  },
  {
   "cell_type": "code",
   "execution_count": null,
   "id": "0fd2bf57-b6e6-4755-b517-af1e3d57ea6b",
   "metadata": {},
   "outputs": [],
   "source": [
    "print(modelo[\"LITO\"].unique())\n",
    "print(modelo[\"CU\"].unique())\n",
    "print(modelo[\"MO\"].unique())"
   ]
  },
  {
   "cell_type": "code",
   "execution_count": null,
   "id": "df72082d-5243-478f-b787-1e4b3534fc5e",
   "metadata": {},
   "outputs": [],
   "source": [
    "color_lito = {\"CUATERNARIO\": \"gray\", \"ESQUISTO\": \"maroon\", \"ANDESITA\": \"red\", \"DIQUES\": \"yellow\", \"PORFIDO\": \"blue\", \"INTRAMINERAL\": \"green\"}\n",
    "modelo[\"Color_LITO\"] = modelo[\"LITO\"].map(color_lito)\n",
    "\n",
    "color_cu = {\"Cu < 1.0 %\": \"blue\", \"1.0 <= Cu < 2.0 %\": \"yellow\", \"Cu >= 2.0 %\": \"red\"}\n",
    "modelo[\"Color_CU\"] = modelo[\"CU\"].map(color_cu)\n",
    "\n",
    "color_mo = {\"Mo < 200 ppm\": \"blue\", \"200 <= Mo < 400 ppm\": \"yellow\", \"Mo >= 400 ppm\": \"red\"}\n",
    "modelo[\"Color_MO\"] = modelo[\"MO\"].map(color_mo)"
   ]
  },
  {
   "cell_type": "code",
   "execution_count": null,
   "id": "263a0c52-ccf8-4509-a6f7-681e4dea1e97",
   "metadata": {},
   "outputs": [],
   "source": [
    "modelo.head()"
   ]
  },
  {
   "cell_type": "markdown",
   "id": "2756b566-ca7f-42a3-82c1-7fbff940e8b0",
   "metadata": {},
   "source": [
    "## **4.1. Visualización 2D del modelo de bloques**\n",
    "Para visualizar el modelo de bloques, empezaremos con figuras en 2 dimensiones (planos y secciones).\\\n",
    "Empezaremos creando listas con los valores únicos de coordenadas X, Y, Z:"
   ]
  },
  {
   "cell_type": "code",
   "execution_count": null,
   "id": "7adececa-dfb5-48d5-b527-b411e4f1d2ba",
   "metadata": {
    "colab": {
     "base_uri": "https://localhost:8080/"
    },
    "executionInfo": {
     "elapsed": 7,
     "status": "ok",
     "timestamp": 1621630311522,
     "user": {
      "displayName": "Kevin Alexander",
      "photoUrl": "https://lh3.googleusercontent.com/a-/AOh14Gj-Rs-LfklKX8lspYhHOYwfD0WdKiFuf1xpEcgsvw=s64",
      "userId": "13061882144601312071"
     },
     "user_tz": 300
    },
    "id": "6fkgVohNZclZ",
    "outputId": "43a05b11-ee92-424a-e92c-723d19758754"
   },
   "outputs": [],
   "source": [
    "# Creamos una lista por cada eje de coordenadas\n",
    "z = list(modelo[\"Z\"].unique())  # Elevación\n",
    "y = list(modelo[\"Y\"].unique())  # Norte\n",
    "x = list(modelo[\"X\"].unique())  # Este"
   ]
  },
  {
   "cell_type": "code",
   "execution_count": null,
   "id": "370748cc-077a-468a-9a47-4d955a2bd0fe",
   "metadata": {},
   "outputs": [],
   "source": [
    "print(f\"Primeras 10 coordenadas de Z: {z[:10]}\")\n",
    "print(f\"Primeras 10 coordenadas de Y: {y[:10]}\")\n",
    "print(f\"Primeras 10 coordenadas de X: {x[:10]}\")"
   ]
  },
  {
   "cell_type": "markdown",
   "id": "925ac822-b824-4b01-88e2-52de0a96d6e6",
   "metadata": {},
   "source": [
    "Ahora, generamos un resumen de las dimensiones del modelo (coordenadas X, Y, Z):"
   ]
  },
  {
   "cell_type": "code",
   "execution_count": null,
   "id": "8596b5a9-17d0-4dad-9917-023f9ed92f06",
   "metadata": {},
   "outputs": [],
   "source": [
    "# Resumen de la elevación (Z) del modelo\n",
    "print(f\"El modelo se encuentra entre los {min(z):,.0f} y {max(z):,.0f} metros de elevación.\")\n",
    "print(f\"El modelo se eleva {max(z) - min(z):.0f} metros en dirección vertical.\\n\")\n",
    "\n",
    "# Resumen de la coordenada Norte (Y)\n",
    "print(f\"El modelo se ubica entre los {min(y):,.0f} y {max(y):,.0f} metros en dirección Norte.\")\n",
    "print(f\"El modelo se extiende {max(y) - min(y):.0f} metros en dirección Norte.\\n\")\n",
    "\n",
    "# Resumen de la coordenada Este (N)\n",
    "print(f\"El modelo se ubica entre los {min(x):,.0f} y {max(x):,.0f} metros en dirección Este.\")\n",
    "print(f\"El modelo se extiende {max(x) - min(x):.0f} metros en dirección Este.\\n\")\n",
    "\n",
    "# Resumen de las dimensiones en bloques\n",
    "print(f\"El modelo está contenido en un volumen de {len(x)} x {len(y)} x {len(z)} bloques.\")\n",
    "print(f\"Cada bloque mide {x[1] - x[0]} x {y[1] - y[0]} x {z[1] - z[0]} metros.\")"
   ]
  },
  {
   "cell_type": "markdown",
   "id": "5094aadf-47d2-45ed-98ea-767ca0eaaf24",
   "metadata": {
    "id": "vkI5HWkb7fBD"
   },
   "source": [
    "Ahora, crearemos valores de referencia espacial para los gráficos:"
   ]
  },
  {
   "cell_type": "code",
   "execution_count": null,
   "id": "995442fe-f9e8-459f-9d2e-7d045db3c803",
   "metadata": {
    "id": "Z4aYJELY7fUq"
   },
   "outputs": [],
   "source": [
    "# Valores mínimos y máximos de los ejes\n",
    "x_min, x_max = -100, 1500\n",
    "y_min, y_max = -100, 1900\n",
    "z_min, z_max = 0, 1400"
   ]
  },
  {
   "cell_type": "code",
   "execution_count": null,
   "id": "5b8de77b-191b-486d-a445-7d66a43caa38",
   "metadata": {
    "id": "keLdWan8AooE"
   },
   "outputs": [],
   "source": [
    "# Espacios lineales cada 200 metros\n",
    "rango_x = np.arange(x_min + 100, x_max + 200, 200)\n",
    "rango_y = np.arange(y_min + 100, y_max + 200, 200)\n",
    "rango_z = np.arange(z_min, z_max + 200, 200)"
   ]
  },
  {
   "cell_type": "markdown",
   "id": "d87c4082-d13a-4b57-a926-a43da087030f",
   "metadata": {
    "id": "N1mfHXkGvXS9"
   },
   "source": [
    "Empezaremos creando un plano horizontal que pase por una coordenada Z específica, a la cual agregaremos el valor de ley de Cu.\\\n",
    "Primero, seleccionaremos aquellos bloques que pasen por el plano/sección usando la lista de coordenadas `x`, `y` y `z`:"
   ]
  },
  {
   "cell_type": "code",
   "execution_count": null,
   "id": "e5e0d47f-88e9-47f9-a657-eda314eb8183",
   "metadata": {},
   "outputs": [],
   "source": [
    "print(f\"La coordenada X tiene {len(x)} bloques de extensión\")\n",
    "print(f\"La coordenada Y tiene {len(y)} bloques de extensión\")\n",
    "print(f\"La coordenada Z tiene {len(z)} bloques de extensión\")"
   ]
  },
  {
   "cell_type": "code",
   "execution_count": null,
   "id": "8f5bd20d-6ac2-4a5a-8cb3-46ba1f1d90cf",
   "metadata": {
    "id": "YhGBZuMX6ebm"
   },
   "outputs": [],
   "source": [
    "# Asignamos un nivel horizontal para el eje Z\n",
    "i = 50\n",
    "\n",
    "# Asignamos el nombre de la columna a visualizar\n",
    "col = \"Color_CU\"\n",
    "\n",
    "# Seleccionamos aquella parte del modelo que tenga el nivel asignado\n",
    "corte = modelo[modelo[\"Z\"] == z[i]]"
   ]
  },
  {
   "cell_type": "markdown",
   "id": "0358376c-f156-4e49-b029-ad9493a9818b",
   "metadata": {},
   "source": [
    "Los cortes que generemos solamente incluirán aquellos bloques que pasen por una coordenada X/Y/Z específica.\\\n",
    "En este caso, los bloques cortan el nivel $Z=600$:"
   ]
  },
  {
   "cell_type": "code",
   "execution_count": null,
   "id": "74ef1d8c-a2fd-4d81-9942-822b148eb96b",
   "metadata": {},
   "outputs": [],
   "source": [
    "corte.head()"
   ]
  },
  {
   "cell_type": "markdown",
   "id": "85a3cd3b-28af-4b80-8248-63f267ce7ba2",
   "metadata": {},
   "source": [
    "Usando los bloques de este DataFrame, podemos crear un plano/sección de corte del modelo:"
   ]
  },
  {
   "cell_type": "code",
   "execution_count": null,
   "id": "d1904df3-983d-45c5-a3db-c6517f3dbdb0",
   "metadata": {
    "colab": {
     "base_uri": "https://localhost:8080/",
     "height": 662
    },
    "executionInfo": {
     "elapsed": 741,
     "status": "ok",
     "timestamp": 1621630313685,
     "user": {
      "displayName": "Kevin Alexander",
      "photoUrl": "https://lh3.googleusercontent.com/a-/AOh14Gj-Rs-LfklKX8lspYhHOYwfD0WdKiFuf1xpEcgsvw=s64",
      "userId": "13061882144601312071"
     },
     "user_tz": 300
    },
    "id": "Pfz3v9K82rkm",
    "outputId": "e24754b4-3486-4cdd-e9de-c8ff4ca360a6"
   },
   "outputs": [],
   "source": [
    "# Figura principal\n",
    "fig, ax = plt.subplots(figsize=(12, 10), subplot_kw={\"aspect\": 1})\n",
    "\n",
    "# Diagrama de dispersión\n",
    "ax.scatter(corte[\"X\"], corte[\"Y\"], c=corte[col], marker=\"s\", s=5)\n",
    "\n",
    "# Estableciendo los ticks para X e Y\n",
    "ax.set_xticks(rango_x)\n",
    "ax.set_yticks(rango_y)\n",
    "\n",
    "# Agregamos etiquetas a los ejes\n",
    "ax.set_xlabel(\"Este (m)\", fontsize=25)\n",
    "ax.set_ylabel(\"Norte (m)\", fontsize=25)\n",
    "\n",
    "# Leyenda\n",
    "for ley, color in color_cu.items():\n",
    "    ax.scatter([], [], c=color, marker=\"s\", s=100, label=ley)\n",
    "ax.legend(loc=(1.03, 0.5), fontsize=20)\n",
    "\n",
    "# Título\n",
    "ax.set_title(f\"Z = {z[i]:.0f} m\", fontsize=30)\n",
    "\n",
    "# Grilla\n",
    "ax.grid(linewidth=0.4, color=\"black\")\n",
    "ax.set_axisbelow(False)\n",
    "\n",
    "# Límites\n",
    "ax.set_xlim(x_min, x_max)\n",
    "ax.set_ylim(y_min, y_max)\n",
    "\n",
    "plt.show()"
   ]
  },
  {
   "cell_type": "markdown",
   "id": "de7a373c-1760-4e49-9c5d-2a6a2e902cec",
   "metadata": {
    "id": "z8gpzCoYXCFh",
    "jp-MarkdownHeadingCollapsed": true,
    "tags": []
   },
   "source": [
    "Un solo plano/sección no es suficiente para entender la distribución espacial del modelo así que ahora crearemos una herramienta interactiva para visualizar varios cortes de manera rápida y eficiente. "
   ]
  },
  {
   "cell_type": "markdown",
   "id": "7742fe65-6a2a-4898-b1af-a80feac6ed4c",
   "metadata": {
    "id": "AJRJ9BaiW17p"
   },
   "source": [
    "### **Visualización interactiva usando widgets de Jupyter**\n",
    "Usaremos el código del gráfico anterior y la función `interact` para generar una visualización interactiva:"
   ]
  },
  {
   "cell_type": "code",
   "execution_count": null,
   "id": "fd90229c-a377-401b-9304-916fd9fa3edc",
   "metadata": {
    "colab": {
     "base_uri": "https://localhost:8080/",
     "height": 776,
     "referenced_widgets": [
      "21928b7936fe43ba85265d8956a86628",
      "d3a0baa016ba4678870f0560c3848986",
      "c9ecc80d774849b18775c0ed1dae4c68",
      "2695de72f8f9488fbef1f1f213d4b75d",
      "35f639d0910e44849323b980b39ae6cc",
      "34fb6982fca343a8b773c64cc9a76fe8",
      "40fb129206cf4ed3ad61b8a079a35143",
      "beca83ef666d4ad4846570dd41d30e90",
      "3a44a2edf23e4cec9aef557aeacd598a",
      "92bc210b18ee4835bf952c5b17ed1643"
     ]
    },
    "executionInfo": {
     "elapsed": 1254,
     "status": "ok",
     "timestamp": 1621632916706,
     "user": {
      "displayName": "Kevin Alexander",
      "photoUrl": "https://lh3.googleusercontent.com/a-/AOh14Gj-Rs-LfklKX8lspYhHOYwfD0WdKiFuf1xpEcgsvw=s64",
      "userId": "13061882144601312071"
     },
     "user_tz": 300
    },
    "id": "3m8LYBeblLjy",
    "outputId": "d9253e0c-49e9-4bd3-9c50-22f375106378"
   },
   "outputs": [],
   "source": [
    "# Definimos la función para graficar un corte paralelo al plano xy del modelo de bloques\n",
    "def corte_xy(i, col):\n",
    "    # Selección de bloques\n",
    "    corte = modelo[modelo[\"Z\"] == z[i]]\n",
    "\n",
    "    # Figura principal\n",
    "    fig, ax = plt.subplots(figsize=(15, 8), subplot_kw={\"aspect\": 1})\n",
    "    \n",
    "    # Crea un gráfico de acuerdo al tipo de columna seleccionada\n",
    "    if col == \"CU\":\n",
    "        ax.scatter(corte[\"X\"], corte[\"Y\"], c=corte[\"Color_CU\"], marker=\"s\", s=5)\n",
    "        for ley, color in color_cu.items():\n",
    "            ax.scatter([], [], c=color, marker=\"s\", s=100, label=ley)\n",
    "        ax.legend(loc=(1.03, 0.5), fontsize=20)\n",
    "    elif col == \"MO\":\n",
    "        ax.scatter(corte[\"X\"], corte[\"Y\"], c=corte[\"Color_MO\"], marker=\"s\", s=5)\n",
    "        for ley, color in color_mo.items():\n",
    "            ax.scatter([], [], c=color, marker=\"s\", s=100, label=ley)\n",
    "        ax.legend(loc=(1.03, 0.5), fontsize=20)\n",
    "    elif col == \"LITO\":\n",
    "        ax.scatter(corte[\"X\"], corte[\"Y\"], c=corte[\"Color_LITO\"], marker=\"s\", s=5)\n",
    "        for ley, color in color_lito.items():\n",
    "            ax.scatter([], [], c=color, marker=\"s\", s=100, label=ley)\n",
    "        ax.legend(loc=(1.03, 0.5), fontsize=20)\n",
    "\n",
    "    # Establecemos los ticks\n",
    "    ax.set_xticks(rango_x)\n",
    "    ax.set_yticks(rango_y)\n",
    "\n",
    "    # Grilla\n",
    "    ax.grid(linewidth=0.3, color=\"black\")  \n",
    "    ax.set_axisbelow(False) # Coloca la grilla por encima de la figura\n",
    "  \n",
    "    # Límites de la figura\n",
    "    ax.set_xlim(x_min, x_max)\n",
    "    ax.set_ylim(y_min, y_max)\n",
    "    \n",
    "    # Título\n",
    "    ax.set_title(f\"Elevación = {z[i]:.0f} m\", fontsize=30)\n",
    "    \n",
    "    # Etiquetas de los ejes\n",
    "    ax.set_xlabel(\"Este (m)\", fontsize=24)\n",
    "    ax.set_ylabel(\"Norte (m)\", fontsize=24)\n",
    "    \n",
    "    # Ajuste de figura\n",
    "    plt.subplots_adjust(bottom=0, right=1.0, top=0.8)\n",
    "    \n",
    "    plt.show()\n",
    "\n",
    "widgets.interact(corte_xy, i=(10, len(z)-10, 10), col=[\"CU\", \"MO\", \"LITO\"]);"
   ]
  },
  {
   "cell_type": "code",
   "execution_count": null,
   "id": "301738b2-564f-4858-93d8-c086a1fae1fb",
   "metadata": {
    "colab": {
     "base_uri": "https://localhost:8080/",
     "height": 776,
     "referenced_widgets": [
      "46eb276e624b4cd9bf98d0f67020b624",
      "6f309854d02e428b88cd6a293d365cb3",
      "de7d075e1e6a4405bdc65f217419c804",
      "db6040ef395d4b96adb7d232fc51bcd9",
      "9f69d78920e4442f91be4bc9e8552baf",
      "d128100f8c85496da946ff937d77991c",
      "561fe2689a174f84a560fc3ed320d8b8",
      "31c02ed1be0f404abc172e29cc780ab4",
      "a76111532046428c883e09077f7aea2b",
      "3ee5e2a9c01645e8bb5ceea05bfc4381"
     ]
    },
    "executionInfo": {
     "elapsed": 1311,
     "status": "ok",
     "timestamp": 1621632921866,
     "user": {
      "displayName": "Kevin Alexander",
      "photoUrl": "https://lh3.googleusercontent.com/a-/AOh14Gj-Rs-LfklKX8lspYhHOYwfD0WdKiFuf1xpEcgsvw=s64",
      "userId": "13061882144601312071"
     },
     "user_tz": 300
    },
    "id": "6qSQfY2vU-Gx",
    "outputId": "ee8dcee2-484a-40f5-d06f-cb38257eeab0"
   },
   "outputs": [],
   "source": [
    "# Definimos la función para graficar un corte paralelo al plano xz del modelo de bloques\n",
    "def corte_xz(i, col):\n",
    "    # Selección de bloques\n",
    "    corte = modelo[modelo[\"Y\"] == y[i]]\n",
    "\n",
    "    # Figura principal\n",
    "    fig, ax = plt.subplots(figsize=(15, 8), subplot_kw={\"aspect\": 1})\n",
    "    \n",
    "    # Crea un gráfico de acuerdo al tipo de columna seleccionada\n",
    "    if col == \"CU\":\n",
    "        ax.scatter(corte[\"X\"], corte[\"Z\"], c=corte[\"Color_CU\"], marker=\"s\", s=10)\n",
    "        for ley, color in color_cu.items():\n",
    "            ax.scatter([], [], c=color, marker=\"s\", s=100, label=ley)\n",
    "        ax.legend(loc=(1.03, 0.5), fontsize=20)\n",
    "    elif col == \"MO\":\n",
    "        ax.scatter(corte[\"X\"], corte[\"Z\"], c=corte[\"Color_MO\"], marker=\"s\", s=10)\n",
    "        for ley, color in color_mo.items():\n",
    "            ax.scatter([], [], c=color, marker=\"s\", s=100, label=ley)\n",
    "        ax.legend(loc=(1.03, 0.5), fontsize=20)\n",
    "    elif col == \"LITO\":\n",
    "        ax.scatter(corte[\"X\"], corte[\"Z\"], c=corte[\"Color_LITO\"], marker=\"s\", s=10)\n",
    "        for ley, color in color_lito.items():\n",
    "            ax.scatter([], [], c=color, marker=\"s\", s=100, label=ley)\n",
    "        ax.legend(loc=(1.03, 0.5), fontsize=20)\n",
    "\n",
    "    # Establecemos los ticks\n",
    "    ax.set_xticks(rango_x)\n",
    "    ax.set_yticks(rango_z)\n",
    "\n",
    "    # Grilla\n",
    "    ax.grid(linewidth=0.3, color=\"black\")  \n",
    "    ax.set_axisbelow(False) # Coloca la grilla por encima de la figura\n",
    "  \n",
    "    # Límites de la figura\n",
    "    ax.set_xlim(x_min, x_max)\n",
    "    ax.set_ylim(z_min, z_max)\n",
    "    \n",
    "    # Título\n",
    "    ax.set_title(f\"Norte = {y[i]:.0f} m\", fontsize=30)\n",
    "    \n",
    "    # Etiquetas de los ejes\n",
    "    ax.set_xlabel(\"Este (m)\", fontsize=24)\n",
    "    ax.set_ylabel(\"Elevación (m)\", fontsize=24)\n",
    "    \n",
    "    # Ajuste de figura\n",
    "    plt.subplots_adjust(bottom=0, right=1.0, top=0.8)\n",
    "    \n",
    "    plt.show()\n",
    "\n",
    "widgets.interact(corte_xz, i=(10, len(y)-10, 10), col=[\"CU\", \"MO\", \"LITO\"]);"
   ]
  },
  {
   "cell_type": "code",
   "execution_count": null,
   "id": "827fd453-e7f9-4270-9c6c-b66d7b05e813",
   "metadata": {
    "id": "5_1Y9NiM__tv"
   },
   "outputs": [],
   "source": [
    "# Definimos la función para graficar un corte paralelo al plano yz del modelo de bloques\n",
    "def corte_yz(i, col):\n",
    "    # Selección de bloques\n",
    "    corte = modelo[modelo[\"X\"] == x[i]]\n",
    "\n",
    "    # Figura principal\n",
    "    fig, ax = plt.subplots(figsize=(15, 8), subplot_kw={\"aspect\": 1})\n",
    "    \n",
    "    # Crea un gráfico de acuerdo al tipo de columna seleccionada\n",
    "    if col == \"CU\":\n",
    "        ax.scatter(corte[\"Y\"], corte[\"Z\"], c=corte[\"Color_CU\"], marker=\"s\", s=10)\n",
    "        for ley, color in color_cu.items():\n",
    "            ax.scatter([], [], c=color, marker=\"s\", s=100, label=ley)\n",
    "        ax.legend(loc=(1.03, 0.5), fontsize=20)\n",
    "    elif col == \"MO\":\n",
    "        ax.scatter(corte[\"Y\"], corte[\"Z\"], c=corte[\"Color_MO\"], marker=\"s\", s=10)\n",
    "        for ley, color in color_mo.items():\n",
    "            ax.scatter([], [], c=color, marker=\"s\", s=100, label=ley)\n",
    "        ax.legend(loc=(1.03, 0.5), fontsize=20)\n",
    "    elif col == \"LITO\":\n",
    "        ax.scatter(corte[\"Y\"], corte[\"Z\"], c=corte[\"Color_LITO\"], marker=\"s\", s=10)\n",
    "        for ley, color in color_lito.items():\n",
    "            ax.scatter([], [], c=color, marker=\"s\", s=100, label=ley)\n",
    "        ax.legend(loc=(1.03, 0.5), fontsize=20)\n",
    "\n",
    "    # Establecemos los ticks\n",
    "    ax.set_xticks(rango_y)\n",
    "    ax.set_yticks(rango_z)\n",
    "\n",
    "    # Grilla\n",
    "    ax.grid(linewidth=0.3, color=\"black\")  \n",
    "    ax.set_axisbelow(False) # Coloca la grilla por encima de la figura\n",
    "  \n",
    "    # Límites de la figura\n",
    "    ax.set_xlim(y_min, y_max)\n",
    "    ax.set_ylim(z_min, z_max)\n",
    "    \n",
    "    # Título\n",
    "    ax.set_title(f\"Este = {x[i]:.0f} m\", fontsize=30)\n",
    "    \n",
    "    # Etiquetas de los ejes\n",
    "    ax.set_xlabel(\"Norte (m)\", fontsize=24)\n",
    "    ax.set_ylabel(\"Elevación (m)\", fontsize=24)\n",
    "    \n",
    "    # Ajuste de figura\n",
    "    plt.subplots_adjust(bottom=0, right=1.0, top=0.8)\n",
    "    \n",
    "    plt.show()\n",
    "\n",
    "widgets.interact(corte_yz, i=(10, len(x)-10, 10), col=[\"CU\", \"MO\", \"LITO\"]);"
   ]
  },
  {
   "cell_type": "markdown",
   "id": "9b64ae40-d289-4db1-bce0-2c6d54a4354c",
   "metadata": {
    "tags": []
   },
   "source": [
    "## **4.2. Visualización 3D del modelo de bloques**\n",
    "Ahora que hemos verificado la distribución espacial del modelo en 2D, usaremos la librería `vpython` para observar en 3D el modelo de bloques.\\\n",
    "Primero, vamos a extraer aquellos bloques que forman la superficie del modelo, divididos de acuerdo a una categoría (litología, ley, etc.):\n",
    "> La función `display` nos permitirá mostrar cualquier tipo de objeto dentro de Jupyter (incluyendo widgets de Jupyter)."
   ]
  },
  {
   "cell_type": "code",
   "execution_count": null,
   "id": "ff778538-1085-437e-b180-18d470bd70a1",
   "metadata": {},
   "outputs": [],
   "source": [
    "from vpython import *\n",
    "from IPython.display import display"
   ]
  },
  {
   "cell_type": "code",
   "execution_count": null,
   "id": "8a2b30fe-7676-4955-b3aa-eaa1746c00d6",
   "metadata": {},
   "outputs": [],
   "source": [
    "def extract_surface(model, feature, cellsize=10):\n",
    "    print(f\"Extracción de bloques superficiales para un modelo de {len(model)} bloques\")\n",
    "    \n",
    "    features = list(model[feature].unique())\n",
    "    blocks = []\n",
    "    \n",
    "    for name in features:\n",
    "        df = model[model[feature] == name]\n",
    "        zmax = df[\"Z\"].max()\n",
    "        ymax = df[\"Y\"].max()\n",
    "        xmax = df[\"X\"].max()\n",
    "\n",
    "        zmin = df[\"Z\"].min()\n",
    "        ymin = df[\"Y\"].min()\n",
    "        xmin = df[\"X\"].min()\n",
    "\n",
    "        zcells = int((zmax - zmin)/cellsize)\n",
    "        ycells = int((ymax - ymin)/cellsize)\n",
    "        xcells = int((xmax - xmin)/cellsize)\n",
    "        \n",
    "        for x in tqdm(range(0, xcells + 1)):\n",
    "            yz = df[df[\"X\"] == (xmin + cellsize*x)]\n",
    "            for y in range(0, ycells + 1):\n",
    "                z = yz[yz[\"Y\"] == (ymin + cellsize*y)]\n",
    "                if len(z) != 0:\n",
    "                    block1 = z[z[\"Z\"] == z[\"Z\"].max()].values[0]\n",
    "                    block2 = z[z[\"Z\"] == z[\"Z\"].min()].values[0]\n",
    "                    blocks.append(list(block1))\n",
    "                    blocks.append(list(block2))\n",
    "        \n",
    "        for z in tqdm(range(0, zcells + 1)):\n",
    "            xy = df[df[\"Z\"] == (zmin + cellsize*z)]\n",
    "            for y in range(0, ycells + 1):\n",
    "                x = xy[xy[\"Y\"] == (ymin + cellsize*y)]\n",
    "                if len(x) != 0:\n",
    "                    block1 = x[x[\"X\"] == x[\"X\"].max()].values[0]\n",
    "                    block2 = x[x[\"X\"] == x[\"X\"].min()].values[0]\n",
    "                    blocks.append(list(block1))\n",
    "                    blocks.append(list(block2))\n",
    "        \n",
    "        for z in tqdm(range(0, zcells + 1)):\n",
    "            xy = df[df[\"Z\"] == (zmin + cellsize*z)]\n",
    "            for x in range(0, xcells + 1):\n",
    "                y = xy[xy[\"X\"] == (xmin + cellsize*x)]\n",
    "                if len(y) != 0:\n",
    "                    block1 = y[y[\"Y\"] == y[\"Y\"].max()].values[0]\n",
    "                    block2 = y[y[\"Y\"] == y[\"Y\"].min()].values[0]\n",
    "                    blocks.append(list(block1))\n",
    "                    blocks.append(list(block2))\n",
    "    \n",
    "    # DataFrame con los bloques seleccionados\n",
    "    blocks = pd.DataFrame(blocks, columns=model.columns).drop_duplicates()\n",
    "    \n",
    "    # Final\n",
    "    print(f\"Proceso finalizado, se extrajeron {len(blocks)} bloques superficiales.\")\n",
    "    print(f\"Reducción del {(len(model) - len(blocks))/len(model):.1%} del modelo original.\")\n",
    "    \n",
    "    return blocks"
   ]
  },
  {
   "cell_type": "markdown",
   "id": "4e133c6f-ea1e-42eb-91dc-e3cf15a1a1f6",
   "metadata": {},
   "source": [
    "Usando la función `surface`, extraemos los bloques superficiales del modelo, separados de acuerdo a la litología:"
   ]
  },
  {
   "cell_type": "code",
   "execution_count": null,
   "id": "8f312c57-7be7-4143-8f71-a2804d0bd2d2",
   "metadata": {},
   "outputs": [],
   "source": [
    "surface = extract_surface(modelo, \"LITO\")"
   ]
  },
  {
   "cell_type": "markdown",
   "id": "080c7419-f2f1-4700-b5b2-ba85126278c5",
   "metadata": {},
   "source": [
    "Reducimos la cantidad de bloques a visualizar en aproximadamente un 84%:"
   ]
  },
  {
   "cell_type": "code",
   "execution_count": null,
   "id": "bf6873ae-d65d-4eda-aa7c-dd3bf4a2ccc0",
   "metadata": {},
   "outputs": [],
   "source": [
    "surface"
   ]
  },
  {
   "cell_type": "markdown",
   "id": "78649beb-acab-421a-88e5-118a112778a4",
   "metadata": {},
   "source": [
    "Para agregar color a un modelo de bloques usando `vpython`, debemos transformar los colores de la categoría a RGB normalizado:\n",
    "> RGB normalizado se representa por una tupla de 3 valores numéricos (red, green blue), cuya suma es igual a 1."
   ]
  },
  {
   "cell_type": "code",
   "execution_count": null,
   "id": "efff4fa4-4138-4899-8954-6a438fd48d5a",
   "metadata": {},
   "outputs": [],
   "source": [
    "from matplotlib import colors\n",
    "\n",
    "surface[\"Color\"] = surface[\"Color_LITO\"].apply(colors.to_rgb)"
   ]
  },
  {
   "cell_type": "code",
   "execution_count": null,
   "id": "e7222bd7-56f8-44ed-b157-39e3b76624b3",
   "metadata": {},
   "outputs": [],
   "source": [
    "surface.head()"
   ]
  },
  {
   "cell_type": "markdown",
   "id": "a4b3fa82-f70a-4e71-a3a9-c6a6158db177",
   "metadata": {},
   "source": [
    "Y ahora, graficamos el modelo 3D:"
   ]
  },
  {
   "cell_type": "code",
   "execution_count": null,
   "id": "36f12664-e2c1-4caf-ba13-140064c3e045",
   "metadata": {
    "tags": []
   },
   "outputs": [],
   "source": [
    "# 1. MODELO 3D\n",
    "# Origen en el centro del modelo\n",
    "scene = canvas(center=vector(max(x)/2, max(z)/2, max(y)/2))\n",
    "\n",
    "# Diccionario que almacenará cada sólido y su respectivo nombre\n",
    "solidos = dict()\n",
    "\n",
    "# Bucle para graficar cada sólido del modelo\n",
    "for lito in surface[\"LITO\"].unique():\n",
    "    df = surface[surface[\"LITO\"] == lito]\n",
    "    blocks = df[[\"X\", \"Z\", \"Y\", \"Color\"]].to_numpy()\n",
    "    \n",
    "    boxes = []\n",
    "    for block in blocks:\n",
    "        b = box(color=vector(*block[3]),\n",
    "                pos=vector(*block[:3]),\n",
    "                size=vector(10, 10, 10))\n",
    "        boxes.append(b)\n",
    "    \n",
    "    volume = compound(boxes)\n",
    "    solidos[lito] = volume\n",
    "\n",
    "# Iluminación del modelo 3D\n",
    "distant_light(direction=vector(1, 1, 1), color=vector(0.5, 0.5, 0.5))\n",
    "distant_light(direction=vector(1, 1, -1), color=vector(0.5, 0.5, 0.5))\n",
    "\n",
    "\n",
    "# 2. WIDGET PARA OCULTAR LOS SÓLIDOS DEL MODELO\n",
    "names = []\n",
    "checkbox_objects = []\n",
    "for lito in surface[\"LITO\"].unique():\n",
    "    checkbox_objects.append(widgets.Checkbox(value=True, description=lito))\n",
    "    names.append(lito)\n",
    "\n",
    "# Diccionario con el nombre de cada sólido y su respectivo widget\n",
    "checkbox_dict = {names[i]: checkbox for i, checkbox in enumerate(checkbox_objects)}\n",
    "\n",
    "# Interfaz de usuario (Caja de 3 filas x 2 columnas)\n",
    "ui = widgets.HBox([widgets.VBox(children=checkbox_objects[:3]),\n",
    "                   widgets.VBox(children=checkbox_objects[3:])])\n",
    "\n",
    "# Funcionalidad del widget\n",
    "def select_data(**kwargs):\n",
    "    for key in kwargs:\n",
    "        if kwargs[key] is True:\n",
    "            solidos[key].visible = True\n",
    "        else:\n",
    "            solidos[key].visible = False\n",
    "\n",
    "# Interacción entre la función y el diccionario a través de un output\n",
    "out = widgets.interactive_output(select_data, checkbox_dict)\n",
    "display(ui, out)"
   ]
  },
  {
   "cell_type": "markdown",
   "id": "80c5602e-da51-4183-a8a8-e56934c111f8",
   "metadata": {},
   "source": [
    "***"
   ]
  }
 ],
 "metadata": {
  "kernelspec": {
   "display_name": "Python 3 (ipykernel)",
   "language": "python",
   "name": "python3"
  },
  "language_info": {
   "codemirror_mode": {
    "name": "ipython",
    "version": 3
   },
   "file_extension": ".py",
   "mimetype": "text/x-python",
   "name": "python",
   "nbconvert_exporter": "python",
   "pygments_lexer": "ipython3",
   "version": "3.8.10"
  }
 },
 "nbformat": 4,
 "nbformat_minor": 5
}
